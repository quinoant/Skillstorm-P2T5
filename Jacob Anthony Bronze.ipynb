{
 "cells": [
  {
   "cell_type": "markdown",
   "metadata": {
    "application/vnd.databricks.v1+cell": {
     "cellMetadata": {},
     "inputWidgets": {},
     "nuid": "097d4676-9eac-4bed-87f6-b42ea359c49f",
     "showTitle": false,
     "title": ""
    }
   },
   "source": [
    "# README\n",
    "<p>This Notebook serves to read in the raw data (stored in the DBFS) and write it to a data lake</p>"
   ]
  },
  {
   "cell_type": "markdown",
   "metadata": {
    "application/vnd.databricks.v1+cell": {
     "cellMetadata": {
      "byteLimit": 2048000,
      "rowLimit": 10000
     },
     "inputWidgets": {},
     "nuid": "d897bcca-9c93-4de3-aa6a-f75399400854",
     "showTitle": false,
     "title": ""
    }
   },
   "source": [
    "# Reading In The Data"
   ]
  },
  {
   "cell_type": "code",
   "execution_count": 0,
   "metadata": {
    "application/vnd.databricks.v1+cell": {
     "cellMetadata": {
      "byteLimit": 2048000,
      "rowLimit": 10000
     },
     "inputWidgets": {},
     "nuid": "2632814a-1c19-4418-9214-c3a5d22b6518",
     "showTitle": false,
     "title": ""
    }
   },
   "outputs": [],
   "source": [
    "import pyspark.sql.functions as F"
   ]
  },
  {
   "cell_type": "code",
   "execution_count": 0,
   "metadata": {
    "application/vnd.databricks.v1+cell": {
     "cellMetadata": {
      "byteLimit": 2048000,
      "rowLimit": 10000
     },
     "inputWidgets": {},
     "nuid": "c89d7b30-0c3b-476d-9b68-ff36410688e1",
     "showTitle": false,
     "title": ""
    }
   },
   "outputs": [],
   "source": [
    "#Importing data\n",
    "df_bronze = (spark.read.format('json')\n",
    "      .option(\"header\",\"true\") \n",
    "      .option('inferColumnTypes', True)\n",
    "      .load('dbfs:/FileStore/tables/GHarchive/2022-01-14-*.json.gz')).limit(1000)"
   ]
  },
  {
   "cell_type": "code",
   "execution_count": 0,
   "metadata": {
    "application/vnd.databricks.v1+cell": {
     "cellMetadata": {
      "byteLimit": 2048000,
      "rowLimit": 10000
     },
     "inputWidgets": {},
     "nuid": "f9c56cd1-944e-4c8a-94c9-e98112c1a2ec",
     "showTitle": false,
     "title": ""
    }
   },
   "outputs": [],
   "source": [
    "df_bronze = df_bronze.withColumnRenamed(\"id\",\"header_id\")\n",
    "df_bronze = df_bronze.withColumnRenamed('created_at','header_created_at')"
   ]
  },
  {
   "cell_type": "markdown",
   "metadata": {
    "application/vnd.databricks.v1+cell": {
     "cellMetadata": {},
     "inputWidgets": {},
     "nuid": "27f2f651-f612-4941-8d7e-eef92654e046",
     "showTitle": false,
     "title": ""
    }
   },
   "source": [
    "# Getting Data Ready For Writing"
   ]
  },
  {
   "cell_type": "markdown",
   "metadata": {
    "application/vnd.databricks.v1+cell": {
     "cellMetadata": {
      "byteLimit": 2048000,
      "rowLimit": 10000
     },
     "inputWidgets": {},
     "nuid": "38b624ed-0bba-40ca-831f-02bb701c2b22",
     "showTitle": false,
     "title": ""
    }
   },
   "source": [
    "## Exploding"
   ]
  },
  {
   "cell_type": "code",
   "execution_count": 0,
   "metadata": {
    "application/vnd.databricks.v1+cell": {
     "cellMetadata": {
      "byteLimit": 2048000,
      "rowLimit": 10000
     },
     "inputWidgets": {},
     "nuid": "8786485a-7118-45f1-9cf0-47a6a1478c20",
     "showTitle": false,
     "title": ""
    }
   },
   "outputs": [],
   "source": [
    "df_bronze = df_bronze.select(\"actor.*\", \"header_created_at\", \"header_id\", \"repo\", \"org\", \"payload\", \"public\", \"type\")"
   ]
  },
  {
   "cell_type": "code",
   "execution_count": 0,
   "metadata": {
    "application/vnd.databricks.v1+cell": {
     "cellMetadata": {
      "byteLimit": 2048000,
      "rowLimit": 10000
     },
     "inputWidgets": {},
     "nuid": "45f07908-7659-4958-9074-2c5a1f2c4829",
     "showTitle": false,
     "title": ""
    }
   },
   "outputs": [],
   "source": [
    "df_bronze = df_bronze.withColumnRenamed(\"id\",\"actor_id\")\n",
    "df_bronze = df_bronze.withColumnRenamed(\"url\",\"actor_url\")\n",
    "df_bronze = df_bronze.withColumnRenamed(\"avatar_url\",\"actor_avatar_url\")\n",
    "df_bronze = df_bronze.withColumnRenamed(\"gravatar_id\",\"actor_gravatar_id\")\n",
    "df_bronze = df_bronze.withColumnRenamed(\"login\",\"actor_login\")"
   ]
  },
  {
   "cell_type": "code",
   "execution_count": 0,
   "metadata": {
    "application/vnd.databricks.v1+cell": {
     "cellMetadata": {
      "byteLimit": 2048000,
      "rowLimit": 10000
     },
     "inputWidgets": {},
     "nuid": "9e8c5f7e-e35c-4c8e-aa0c-474e651da732",
     "showTitle": false,
     "title": ""
    }
   },
   "outputs": [],
   "source": [
    "df_bronze = df_bronze.select('actor_avatar_url','display_login','actor_gravatar_id','actor_id','actor_login','actor_url','header_created_at','header_id','repo.*','org','payload','public','type')"
   ]
  },
  {
   "cell_type": "code",
   "execution_count": 0,
   "metadata": {
    "application/vnd.databricks.v1+cell": {
     "cellMetadata": {
      "byteLimit": 2048000,
      "rowLimit": 10000
     },
     "inputWidgets": {},
     "nuid": "18891019-8761-497a-8de4-5655fbbc616e",
     "showTitle": false,
     "title": ""
    }
   },
   "outputs": [],
   "source": [
    "df_bronze = df_bronze.withColumnRenamed('id','repo_id')\n",
    "df_bronze = df_bronze.withColumnRenamed(\"url\",\"repo_url\")"
   ]
  },
  {
   "cell_type": "code",
   "execution_count": 0,
   "metadata": {
    "application/vnd.databricks.v1+cell": {
     "cellMetadata": {
      "byteLimit": 2048000,
      "rowLimit": 10000
     },
     "inputWidgets": {},
     "nuid": "33b09bd2-d567-4821-ade0-0df0e47a704c",
     "showTitle": false,
     "title": ""
    }
   },
   "outputs": [],
   "source": [
    "df_bronze = df_bronze.select('actor_avatar_url','display_login','actor_gravatar_id','actor_id','actor_login','actor_url','header_created_at','header_id','repo_id','name','repo_url', 'org.*','payload','public','type')"
   ]
  },
  {
   "cell_type": "code",
   "execution_count": 0,
   "metadata": {
    "application/vnd.databricks.v1+cell": {
     "cellMetadata": {
      "byteLimit": 2048000,
      "rowLimit": 10000
     },
     "inputWidgets": {},
     "nuid": "2887dd9a-fbca-4ed8-bfeb-0c7380c0b308",
     "showTitle": false,
     "title": ""
    }
   },
   "outputs": [],
   "source": [
    "df_bronze = df_bronze.withColumnRenamed('id','org_id')\\\n",
    "            .withColumnRenamed(\"url\",\"org_url\").withColumnRenamed('login','org_login') \\\n",
    "            .withColumnRenamed(\"avatar_url\",\"org_avatar_url\").withColumnRenamed('gravatar_id','org_gravatar_id')"
   ]
  },
  {
   "cell_type": "markdown",
   "metadata": {
    "application/vnd.databricks.v1+cell": {
     "cellMetadata": {
      "byteLimit": 2048000,
      "rowLimit": 10000
     },
     "inputWidgets": {},
     "nuid": "7e4d9b0e-5a38-409d-b8aa-3024ae4f7aa4",
     "showTitle": false,
     "title": ""
    }
   },
   "source": [
    "## Solidifying Date for Partitioning"
   ]
  },
  {
   "cell_type": "code",
   "execution_count": 0,
   "metadata": {
    "application/vnd.databricks.v1+cell": {
     "cellMetadata": {
      "byteLimit": 2048000,
      "rowLimit": 10000
     },
     "inputWidgets": {},
     "nuid": "b67c6f50-054b-4f35-9645-95bc06ec3ca1",
     "showTitle": false,
     "title": ""
    }
   },
   "outputs": [],
   "source": [
    "#created_at\n",
    "#format\n",
    "#2022-01-01T17:00:17Z\n",
    "#T signifies start of time\n",
    "#Z just means UTC"
   ]
  },
  {
   "cell_type": "code",
   "execution_count": 0,
   "metadata": {
    "application/vnd.databricks.v1+cell": {
     "cellMetadata": {
      "byteLimit": 2048000,
      "rowLimit": 10000
     },
     "inputWidgets": {},
     "nuid": "02cdc243-e6bd-4f96-9297-8fb24cac9d1c",
     "showTitle": false,
     "title": ""
    }
   },
   "outputs": [],
   "source": [
    "df_bronze = df_bronze.withColumn('date_created',F.from_unixtime(F.unix_timestamp('header_created_at', \"yyyy-MM-dd'T'HH:mm:ss'Z'\")))\\\n",
    "    .withColumn('day_created',F.dayofmonth('date_created'))"
   ]
  },
  {
   "cell_type": "code",
   "execution_count": 0,
   "metadata": {
    "application/vnd.databricks.v1+cell": {
     "cellMetadata": {
      "byteLimit": 2048000,
      "rowLimit": 10000
     },
     "inputWidgets": {},
     "nuid": "271cd534-0821-461d-8fef-844b079b16f9",
     "showTitle": false,
     "title": ""
    }
   },
   "outputs": [
    {
     "output_type": "stream",
     "name": "stdout",
     "output_type": "stream",
     "text": [
      "+-----------+\n|day_created|\n+-----------+\n|         14|\n+-----------+\n\n"
     ]
    }
   ],
   "source": [
    "df_bronze.select('day_created').distinct().show()"
   ]
  },
  {
   "cell_type": "markdown",
   "metadata": {
    "application/vnd.databricks.v1+cell": {
     "cellMetadata": {
      "byteLimit": 2048000,
      "rowLimit": 10000
     },
     "inputWidgets": {},
     "nuid": "90c5b5c7-b34d-402f-bd64-84c25c13fe97",
     "showTitle": false,
     "title": ""
    }
   },
   "source": [
    "# Partitioning And Writing The Data To A Data Lake\n",
    "Seperating days into 80-140 Mb partitions"
   ]
  },
  {
   "cell_type": "code",
   "execution_count": 0,
   "metadata": {
    "application/vnd.databricks.v1+cell": {
     "cellMetadata": {
      "byteLimit": 2048000,
      "rowLimit": 10000
     },
     "inputWidgets": {},
     "nuid": "b23a8334-94a6-4d87-853b-677a946a43b6",
     "showTitle": false,
     "title": ""
    }
   },
   "outputs": [],
   "source": [
    "bronze_path = \"dbfs:/FileStore/JA/Bronze_layer_Test_2\""
   ]
  },
  {
   "cell_type": "code",
   "execution_count": 0,
   "metadata": {
    "application/vnd.databricks.v1+cell": {
     "cellMetadata": {
      "byteLimit": 2048000,
      "rowLimit": 10000
     },
     "inputWidgets": {},
     "nuid": "48f8a996-baca-4aec-b47d-7d2e9d30efda",
     "showTitle": false,
     "title": ""
    }
   },
   "outputs": [],
   "source": [
    "contname = 'team5-project2' #azure storage account container\n",
    "#THIS WILL CHANGE BASED ON TEAM: 'team2-project2', 'team3-project2', etc.\n",
    "\n",
    "storage_acct_name = '20230821desa'\n",
    "\n",
    "client_id = 'de4ff859-02b1-4e2f-9d16-b578fa03df4f' #aka: app id\n",
    "\n",
    "tenant_id = '33da9f3f-4c1a-4640-8ce1-3f63024aea1d' #aka: directory id\n",
    "\n",
    "service_credential = dbutils.secrets.get(scope=\"databricks-app-kv\",key=\"databricks-application\")"
   ]
  },
  {
   "cell_type": "code",
   "execution_count": 0,
   "metadata": {
    "application/vnd.databricks.v1+cell": {
     "cellMetadata": {
      "byteLimit": 2048000,
      "rowLimit": 10000
     },
     "inputWidgets": {},
     "nuid": "09327714-d39a-43d0-a787-17d682640c6a",
     "showTitle": false,
     "title": ""
    }
   },
   "outputs": [],
   "source": [
    "df_bronze = df_bronze.repartition(25)\n",
    "df_bronze.write.format('parquet')\\\n",
    "    .partitionBy('day_created')\\\n",
    "    .option(\"maxRecordsPerFile\", 143110)\\\n",
    "    .mode('overwrite')\\\n",
    "    .save(f'{bronze_path}')"
   ]
  },
  {
   "cell_type": "code",
   "execution_count": 0,
   "metadata": {
    "application/vnd.databricks.v1+cell": {
     "cellMetadata": {},
     "inputWidgets": {},
     "nuid": "6dc3f124-f009-4453-942e-1664b50be4f6",
     "showTitle": false,
     "title": ""
    }
   },
   "outputs": [],
   "source": []
  },
  {
   "cell_type": "code",
   "execution_count": 0,
   "metadata": {
    "application/vnd.databricks.v1+cell": {
     "cellMetadata": {},
     "inputWidgets": {},
     "nuid": "3993dcc7-53c9-406f-b32d-3c75fbe4dca7",
     "showTitle": false,
     "title": ""
    }
   },
   "outputs": [],
   "source": []
  }
 ],
 "metadata": {
  "application/vnd.databricks.v1+notebook": {
   "dashboards": [],
   "language": "python",
   "notebookMetadata": {
    "mostRecentlyExecutedCommandWithImplicitDF": {
     "commandId": 1500376686587572,
     "dataframes": [
      "_sqldf"
     ]
    },
    "pythonIndentUnit": 4
   },
   "notebookName": "Jacob Anthony Bronze",
   "widgets": {}
  }
 },
 "nbformat": 4,
 "nbformat_minor": 0
}
