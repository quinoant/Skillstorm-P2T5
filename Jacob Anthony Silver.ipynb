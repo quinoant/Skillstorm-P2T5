{
 "cells": [
  {
   "cell_type": "markdown",
   "metadata": {
    "application/vnd.databricks.v1+cell": {
     "cellMetadata": {},
     "inputWidgets": {},
     "nuid": "cce4e902-fe1a-48a3-b97d-f99dbab63cc2",
     "showTitle": false,
     "title": ""
    }
   },
   "source": [
    "# README\n",
    "This Notebook performs the necessary transformations to get the data from bronze into 3rd Normal Form then writes it to our Data Lake"
   ]
  },
  {
   "cell_type": "markdown",
   "metadata": {
    "application/vnd.databricks.v1+cell": {
     "cellMetadata": {
      "byteLimit": 2048000,
      "rowLimit": 10000
     },
     "inputWidgets": {},
     "nuid": "bf9f6d80-c459-4c6f-975d-64ac507d53d0",
     "showTitle": false,
     "title": ""
    }
   },
   "source": [
    "# Imports"
   ]
  },
  {
   "cell_type": "code",
   "execution_count": 0,
   "metadata": {
    "application/vnd.databricks.v1+cell": {
     "cellMetadata": {
      "byteLimit": 2048000,
      "rowLimit": 10000
     },
     "inputWidgets": {},
     "nuid": "a54471ca-d2ec-463f-95bd-de9677c9937c",
     "showTitle": false,
     "title": ""
    }
   },
   "outputs": [],
   "source": [
    "from pyspark.sql.types import *\n",
    "from pyspark.sql.functions import *\n",
    "from pyspark import SparkContext\n",
    "from pyspark.sql import Window"
   ]
  },
  {
   "cell_type": "markdown",
   "metadata": {
    "application/vnd.databricks.v1+cell": {
     "cellMetadata": {
      "byteLimit": 2048000,
      "rowLimit": 10000
     },
     "inputWidgets": {},
     "nuid": "ff767887-8594-489f-9bf4-374df8a24639",
     "showTitle": false,
     "title": ""
    }
   },
   "source": [
    "# Importing bronze layer"
   ]
  },
  {
   "cell_type": "code",
   "execution_count": 0,
   "metadata": {
    "application/vnd.databricks.v1+cell": {
     "cellMetadata": {
      "byteLimit": 2048000,
      "rowLimit": 10000
     },
     "inputWidgets": {},
     "nuid": "004ec38d-b392-43b8-980b-d37b48556e4d",
     "showTitle": false,
     "title": ""
    }
   },
   "outputs": [],
   "source": [
    "contname = 'team5-project2' #azure storage account container\n",
    "\n",
    "storage_acct_name = '20230821desa'\n",
    "\n",
    "client_id = 'de4ff859-02b1-4e2f-9d16-b578fa03df4f' #aka: app id\n",
    "\n",
    "tenant_id = '33da9f3f-4c1a-4640-8ce1-3f63024aea1d' #aka: directory id\n",
    "\n",
    "service_credential = dbutils.secrets.get(scope=\"databricks-app-kv\",key=\"databricks-application\")"
   ]
  },
  {
   "cell_type": "code",
   "execution_count": 0,
   "metadata": {
    "application/vnd.databricks.v1+cell": {
     "cellMetadata": {
      "byteLimit": 2048000,
      "rowLimit": 10000
     },
     "inputWidgets": {},
     "nuid": "4760ba09-e2f6-4361-8ed9-9dc30a20638a",
     "showTitle": false,
     "title": ""
    }
   },
   "outputs": [],
   "source": [
    "df_bronze = (spark.read.format('parquet')\n",
    "      .option(\"header\",\"true\")\n",
    "      .option('inferColumnTypes', True)\n",
    "      .load(f\"abfss://{contname}@{storage_acct_name}.dfs.core.windows.net/BronzeLayer/day_created=*\")).limit(1000)"
   ]
  },
  {
   "cell_type": "code",
   "execution_count": 0,
   "metadata": {
    "application/vnd.databricks.v1+cell": {
     "cellMetadata": {
      "byteLimit": 2048000,
      "rowLimit": 10000
     },
     "inputWidgets": {},
     "nuid": "5961f9c0-7a73-447d-befa-f7eba23abf53",
     "showTitle": false,
     "title": ""
    }
   },
   "outputs": [],
   "source": [
    "df_bronze = df_bronze.withColumnRenamed('name','repo_name')\n",
    "df_bronze = df_bronze.withColumnRenamed('type','action_type')\n",
    "df_bronze = df_bronze.withColumnRenamed('date_created','action_date_created')\n",
    "df_bronze = df_bronze.withColumnRenamed('header_id','action_id')"
   ]
  },
  {
   "cell_type": "code",
   "execution_count": 0,
   "metadata": {
    "application/vnd.databricks.v1+cell": {
     "cellMetadata": {
      "byteLimit": 2048000,
      "rowLimit": 10000
     },
     "inputWidgets": {},
     "nuid": "e5cdeef5-5d81-4790-a79d-985a86c7b746",
     "showTitle": false,
     "title": ""
    }
   },
   "outputs": [],
   "source": [
    "df_bronze.createOrReplaceTempView('raw_layer')"
   ]
  },
  {
   "cell_type": "markdown",
   "metadata": {
    "application/vnd.databricks.v1+cell": {
     "cellMetadata": {
      "byteLimit": 2048000,
      "rowLimit": 10000
     },
     "inputWidgets": {},
     "nuid": "82620dbe-7f98-4e79-9b4d-b40bb2b5647c",
     "showTitle": false,
     "title": ""
    }
   },
   "source": [
    "# Creating Tables"
   ]
  },
  {
   "cell_type": "markdown",
   "metadata": {
    "application/vnd.databricks.v1+cell": {
     "cellMetadata": {},
     "inputWidgets": {},
     "nuid": "c80e8954-8b2f-4686-8b3b-c6f92104c796",
     "showTitle": false,
     "title": ""
    }
   },
   "source": [
    "<p>Create the tables as defined in the Silver_erd, datatypes being autodetermined.<br>Dropping columns where more than 15% is null</p>"
   ]
  },
  {
   "cell_type": "markdown",
   "metadata": {
    "application/vnd.databricks.v1+cell": {
     "cellMetadata": {
      "byteLimit": 2048000,
      "rowLimit": 10000
     },
     "inputWidgets": {},
     "nuid": "6fe25e94-a782-4696-a6e1-1876c6a49a54",
     "showTitle": false,
     "title": ""
    }
   },
   "source": [
    "## Creating Organization Table"
   ]
  },
  {
   "cell_type": "code",
   "execution_count": 0,
   "metadata": {
    "application/vnd.databricks.v1+cell": {
     "cellMetadata": {
      "byteLimit": 2048000,
      "rowLimit": 10000
     },
     "inputWidgets": {},
     "nuid": "67204f4b-7f49-46f6-9ee1-2d77233f1655",
     "showTitle": false,
     "title": ""
    }
   },
   "outputs": [],
   "source": [
    "org_schema = StructType([\n",
    "  StructField('org_id', LongType(), True),\n",
    "  StructField('org_login', StringType(), True)\n",
    "  ])"
   ]
  },
  {
   "cell_type": "code",
   "execution_count": 0,
   "metadata": {
    "application/vnd.databricks.v1+cell": {
     "cellMetadata": {
      "byteLimit": 2048000,
      "rowLimit": 10000
     },
     "inputWidgets": {},
     "nuid": "702ac776-3f4d-4297-9939-cc0708d4b223",
     "showTitle": false,
     "title": ""
    }
   },
   "outputs": [],
   "source": [
    "df_org = spark.createDataFrame(df_bronze.select('org_id','org_login').rdd,org_schema)"
   ]
  },
  {
   "cell_type": "markdown",
   "metadata": {
    "application/vnd.databricks.v1+cell": {
     "cellMetadata": {
      "byteLimit": 2048000,
      "rowLimit": 10000
     },
     "inputWidgets": {},
     "nuid": "9e01bb02-4010-4efe-8ac9-a399d7beed59",
     "showTitle": false,
     "title": ""
    }
   },
   "source": [
    "\n",
    "## Creating Actor Table"
   ]
  },
  {
   "cell_type": "code",
   "execution_count": 0,
   "metadata": {
    "application/vnd.databricks.v1+cell": {
     "cellMetadata": {
      "byteLimit": 2048000,
      "rowLimit": 10000
     },
     "inputWidgets": {},
     "nuid": "876798af-5196-4bbf-a364-4a810e3d9538",
     "showTitle": false,
     "title": ""
    }
   },
   "outputs": [],
   "source": [
    "# It should turn into: \n",
    "# actor_id, actor_login, everything else is derived"
   ]
  },
  {
   "cell_type": "code",
   "execution_count": 0,
   "metadata": {
    "application/vnd.databricks.v1+cell": {
     "cellMetadata": {
      "byteLimit": 2048000,
      "rowLimit": 10000
     },
     "inputWidgets": {},
     "nuid": "0da22a6b-2597-458e-8db7-c1e0aa310ddb",
     "showTitle": false,
     "title": ""
    }
   },
   "outputs": [],
   "source": [
    "df_actor = spark.sql('SELECT actor_id, actor_login from raw_layer')"
   ]
  },
  {
   "cell_type": "markdown",
   "metadata": {
    "application/vnd.databricks.v1+cell": {
     "cellMetadata": {
      "byteLimit": 2048000,
      "rowLimit": 10000
     },
     "inputWidgets": {},
     "nuid": "7d7677bb-cf9b-487a-8cde-830933eabc2a",
     "showTitle": false,
     "title": ""
    }
   },
   "source": [
    "## Creating Action Table"
   ]
  },
  {
   "cell_type": "code",
   "execution_count": 0,
   "metadata": {
    "application/vnd.databricks.v1+cell": {
     "cellMetadata": {
      "byteLimit": 2048000,
      "rowLimit": 10000
     },
     "inputWidgets": {},
     "nuid": "68307379-9082-4d3e-b8bb-98c87b15ef78",
     "showTitle": false,
     "title": ""
    }
   },
   "outputs": [],
   "source": [
    "# Getting all the FKs to other tables found in each action\n",
    "df_action = df_bronze.select('action_id','action_type','action_date_created','payload.action',col('actor_id').alias('action_actor_id'),\\\n",
    "    col('org_id').alias('action_org_id'),\\\n",
    "    col('repo_id').alias('action_repo_id'),col(\"payload.comment.id\").alias('action_comment_id'),col(\"payload.pull_request.id\").alias('action_pull_request_id'),\\\n",
    "    col(\"payload.forkee.id\").alias('action_forkee_id'),col(\"payload.issue.id\").alias('action_issue_id'),col(\"payload.release.id\").alias('action_release_id'),\\\n",
    "    col(\"payload.review.id\").alias('action_review_id')).withColumn(\"action_id\",col(\"action_id\").cast(LongType()))\n"
   ]
  },
  {
   "cell_type": "markdown",
   "metadata": {
    "application/vnd.databricks.v1+cell": {
     "cellMetadata": {
      "byteLimit": 2048000,
      "rowLimit": 10000
     },
     "inputWidgets": {},
     "nuid": "71e4bae2-2bee-4239-8b2b-b2d1b89c60f7",
     "showTitle": false,
     "title": ""
    }
   },
   "source": [
    "## Creating Review Table"
   ]
  },
  {
   "cell_type": "code",
   "execution_count": 0,
   "metadata": {
    "application/vnd.databricks.v1+cell": {
     "cellMetadata": {
      "byteLimit": 2048000,
      "rowLimit": 10000
     },
     "inputWidgets": {},
     "nuid": "412b5198-e021-4fa4-a397-49940c7c525a",
     "showTitle": false,
     "title": ""
    }
   },
   "outputs": [],
   "source": [
    "df_review = spark.sql(\"\"\"SELECT author_association as review_author_assoication, body as review_body, \n",
    "  commit_id as review_commit_id, html_url as review_html_url, \n",
    "  id as review_id, node_id as review_node_id, pull_request_url as review_pull_request_url, state as review_state, submitted_at as created_at, user.id as review_actor_id FROM \n",
    "  (SELECT payload.review.* FROM raw_layer\n",
    "  WHERE payload.review IS NOT NULL) t1\"\"\")"
   ]
  },
  {
   "cell_type": "markdown",
   "metadata": {
    "application/vnd.databricks.v1+cell": {
     "cellMetadata": {
      "byteLimit": 2048000,
      "rowLimit": 10000
     },
     "inputWidgets": {},
     "nuid": "9fb879ff-fa25-4c3c-be03-8bf70bbf6696",
     "showTitle": false,
     "title": ""
    }
   },
   "source": [
    "## Creating Repo Table"
   ]
  },
  {
   "cell_type": "code",
   "execution_count": 0,
   "metadata": {
    "application/vnd.databricks.v1+cell": {
     "cellMetadata": {
      "byteLimit": 2048000,
      "rowLimit": 10000
     },
     "inputWidgets": {},
     "nuid": "ed41206d-3459-46e8-bca6-688d49b78759",
     "showTitle": false,
     "title": ""
    }
   },
   "outputs": [],
   "source": [
    "\n",
    "repo_schema = StructType([\n",
    "  StructField('repo_id', LongType(), True),\n",
    "  StructField('repo_name', StringType(), True),\n",
    "  StructField('public', BooleanType(), True),\n",
    "  StructField('repo_url', StringType(), True)\n",
    "  ])"
   ]
  },
  {
   "cell_type": "code",
   "execution_count": 0,
   "metadata": {
    "application/vnd.databricks.v1+cell": {
     "cellMetadata": {
      "byteLimit": 2048000,
      "rowLimit": 10000
     },
     "inputWidgets": {},
     "nuid": "f82e9b26-65b8-481e-964c-ce19deed1644",
     "showTitle": false,
     "title": ""
    }
   },
   "outputs": [],
   "source": [
    "df_repo = spark.createDataFrame(df_bronze.select('repo_id','repo_name','public','repo_url').rdd,repo_schema)"
   ]
  },
  {
   "cell_type": "markdown",
   "metadata": {
    "application/vnd.databricks.v1+cell": {
     "cellMetadata": {
      "byteLimit": 2048000,
      "rowLimit": 10000
     },
     "inputWidgets": {},
     "nuid": "c0110ff0-3a98-43ef-97c5-39332e9cd582",
     "showTitle": false,
     "title": ""
    }
   },
   "source": [
    "\n",
    "## Creating Comments Table"
   ]
  },
  {
   "cell_type": "markdown",
   "metadata": {
    "application/vnd.databricks.v1+cell": {
     "cellMetadata": {
      "byteLimit": 2048000,
      "rowLimit": 10000
     },
     "inputWidgets": {},
     "nuid": "7b2ffc22-9c0a-443a-93c0-8e8f89cbf4c3",
     "showTitle": false,
     "title": ""
    }
   },
   "source": [
    "\n",
    "### Dropped columns and why\n",
    "<ul>\n",
    "  <li>Start_line: Used when comments are referecing specific lines from files.</li>\n",
    "  <li>Start_side: Dictates which way the text will read from, and as such is not useful to us.</li>\n",
    "</ul>"
   ]
  },
  {
   "cell_type": "code",
   "execution_count": 0,
   "metadata": {
    "application/vnd.databricks.v1+cell": {
     "cellMetadata": {
      "byteLimit": 2048000,
      "rowLimit": 10000
     },
     "inputWidgets": {},
     "nuid": "805965e8-8463-4ba4-86a5-6164a030e4b9",
     "showTitle": false,
     "title": ""
    }
   },
   "outputs": [],
   "source": [
    "df_comments = df_bronze.filter('payload.comment IS NOT NULL').select('payload.comment.*')\n",
    "df_comments = df_comments.withColumn('user',col('user').id)\\\n",
    "                    .withColumn('comment_pull_request_url',coalesce(col('_links.pull_request.href'),col('issue_url')))\\\n",
    "                    .withColumn('reactions_url',col('reactions.url'))\\\n",
    "                    .withColumnRenamed('html_url','comment_html_url')\\\n",
    "                    .withColumnRenamed('url','comment_self_url')\\\n",
    "                    .withColumnRenamed('id','comment_id')\\\n",
    "                    .withColumnRenamed('in_reply_to_id','in_reply_to_comment_id')\\\n",
    "                    .withColumnRenamed('line','comment_line')\\\n",
    "                    .withColumnRenamed('path','comment_path')\\\n",
    "                    .withColumnRenamed('updated_at','updated_at')\\\n",
    "                    .withColumnRenamed('diff_hunk','comment_diff_hunk')\\\n",
    "                    .withColumnRenamed('body','comment_body')\\\n",
    "                    .withColumnRenamed('created_at','created_at')\\\n",
    "                    .withColumnRenamed('issue_url','comment_issue_url')\n",
    "df_comments = df_comments.drop('side','_links','performed_via_github_app','reactions')"
   ]
  },
  {
   "cell_type": "code",
   "execution_count": 0,
   "metadata": {
    "application/vnd.databricks.v1+cell": {
     "cellMetadata": {
      "byteLimit": 2048000,
      "rowLimit": 10000
     },
     "inputWidgets": {},
     "nuid": "b877e9ba-5776-445c-8bdd-7319a512ad0c",
     "showTitle": false,
     "title": ""
    }
   },
   "outputs": [],
   "source": [
    "df_comments = df_comments.dropDuplicates().drop('start_line','start_side','original_start_line')"
   ]
  },
  {
   "cell_type": "markdown",
   "metadata": {
    "application/vnd.databricks.v1+cell": {
     "cellMetadata": {
      "byteLimit": 2048000,
      "rowLimit": 10000
     },
     "inputWidgets": {},
     "nuid": "8b82fd71-6696-4504-9184-5be20c222352",
     "showTitle": false,
     "title": ""
    }
   },
   "source": [
    "## Creating Issue Table"
   ]
  },
  {
   "cell_type": "markdown",
   "metadata": {
    "application/vnd.databricks.v1+cell": {
     "cellMetadata": {
      "byteLimit": 2048000,
      "rowLimit": 10000
     },
     "inputWidgets": {},
     "nuid": "9c74a15d-ba35-4b3c-af49-51a3c9bfbb80",
     "showTitle": false,
     "title": ""
    }
   },
   "source": [
    "<ul>\n",
    "  <li>Dropping assignee because they are simply in the array of assignees.</li>\n",
    "  <li>Dropping active_lock_reason and performed_via_github_app because they were mainly nulls.</li>\n",
    "</ul>"
   ]
  },
  {
   "cell_type": "code",
   "execution_count": 0,
   "metadata": {
    "application/vnd.databricks.v1+cell": {
     "cellMetadata": {
      "byteLimit": 2048000,
      "rowLimit": 10000
     },
     "inputWidgets": {},
     "nuid": "939ea263-21d2-4af4-a337-98a9f596ea1c",
     "showTitle": false,
     "title": ""
    }
   },
   "outputs": [],
   "source": [
    "df_issue = df_bronze.filter('payload.issue IS NOT NULL').select('payload.issue.*').drop('active_lock_reason','assignee','performed_via_github_app')"
   ]
  },
  {
   "cell_type": "markdown",
   "metadata": {
    "application/vnd.databricks.v1+cell": {
     "cellMetadata": {
      "byteLimit": 2048000,
      "rowLimit": 10000
     },
     "inputWidgets": {},
     "nuid": "6f98bd1e-4b88-4758-a4e9-996466ada243",
     "showTitle": false,
     "title": ""
    }
   },
   "source": [
    "\n",
    "## Pull Request"
   ]
  },
  {
   "cell_type": "code",
   "execution_count": 0,
   "metadata": {
    "application/vnd.databricks.v1+cell": {
     "cellMetadata": {
      "byteLimit": 2048000,
      "implicitDf": true,
      "rowLimit": 10000
     },
     "inputWidgets": {},
     "nuid": "777e2cbc-10c0-46f8-8823-9b263b52e1cf",
     "showTitle": false,
     "title": ""
    }
   },
   "outputs": [
    {
     "output_type": "display_data",
     "data": {
      "text/html": [
       "<style scoped>\n",
       "  .table-result-container {\n",
       "    max-height: 300px;\n",
       "    overflow: auto;\n",
       "  }\n",
       "  table, th, td {\n",
       "    border: 1px solid black;\n",
       "    border-collapse: collapse;\n",
       "  }\n",
       "  th, td {\n",
       "    padding: 5px;\n",
       "  }\n",
       "  th {\n",
       "    text-align: left;\n",
       "  }\n",
       "</style><div class='table-result-container'><table class='table-result'><thead style='background-color: white'><tr><th>num_affected_rows</th><th>num_inserted_rows</th></tr></thead><tbody></tbody></table></div>"
      ]
     },
     "metadata": {
      "application/vnd.databricks.v1+output": {
       "addedWidgets": {},
       "aggData": [],
       "aggError": "",
       "aggOverflow": false,
       "aggSchema": [],
       "aggSeriesLimitReached": false,
       "aggType": "",
       "arguments": {},
       "columnCustomDisplayInfos": {},
       "data": [],
       "datasetInfos": [],
       "dbfsResultPath": null,
       "isJsonSchema": true,
       "metadata": {
        "dataframeName": "_sqldf",
        "executionCount": 29
       },
       "overflow": false,
       "plotOptions": {
        "customPlotOptions": {},
        "displayType": "table",
        "pivotAggregation": null,
        "pivotColumns": null,
        "xColumns": null,
        "yColumns": null
       },
       "removedWidgets": [],
       "schema": [
        {
         "metadata": "{}",
         "name": "num_affected_rows",
         "type": "\"long\""
        },
        {
         "metadata": "{}",
         "name": "num_inserted_rows",
         "type": "\"long\""
        }
       ],
       "type": "table"
      }
     },
     "output_type": "display_data"
    }
   ],
   "source": [
    "%sql\n",
    "--Create a simple Pull_request\n",
    "CREATE OR REPLACE TABLE pull_request\n",
    "AS SELECT payload.pull_request.* FROM raw_layer\n",
    "WHERE payload.pull_request IS NOT NULL"
   ]
  },
  {
   "cell_type": "code",
   "execution_count": 0,
   "metadata": {
    "application/vnd.databricks.v1+cell": {
     "cellMetadata": {
      "byteLimit": 2048000,
      "rowLimit": 10000
     },
     "inputWidgets": {},
     "nuid": "c512875c-07c9-4f0c-9d6b-c37dc6842e47",
     "showTitle": false,
     "title": ""
    }
   },
   "outputs": [],
   "source": [
    "# Renaming the columns to be in proper format, as well as dropping duplicates\n",
    "silver_pull_request = spark.sql(\"\"\"\n",
    "SELECT \n",
    "    base.label as pull_request_base_name, base.repo.id as pull_request_repo_id, base.user.id as pull_request_user_id,\n",
    "    created_at, updated_at, id as pull_request_id,\n",
    "    _links.comments.href as pull_request_comments_url,_links.commits.href as pull_request_commits_url,_links.html.href as pull_request_html_url,_links.self.href as pull_request_self_url,_links.statuses.href pull_request_status_url,\n",
    "    auto_merge.commit_message as pull_request_auto_merge_commit_message, auto_merge.commit_title as pull_request_auto_merge_commit_title, auto_merge.enabled_by.id as pull_request_auto_merge_enabled_by, auto_merge.merge_method as pull_request_auto_merge_method,\n",
    "    merged_by.id as pull_request_merged_by, milestone.id as pull_request_milestone_id,\n",
    "    head.label as pull_request_head_name,head.repo.id as pull_request_head_repo_id, head.user.id as pull_request_head_user_id\n",
    "FROM pull_request\n",
    "\"\"\").drop_duplicates()"
   ]
  },
  {
   "cell_type": "markdown",
   "metadata": {
    "application/vnd.databricks.v1+cell": {
     "cellMetadata": {
      "byteLimit": 2048000,
      "rowLimit": 10000
     },
     "inputWidgets": {},
     "nuid": "1ce11dbf-349d-421a-aa10-41ab4bfecbbd",
     "showTitle": false,
     "title": ""
    }
   },
   "source": [
    "## Milestone Table"
   ]
  },
  {
   "cell_type": "code",
   "execution_count": 0,
   "metadata": {
    "application/vnd.databricks.v1+cell": {
     "cellMetadata": {
      "byteLimit": 2048000,
      "rowLimit": 10000
     },
     "inputWidgets": {},
     "nuid": "c623f127-c2ee-4aa1-a355-6f5531264852",
     "showTitle": false,
     "title": ""
    }
   },
   "outputs": [],
   "source": [
    "silver_milestone = df_issue.select('milestone.*').dropna(subset=\"id\")\\\n",
    "    .withColumnRenamed(\"closed_at\",\"milestone_closed_at\")\\\n",
    "    .withColumnRenamed(\"closed_issues\",\"milestone_closed_issues\")\\\n",
    "    .withColumnRenamed(\"description\",\"milestone_description\")\\\n",
    "    .withColumnRenamed(\"due_on\",\"milestone_due_on\")\\\n",
    "    .withColumnRenamed(\"html_url\",\"milestone_html_url\")\\\n",
    "    .withColumnRenamed(\"id\",\"milestone_id\")\\\n",
    "    .withColumnRenamed(\"labels_url\",\"milestone_labels_url\")\\\n",
    "    .withColumnRenamed(\"node_id\",\"milestone_node_id\")\\\n",
    "    .withColumnRenamed(\"number\",\"milestone_number\")\\\n",
    "    .withColumnRenamed(\"open_issues\",\"milestone_open_issues\")\\\n",
    "    .withColumnRenamed(\"state\",\"milestone_state\")\\\n",
    "    .withColumnRenamed(\"title\",\"milestone_title\")\\\n",
    "    .withColumnRenamed(\"url\",\"milestone_url\")\n",
    "silver_milestone = silver_milestone.dropDuplicates(subset=['milestone_id'])"
   ]
  },
  {
   "cell_type": "code",
   "execution_count": 0,
   "metadata": {
    "application/vnd.databricks.v1+cell": {
     "cellMetadata": {
      "byteLimit": 2048000,
      "rowLimit": 10000
     },
     "inputWidgets": {},
     "nuid": "2f0523d8-4d8a-4025-8a9f-320d93a4eb4c",
     "showTitle": false,
     "title": ""
    }
   },
   "outputs": [],
   "source": [
    "silver_milestone = silver_milestone.union(\n",
    "    df_bronze.select('payload.pull_request.milestone.*').filter('payload.pull_request.milestone IS NOT NULL').dropna(subset=\"id\")\\\n",
    "    .withColumnRenamed(\"closed_at\",\"milestone_closed_at\")\\\n",
    "    .withColumnRenamed(\"closed_issues\",\"milestone_closed_issues\")\\\n",
    "    .withColumnRenamed(\"description\",\"milestone_description\")\\\n",
    "    .withColumnRenamed(\"due_on\",\"milestone_due_on\")\\\n",
    "    .withColumnRenamed(\"html_url\",\"milestone_html_url\")\\\n",
    "    .withColumnRenamed(\"id\",\"milestone_id\")\\\n",
    "    .withColumnRenamed(\"labels_url\",\"milestone_labels_url\")\\\n",
    "    .withColumnRenamed(\"node_id\",\"milestone_node_id\")\\\n",
    "    .withColumnRenamed(\"number\",\"milestone_number\")\\\n",
    "    .withColumnRenamed(\"open_issues\",\"milestone_open_issues\")\\\n",
    "    .withColumnRenamed(\"state\",\"milestone_state\")\\\n",
    "    .withColumnRenamed(\"title\",\"milestone_title\")\\\n",
    "    .withColumnRenamed(\"url\",\"milestone_url\"))"
   ]
  },
  {
   "cell_type": "markdown",
   "metadata": {
    "application/vnd.databricks.v1+cell": {
     "cellMetadata": {
      "byteLimit": 2048000,
      "rowLimit": 10000
     },
     "inputWidgets": {},
     "nuid": "16419820-afc9-46cc-b93f-f8479f573bb0",
     "showTitle": false,
     "title": ""
    }
   },
   "source": [
    "\n",
    "## Teams Table"
   ]
  },
  {
   "cell_type": "code",
   "execution_count": 0,
   "metadata": {
    "application/vnd.databricks.v1+cell": {
     "cellMetadata": {
      "byteLimit": 2048000,
      "implicitDf": true,
      "rowLimit": 10000
     },
     "inputWidgets": {},
     "nuid": "aba3fc0b-40b1-4e90-8ff9-b62f0d7350bd",
     "showTitle": false,
     "title": ""
    }
   },
   "outputs": [
    {
     "output_type": "display_data",
     "data": {
      "text/html": [
       "<style scoped>\n",
       "  .table-result-container {\n",
       "    max-height: 300px;\n",
       "    overflow: auto;\n",
       "  }\n",
       "  table, th, td {\n",
       "    border: 1px solid black;\n",
       "    border-collapse: collapse;\n",
       "  }\n",
       "  th, td {\n",
       "    padding: 5px;\n",
       "  }\n",
       "  th {\n",
       "    text-align: left;\n",
       "  }\n",
       "</style><div class='table-result-container'><table class='table-result'><thead style='background-color: white'><tr></tr></thead><tbody></tbody></table></div>"
      ]
     },
     "metadata": {
      "application/vnd.databricks.v1+output": {
       "addedWidgets": {},
       "aggData": [],
       "aggError": "",
       "aggOverflow": false,
       "aggSchema": [],
       "aggSeriesLimitReached": false,
       "aggType": "",
       "arguments": {},
       "columnCustomDisplayInfos": {},
       "data": [],
       "datasetInfos": [],
       "dbfsResultPath": null,
       "isJsonSchema": true,
       "metadata": {
        "dataframeName": null
       },
       "overflow": false,
       "plotOptions": {
        "customPlotOptions": {},
        "displayType": "table",
        "pivotAggregation": null,
        "pivotColumns": null,
        "xColumns": null,
        "yColumns": null
       },
       "removedWidgets": [],
       "schema": [],
       "type": "table"
      }
     },
     "output_type": "display_data"
    }
   ],
   "source": [
    "%sql\n",
    "-- Explode the array in requested teams to have its each individual row\n",
    "CREATE OR REPLACE TEMPORARY VIEW team_view AS\n",
    "SELECT col.* FROM (SELECT explode(requested_teams) FROM pull_request WHERE requested_teams IS NOT NULL) t1"
   ]
  },
  {
   "cell_type": "code",
   "execution_count": 0,
   "metadata": {
    "application/vnd.databricks.v1+cell": {
     "cellMetadata": {
      "byteLimit": 2048000,
      "implicitDf": true,
      "rowLimit": 10000
     },
     "inputWidgets": {},
     "nuid": "f50c03d7-3f4e-4869-8fba-5c53f17fb620",
     "showTitle": false,
     "title": ""
    }
   },
   "outputs": [
    {
     "output_type": "display_data",
     "data": {
      "text/html": [
       "<style scoped>\n",
       "  .table-result-container {\n",
       "    max-height: 300px;\n",
       "    overflow: auto;\n",
       "  }\n",
       "  table, th, td {\n",
       "    border: 1px solid black;\n",
       "    border-collapse: collapse;\n",
       "  }\n",
       "  th, td {\n",
       "    padding: 5px;\n",
       "  }\n",
       "  th {\n",
       "    text-align: left;\n",
       "  }\n",
       "</style><div class='table-result-container'><table class='table-result'><thead style='background-color: white'><tr><th>num_affected_rows</th><th>num_inserted_rows</th></tr></thead><tbody></tbody></table></div>"
      ]
     },
     "metadata": {
      "application/vnd.databricks.v1+output": {
       "addedWidgets": {},
       "aggData": [],
       "aggError": "",
       "aggOverflow": false,
       "aggSchema": [],
       "aggSeriesLimitReached": false,
       "aggType": "",
       "arguments": {},
       "columnCustomDisplayInfos": {},
       "data": [],
       "datasetInfos": [],
       "dbfsResultPath": null,
       "isJsonSchema": true,
       "metadata": {
        "dataframeName": "_sqldf",
        "executionCount": 35
       },
       "overflow": false,
       "plotOptions": {
        "customPlotOptions": {},
        "displayType": "table",
        "pivotAggregation": null,
        "pivotColumns": null,
        "xColumns": null,
        "yColumns": null
       },
       "removedWidgets": [],
       "schema": [
        {
         "metadata": "{}",
         "name": "num_affected_rows",
         "type": "\"long\""
        },
        {
         "metadata": "{}",
         "name": "num_inserted_rows",
         "type": "\"long\""
        }
       ],
       "type": "table"
      }
     },
     "output_type": "display_data"
    }
   ],
   "source": [
    "%sql\n",
    "DROP TABLE IF EXISTS teams;\n",
    "-- Rename the columns\n",
    "-- Ensure all parent teams are incorporated\n",
    "CREATE OR REPLACE TABLE teams AS \n",
    "SELECT * FROM (\n",
    "    SELECT description as team_description, html_url as team_html_url, \n",
    "  id as team_id, members_url as team_members_url, \n",
    "  name as team_name, node_id as team_node_id,\n",
    "  permission as team_permission, privacy as team_privacy,\n",
    "  repositories_url as team_repo_url, slug as team_slug,\n",
    "  url as team_url, regexp_substr(parent.repositories_url,'[0-9]+') as team_repo_id, parent.id as team_parent_id FROM team_view\n",
    "UNION\n",
    "SELECT parent.*, regexp_substr(parent.repositories_url,'[0-9]+'), null FROM team_view\n",
    "WHERE parent IS NOT NULL) t1;"
   ]
  },
  {
   "cell_type": "markdown",
   "metadata": {
    "application/vnd.databricks.v1+cell": {
     "cellMetadata": {
      "byteLimit": 2048000,
      "rowLimit": 10000
     },
     "inputWidgets": {},
     "nuid": "f4b4eef2-08e4-42d2-a048-a4be244ca256",
     "showTitle": false,
     "title": ""
    }
   },
   "source": [
    "\n",
    "## Timestamp 2.0 Easy edition"
   ]
  },
  {
   "cell_type": "code",
   "execution_count": 0,
   "metadata": {
    "application/vnd.databricks.v1+cell": {
     "cellMetadata": {
      "byteLimit": 2048000,
      "rowLimit": 10000
     },
     "inputWidgets": {},
     "nuid": "1a1ba68d-2c5d-441c-ba51-c0d08d95bb4f",
     "showTitle": false,
     "title": ""
    }
   },
   "outputs": [],
   "source": [
    "timestamp_schema = StructType([\n",
    "        StructField('time_id', IntegerType(), True),\n",
    "        StructField('created_at',TimestampType(),True),\n",
    "        StructField('updated_at',TimestampType(),True),\n",
    "        StructField('deleted_at',TimestampType(),True)\n",
    "    ])\n",
    "df_timestamp = spark.createDataFrame([],schema=timestamp_schema)"
   ]
  },
  {
   "cell_type": "code",
   "execution_count": 0,
   "metadata": {
    "application/vnd.databricks.v1+cell": {
     "cellMetadata": {
      "byteLimit": 2048000,
      "rowLimit": 10000
     },
     "inputWidgets": {},
     "nuid": "c4f0257e-9ce9-42f2-918d-78223f33d795",
     "showTitle": false,
     "title": ""
    }
   },
   "outputs": [],
   "source": [
    "# Grab all tables that use timestamp, then union (append) them to timestamp by name\n",
    "\n",
    "# Tables to grab timestamps from: Milestone, Header (Action), Comment, Pull_request, issue\n",
    "df_timestamp = df_timestamp.unionByName(df_comments.select(['created_at','updated_at']),allowMissingColumns=True)\n",
    "df_timestamp = df_timestamp.unionByName(silver_pull_request.select(['created_at','updated_at']),allowMissingColumns=True)\n",
    "df_timestamp = df_timestamp.unionByName(df_issue.select(['created_at','updated_at']),allowMissingColumns=True)\n",
    "df_timestamp = df_timestamp.unionByName(silver_milestone.select(['created_at','updated_at']),allowMissingColumns=True)\n",
    "df_timestamp = df_timestamp.unionByName(df_action.select('action_date_created').withColumnRenamed('action_date_created','created_at'),allowMissingColumns=True)\n",
    "df_timestamp = df_timestamp.unionByName(df_review.select('created_at'),allowMissingColumns=True)\n",
    "df_timestamp = df_timestamp.dropDuplicates()"
   ]
  },
  {
   "cell_type": "code",
   "execution_count": 0,
   "metadata": {
    "application/vnd.databricks.v1+cell": {
     "cellMetadata": {
      "byteLimit": 2048000,
      "rowLimit": 10000
     },
     "inputWidgets": {},
     "nuid": "d6c46d4a-4873-46fd-b710-aa5d158171e9",
     "showTitle": false,
     "title": ""
    }
   },
   "outputs": [],
   "source": [
    "# Final step for timestamp, to get time_id counting up one at a time\n",
    "df_timestamp = df_timestamp.withColumn('time_id',row_number().over(Window().orderBy('created_at')))"
   ]
  },
  {
   "cell_type": "markdown",
   "metadata": {
    "application/vnd.databricks.v1+cell": {
     "cellMetadata": {
      "byteLimit": 2048000,
      "rowLimit": 10000
     },
     "inputWidgets": {},
     "nuid": "6abf1a57-aaa2-4b9d-a836-53e1bf26c524",
     "showTitle": false,
     "title": ""
    }
   },
   "source": [
    "### Timestamping all tables"
   ]
  },
  {
   "cell_type": "code",
   "execution_count": 0,
   "metadata": {
    "application/vnd.databricks.v1+cell": {
     "cellMetadata": {},
     "inputWidgets": {},
     "nuid": "e28b9d35-7cb5-4f2b-9042-d462d4e382b3",
     "showTitle": false,
     "title": ""
    }
   },
   "outputs": [],
   "source": [
    "# Will join timestamp and join the original table, then drops the previous columns from both tables\n",
    "# This will result in time_id being added along each original table"
   ]
  },
  {
   "cell_type": "code",
   "execution_count": 0,
   "metadata": {
    "application/vnd.databricks.v1+cell": {
     "cellMetadata": {
      "byteLimit": 2048000,
      "rowLimit": 10000
     },
     "inputWidgets": {},
     "nuid": "987bafd0-208c-489c-bca4-29743f249834",
     "showTitle": false,
     "title": ""
    }
   },
   "outputs": [],
   "source": [
    "silver_pull_request = silver_pull_request.join(df_timestamp, ['created_at','updated_at'], how='inner').drop('created_at','updated_at','deleted_at')"
   ]
  },
  {
   "cell_type": "code",
   "execution_count": 0,
   "metadata": {
    "application/vnd.databricks.v1+cell": {
     "cellMetadata": {
      "byteLimit": 2048000,
      "rowLimit": 10000
     },
     "inputWidgets": {},
     "nuid": "f1e61972-f31c-4fd7-b1f9-b28ac7b6cdd0",
     "showTitle": false,
     "title": ""
    }
   },
   "outputs": [],
   "source": [
    "df_comments = df_comments.join(df_timestamp, ['created_at','updated_at'], how='inner').drop('created_at','updated_at','deleted_at')"
   ]
  },
  {
   "cell_type": "code",
   "execution_count": 0,
   "metadata": {
    "application/vnd.databricks.v1+cell": {
     "cellMetadata": {
      "byteLimit": 2048000,
      "rowLimit": 10000
     },
     "inputWidgets": {},
     "nuid": "0e23bd98-5845-4607-9345-9f4d39c42e75",
     "showTitle": false,
     "title": ""
    }
   },
   "outputs": [],
   "source": [
    "df_issue = df_issue.join(df_timestamp, ['created_at','updated_at'], how='inner').drop('created_at','updated_at','deleted_at')"
   ]
  },
  {
   "cell_type": "code",
   "execution_count": 0,
   "metadata": {
    "application/vnd.databricks.v1+cell": {
     "cellMetadata": {
      "byteLimit": 2048000,
      "rowLimit": 10000
     },
     "inputWidgets": {},
     "nuid": "5cafe6ee-d1a2-4ed0-b1de-a0cbee8c0e6d",
     "showTitle": false,
     "title": ""
    }
   },
   "outputs": [],
   "source": [
    "silver_milestone = silver_milestone.join(df_timestamp, ['created_at','updated_at'], how='inner').drop('created_at','updated_at','deleted_at')"
   ]
  },
  {
   "cell_type": "code",
   "execution_count": 0,
   "metadata": {
    "application/vnd.databricks.v1+cell": {
     "cellMetadata": {
      "byteLimit": 2048000,
      "rowLimit": 10000
     },
     "inputWidgets": {},
     "nuid": "354a2e30-9438-4910-9c6d-3f8f0a7cb458",
     "showTitle": false,
     "title": ""
    }
   },
   "outputs": [],
   "source": [
    "silver_review = df_review.join(df_timestamp, ['created_at'], how ='inner').drop('created_at','updated_at','deleted_at')"
   ]
  },
  {
   "cell_type": "code",
   "execution_count": 0,
   "metadata": {
    "application/vnd.databricks.v1+cell": {
     "cellMetadata": {
      "byteLimit": 2048000,
      "rowLimit": 10000
     },
     "inputWidgets": {},
     "nuid": "f6be012c-0d9d-46de-84d8-c2be8c5617ac",
     "showTitle": false,
     "title": ""
    }
   },
   "outputs": [],
   "source": [
    "df_action = df_action.join(df_timestamp, df_action.action_date_created == df_timestamp.created_at, how = 'inner').drop('action_date_created','created_at','updated_at','deleted_at')"
   ]
  },
  {
   "cell_type": "markdown",
   "metadata": {
    "application/vnd.databricks.v1+cell": {
     "cellMetadata": {
      "byteLimit": 2048000,
      "rowLimit": 10000
     },
     "inputWidgets": {},
     "nuid": "a7c15c48-8e02-46d3-a5a2-83ae96b4cef0",
     "showTitle": false,
     "title": ""
    }
   },
   "source": [
    "## Creating Commits Table"
   ]
  },
  {
   "cell_type": "code",
   "execution_count": 0,
   "metadata": {
    "application/vnd.databricks.v1+cell": {
     "cellMetadata": {
      "byteLimit": 2048000,
      "rowLimit": 10000
     },
     "inputWidgets": {},
     "nuid": "57d54844-e36b-4750-928d-d058d8f71830",
     "showTitle": false,
     "title": ""
    }
   },
   "outputs": [],
   "source": [
    "commits_schema = StructType([\n",
    "  StructField('commit_author_email', StringType(), True),\n",
    "  StructField('commit_author_name', StringType(), True),\n",
    "  StructField('commit_distinct', BooleanType(), True),\n",
    "  StructField('commit_message', StringType(), True),\n",
    "  StructField('commit_sha', StringType(), True),\n",
    "  StructField('commit_url', StringType(), True)\n",
    "  ])"
   ]
  },
  {
   "cell_type": "code",
   "execution_count": 0,
   "metadata": {
    "application/vnd.databricks.v1+cell": {
     "cellMetadata": {
      "byteLimit": 2048000,
      "rowLimit": 10000
     },
     "inputWidgets": {},
     "nuid": "08ddf4b5-4005-47af-9e32-3d1dbc863742",
     "showTitle": false,
     "title": ""
    }
   },
   "outputs": [],
   "source": [
    "df_commits = df_bronze.filter('payload.commits IS NOT NULL').select('payload.*','action_id').select('commits','action_id')\n",
    "df_commits = df_commits.select(explode(df_commits.commits),'action_id').select('col.*','action_id').select('author.*','distinct','message','sha','url','action_id')\n",
    "df_commits = df_commits.withColumnRenamed('email','commit_author_email').withColumnRenamed('name','commit_author_name').withColumnRenamed('distinct','commit_distinct')\\\n",
    "    .withColumnRenamed('message','commit_message').withColumnRenamed('sha','commit_sha').withColumnRenamed('url','commit_url')"
   ]
  },
  {
   "cell_type": "code",
   "execution_count": 0,
   "metadata": {
    "application/vnd.databricks.v1+cell": {
     "cellMetadata": {
      "byteLimit": 2048000,
      "rowLimit": 10000
     },
     "inputWidgets": {},
     "nuid": "18c54bc3-0ec0-4013-a917-58e18769896c",
     "showTitle": false,
     "title": ""
    }
   },
   "outputs": [],
   "source": [
    "silver_commits_action_linker = df_commits.select('action_id','commit_url')\n",
    "df_commits = df_commits.drop('action_id')"
   ]
  },
  {
   "cell_type": "markdown",
   "metadata": {
    "application/vnd.databricks.v1+cell": {
     "cellMetadata": {
      "byteLimit": 2048000,
      "rowLimit": 10000
     },
     "inputWidgets": {},
     "nuid": "7925b79a-108e-4438-8085-974aa957af28",
     "showTitle": false,
     "title": ""
    }
   },
   "source": [
    "# Cleaning Tables"
   ]
  },
  {
   "cell_type": "markdown",
   "metadata": {
    "application/vnd.databricks.v1+cell": {
     "cellMetadata": {
      "byteLimit": 2048000,
      "rowLimit": 10000
     },
     "inputWidgets": {},
     "nuid": "1f18ed2d-93c7-4a7a-a37a-76141a950520",
     "showTitle": false,
     "title": ""
    }
   },
   "source": [
    "## Cleaning Org"
   ]
  },
  {
   "cell_type": "markdown",
   "metadata": {
    "application/vnd.databricks.v1+cell": {
     "cellMetadata": {
      "byteLimit": 2048000,
      "rowLimit": 10000
     },
     "inputWidgets": {},
     "nuid": "f8f19aa8-d4d7-4d6b-bfac-4fce4b4c277f",
     "showTitle": false,
     "title": ""
    }
   },
   "source": [
    "### Removing Nulls"
   ]
  },
  {
   "cell_type": "code",
   "execution_count": 0,
   "metadata": {
    "application/vnd.databricks.v1+cell": {
     "cellMetadata": {
      "byteLimit": 2048000,
      "rowLimit": 10000
     },
     "inputWidgets": {},
     "nuid": "c319c36b-c163-4d17-8d1b-d12a949da549",
     "showTitle": false,
     "title": ""
    }
   },
   "outputs": [],
   "source": [
    "'''\n",
    "Every time org_id is Null, so is org_login,\n",
    "and every time one exists so does the other\n",
    "so we drop all rows with any nulls\n",
    "'''\n",
    "df_org.dropna(thresh=3)\n",
    "df_org = df_org.na.drop()"
   ]
  },
  {
   "cell_type": "markdown",
   "metadata": {
    "application/vnd.databricks.v1+cell": {
     "cellMetadata": {
      "byteLimit": 2048000,
      "rowLimit": 10000
     },
     "inputWidgets": {},
     "nuid": "a2859c71-b2ae-4699-b600-7f787b7d0a4a",
     "showTitle": false,
     "title": ""
    }
   },
   "source": [
    "### Removing Duplicates"
   ]
  },
  {
   "cell_type": "code",
   "execution_count": 0,
   "metadata": {
    "application/vnd.databricks.v1+cell": {
     "cellMetadata": {
      "byteLimit": 2048000,
      "rowLimit": 10000
     },
     "inputWidgets": {},
     "nuid": "7278f79b-3e77-4d96-b95e-004a8bfcf3c0",
     "showTitle": false,
     "title": ""
    }
   },
   "outputs": [],
   "source": [
    "#there are multiple org_logins associated with single org_ids\n",
    "#I am creating a linking table\n",
    "org_login_accum = SparkContext.accumulator(0,1)\n",
    "global org_login_accum"
   ]
  },
  {
   "cell_type": "code",
   "execution_count": 0,
   "metadata": {
    "application/vnd.databricks.v1+cell": {
     "cellMetadata": {
      "byteLimit": 2048000,
      "rowLimit": 10000
     },
     "inputWidgets": {},
     "nuid": "4be24159-da1b-4100-ab0a-566c39a26479",
     "showTitle": false,
     "title": ""
    }
   },
   "outputs": [],
   "source": [
    "silver_org_logins = df_org.dropDuplicates(subset=['org_login'])\n",
    "silver_org_linker = df_org.dropDuplicates()\n",
    "silver_org = df_org.dropDuplicates(subset=['org_id'])"
   ]
  },
  {
   "cell_type": "code",
   "execution_count": 0,
   "metadata": {
    "application/vnd.databricks.v1+cell": {
     "cellMetadata": {
      "byteLimit": 2048000,
      "rowLimit": 10000
     },
     "inputWidgets": {},
     "nuid": "1e7fd664-972b-44c5-aa7a-b89fd7628cdb",
     "showTitle": false,
     "title": ""
    }
   },
   "outputs": [],
   "source": [
    "silver_org_logins = silver_org_logins.drop('org_id')"
   ]
  },
  {
   "cell_type": "code",
   "execution_count": 0,
   "metadata": {
    "application/vnd.databricks.v1+cell": {
     "cellMetadata": {
      "byteLimit": 2048000,
      "rowLimit": 10000
     },
     "inputWidgets": {},
     "nuid": "257f15c7-5a96-4aca-bc60-26bdc5e69fe2",
     "showTitle": false,
     "title": ""
    }
   },
   "outputs": [],
   "source": [
    "silver_org_logins_window = Window.orderBy(\"org_login\")\n",
    "silver_org_logins = silver_org_logins.withColumn(\"org_logins_id\", row_number().over(silver_org_logins_window))"
   ]
  },
  {
   "cell_type": "code",
   "execution_count": 0,
   "metadata": {
    "application/vnd.databricks.v1+cell": {
     "cellMetadata": {
      "byteLimit": 2048000,
      "rowLimit": 10000
     },
     "inputWidgets": {},
     "nuid": "ade5f99f-3083-417d-aa27-1825b08101bb",
     "showTitle": false,
     "title": ""
    }
   },
   "outputs": [],
   "source": [
    "silver_org_linker = silver_org_linker.join(silver_org_logins,silver_org_linker.org_login == silver_org_logins.org_login,'inner')"
   ]
  },
  {
   "cell_type": "code",
   "execution_count": 0,
   "metadata": {
    "application/vnd.databricks.v1+cell": {
     "cellMetadata": {
      "byteLimit": 2048000,
      "rowLimit": 10000
     },
     "inputWidgets": {},
     "nuid": "69efec48-6894-44b6-b1ad-aba6dd8e5546",
     "showTitle": false,
     "title": ""
    }
   },
   "outputs": [],
   "source": [
    "silver_org_linker = silver_org_linker.drop('org_login')"
   ]
  },
  {
   "cell_type": "markdown",
   "metadata": {
    "application/vnd.databricks.v1+cell": {
     "cellMetadata": {
      "byteLimit": 2048000,
      "rowLimit": 10000
     },
     "inputWidgets": {},
     "nuid": "071c5595-c6ea-461a-8bfc-d80c941d01ea",
     "showTitle": false,
     "title": ""
    }
   },
   "source": [
    "## Cleaning Actor"
   ]
  },
  {
   "cell_type": "code",
   "execution_count": 0,
   "metadata": {
    "application/vnd.databricks.v1+cell": {
     "cellMetadata": {
      "byteLimit": 2048000,
      "rowLimit": 10000
     },
     "inputWidgets": {},
     "nuid": "e3abd601-8bd1-45e4-b24d-f9f4da9fd756",
     "showTitle": false,
     "title": ""
    }
   },
   "outputs": [],
   "source": [
    "silver_actor = df_actor.dropDuplicates(subset=['actor_id'])"
   ]
  },
  {
   "cell_type": "code",
   "execution_count": 0,
   "metadata": {
    "application/vnd.databricks.v1+cell": {
     "cellMetadata": {
      "byteLimit": 2048000,
      "rowLimit": 10000
     },
     "inputWidgets": {},
     "nuid": "a16812b1-8e51-4cd7-b0ea-e9e1f4848dbf",
     "showTitle": false,
     "title": ""
    }
   },
   "outputs": [],
   "source": [
    "# Comments\n",
    "silver_actor = silver_actor.union(df_bronze.filter('payload.comment IS NOT NULL').select('payload.comment.*').select('user.id','user.login'))"
   ]
  },
  {
   "cell_type": "code",
   "execution_count": 0,
   "metadata": {
    "application/vnd.databricks.v1+cell": {
     "cellMetadata": {
      "byteLimit": 2048000,
      "rowLimit": 10000
     },
     "inputWidgets": {},
     "nuid": "ed934fcf-e538-49d4-8b24-d28b635dfc8d",
     "showTitle": false,
     "title": ""
    }
   },
   "outputs": [],
   "source": [
    "# Takes every \"actor\" from across pull_request include exploded arrays and then combines them.\n",
    "\n",
    "# Please avert your eyes\n",
    "silver_actor = silver_actor.union(\n",
    "spark.sql(\n",
    "    \"\"\"\n",
    "        SELECT `user`.id, `user`.login\n",
    "        FROM pull_request\n",
    "        UNION\n",
    "        SELECT base.user.id, base.user.login FROM pull_request\n",
    "        UNION\n",
    "        SELECT base.repo.owner.id, base.repo.owner.login FROM pull_request\n",
    "        UNION\n",
    "        SELECT head.user.id, head.user.login FROM pull_request\n",
    "        UNION \n",
    "        SELECT head.repo.owner.id, head.repo.owner.login FROM pull_request\n",
    "        UNION\n",
    "        SELECT assignee.id, assignee.login FROM pull_request\n",
    "        UNION\n",
    "        SELECT merged_by.id, merged_by.login FROM pull_request\n",
    "        UNION\n",
    "        SELECT payload.review.user.id, payload.review.user.login FROM raw_layer WHERE payload.review IS NOT NULL\n",
    "        UNION\n",
    "        SELECT col.id, col.login FROM (SELECT explode(assignees) FROM pull_request) t1\n",
    "        UNION\n",
    "        SELECT col.id, col.login FROM (SELECT explode(requested_reviewers) FROM pull_request) t1\n",
    "    \"\"\")).drop_duplicates()"
   ]
  },
  {
   "cell_type": "markdown",
   "metadata": {
    "application/vnd.databricks.v1+cell": {
     "cellMetadata": {
      "byteLimit": 2048000,
      "rowLimit": 10000
     },
     "inputWidgets": {},
     "nuid": "4315eba6-bb1b-4952-b23f-fbd1aacabade",
     "showTitle": false,
     "title": ""
    }
   },
   "source": [
    "## Cleaning Repo"
   ]
  },
  {
   "cell_type": "code",
   "execution_count": 0,
   "metadata": {
    "application/vnd.databricks.v1+cell": {
     "cellMetadata": {
      "byteLimit": 2048000,
      "rowLimit": 10000
     },
     "inputWidgets": {},
     "nuid": "eb4cc5d7-da73-440a-b35f-e79f340a4b68",
     "showTitle": false,
     "title": ""
    }
   },
   "outputs": [],
   "source": [
    "silver_repo = df_repo.drop('repo_name').dropDuplicates(subset=['repo_id'])\n",
    "silver_repo_linker = df_repo.drop('public').dropDuplicates()\n",
    "silver_repo_names = df_repo.drop('repo_id').drop('public').dropDuplicates(subset=['repo_name'])"
   ]
  },
  {
   "cell_type": "code",
   "execution_count": 0,
   "metadata": {
    "application/vnd.databricks.v1+cell": {
     "cellMetadata": {
      "byteLimit": 2048000,
      "rowLimit": 10000
     },
     "inputWidgets": {},
     "nuid": "17ff5c01-913e-4196-851d-6f6ead6bb487",
     "showTitle": false,
     "title": ""
    }
   },
   "outputs": [],
   "source": [
    "silver_repo_names_window = Window.orderBy(\"repo_name\")\n",
    "silver_repo_names = silver_repo_names.withColumn(\"repo_name_id\", row_number().over(silver_repo_names_window))"
   ]
  },
  {
   "cell_type": "code",
   "execution_count": 0,
   "metadata": {
    "application/vnd.databricks.v1+cell": {
     "cellMetadata": {
      "byteLimit": 2048000,
      "rowLimit": 10000
     },
     "inputWidgets": {},
     "nuid": "c4e6fb25-0ecd-4a15-8e32-28cffc899d1b",
     "showTitle": false,
     "title": ""
    }
   },
   "outputs": [],
   "source": [
    "silver_repo_linker = silver_repo_linker.join(silver_repo_names,[silver_repo_linker.repo_name == silver_repo_names.repo_name,silver_repo_linker.repo_url == silver_repo_names.repo_url],'inner')\n",
    "silver_repo_linker = silver_repo_linker.drop('repo_name','repo_url')"
   ]
  },
  {
   "cell_type": "code",
   "execution_count": 0,
   "metadata": {
    "application/vnd.databricks.v1+cell": {
     "cellMetadata": {
      "byteLimit": 2048000,
      "rowLimit": 10000
     },
     "inputWidgets": {},
     "nuid": "f4497d75-b762-452f-949a-17a73194664c",
     "showTitle": false,
     "title": ""
    }
   },
   "outputs": [],
   "source": [
    "#no columns have a single null!"
   ]
  },
  {
   "cell_type": "code",
   "execution_count": 0,
   "metadata": {
    "application/vnd.databricks.v1+cell": {
     "cellMetadata": {
      "byteLimit": 2048000,
      "implicitDf": true,
      "rowLimit": 10000
     },
     "inputWidgets": {},
     "nuid": "76f53810-2e55-4a72-ae90-a5956df187ab",
     "showTitle": false,
     "title": ""
    }
   },
   "outputs": [],
   "source": [
    "silver_repo = silver_repo.union(spark.sql('SELECT base.repo.id, NOT base.repo.private as public, base.repo.url FROM pull_request'))\n",
    "silver_repo = silver_repo.union(spark.sql('SELECT head.repo.id, NOT head.repo.private as public, head.repo.url FROM pull_request')).drop_duplicates(subset=['repo_id'])"
   ]
  },
  {
   "cell_type": "code",
   "execution_count": 0,
   "metadata": {
    "application/vnd.databricks.v1+cell": {
     "cellMetadata": {
      "byteLimit": 2048000,
      "rowLimit": 10000
     },
     "inputWidgets": {},
     "nuid": "1db10e6d-2461-4170-adb2-f158043a8d42",
     "showTitle": false,
     "title": ""
    }
   },
   "outputs": [],
   "source": [
    "silver_repo_names = silver_repo_names.union(spark.sql('SELECT head.repo.name, head.repo.url, head.repo.id FROM pull_request'))\n",
    "silver_repo_names = silver_repo_names.union(spark.sql('SELECT head.repo.name, head.repo.url, head.repo.id FROM pull_request')).dropDuplicates()"
   ]
  },
  {
   "cell_type": "markdown",
   "metadata": {
    "application/vnd.databricks.v1+cell": {
     "cellMetadata": {
      "byteLimit": 2048000,
      "rowLimit": 10000
     },
     "inputWidgets": {},
     "nuid": "563f7d07-ae99-43ae-a349-283996e63adf",
     "showTitle": false,
     "title": ""
    }
   },
   "source": [
    "## Cleaning Commits"
   ]
  },
  {
   "cell_type": "markdown",
   "metadata": {
    "application/vnd.databricks.v1+cell": {
     "cellMetadata": {
      "byteLimit": 2048000,
      "rowLimit": 10000
     },
     "inputWidgets": {},
     "nuid": "6fb8a550-edd1-4fa9-8802-a561006df3b1",
     "showTitle": false,
     "title": ""
    }
   },
   "source": [
    "### Distinct"
   ]
  },
  {
   "cell_type": "code",
   "execution_count": 0,
   "metadata": {
    "application/vnd.databricks.v1+cell": {
     "cellMetadata": {
      "byteLimit": 2048000,
      "rowLimit": 10000
     },
     "inputWidgets": {},
     "nuid": "bf0cd880-9b3b-4a88-97be-b6a946e39278",
     "showTitle": false,
     "title": ""
    }
   },
   "outputs": [],
   "source": [
    "silver_commits = df_commits.dropDuplicates()\n",
    "silver_commits_window = Window.orderBy(\"commit_author_email\")\n",
    "silver_commits = silver_commits.withColumn(\"commit_id\", row_number().over(silver_commits_window))"
   ]
  },
  {
   "cell_type": "markdown",
   "metadata": {
    "application/vnd.databricks.v1+cell": {
     "cellMetadata": {
      "byteLimit": 2048000,
      "rowLimit": 10000
     },
     "inputWidgets": {},
     "nuid": "5318ba3c-701f-4ebe-a91d-0a19468411b9",
     "showTitle": false,
     "title": ""
    }
   },
   "source": [
    "## Cleaning Issue"
   ]
  },
  {
   "cell_type": "code",
   "execution_count": 0,
   "metadata": {
    "application/vnd.databricks.v1+cell": {
     "cellMetadata": {
      "byteLimit": 2048000,
      "rowLimit": 10000
     },
     "inputWidgets": {},
     "nuid": "2e026a8f-23ea-4189-aa5f-1e99c7c47eff",
     "showTitle": false,
     "title": ""
    }
   },
   "outputs": [],
   "source": [
    "silver_issue = df_issue.withColumnRenamed('id','issue_id')\\\n",
    "    .withColumn('issue_milestone_id',df_issue.milestone.id)\\\n",
    "    .withColumn('issue_user_id',df_issue.user.id)\\\n",
    "    .withColumnRenamed('url','issue_url')\\\n",
    "    .drop('assignees','labels','milestone','user')\n",
    "silver_issue = silver_issue.dropDuplicates(subset=['issue_id'])"
   ]
  },
  {
   "cell_type": "code",
   "execution_count": 0,
   "metadata": {
    "application/vnd.databricks.v1+cell": {
     "cellMetadata": {
      "byteLimit": 2048000,
      "rowLimit": 10000
     },
     "inputWidgets": {},
     "nuid": "5f65a4d4-f28d-477d-92dd-3a450e496169",
     "showTitle": false,
     "title": ""
    }
   },
   "outputs": [],
   "source": [
    "links = spark.sql(\"SELECT _links.* FROM pull_request\")\n",
    "pull_request = silver_issue.select('pull_request.*')"
   ]
  },
  {
   "cell_type": "markdown",
   "metadata": {
    "application/vnd.databricks.v1+cell": {
     "cellMetadata": {
      "byteLimit": 2048000,
      "rowLimit": 10000
     },
     "inputWidgets": {},
     "nuid": "3d38296a-ae55-4b16-86ad-35f5e73b4642",
     "showTitle": false,
     "title": ""
    }
   },
   "source": [
    "### Issue_Reactions_table"
   ]
  },
  {
   "cell_type": "code",
   "execution_count": 0,
   "metadata": {
    "application/vnd.databricks.v1+cell": {
     "cellMetadata": {
      "byteLimit": 2048000,
      "rowLimit": 10000
     },
     "inputWidgets": {},
     "nuid": "1071a0a7-a9fa-418b-b210-32799c90c1ee",
     "showTitle": false,
     "title": ""
    }
   },
   "outputs": [],
   "source": [
    "silver_issue_reactions = silver_issue.select('reactions.*').dropDuplicates(subset=['url']).withColumnRenamed('url','reaction_url')\n",
    "silver_issue = silver_issue.select('*',col('reactions.url').alias('reactions_url')).drop('reactions')"
   ]
  },
  {
   "cell_type": "markdown",
   "metadata": {
    "application/vnd.databricks.v1+cell": {
     "cellMetadata": {
      "byteLimit": 2048000,
      "rowLimit": 10000
     },
     "inputWidgets": {},
     "nuid": "772a537e-bd8f-4988-99e5-45d052979991",
     "showTitle": false,
     "title": ""
    }
   },
   "source": [
    "### Issue pull_request Table"
   ]
  },
  {
   "cell_type": "code",
   "execution_count": 0,
   "metadata": {
    "application/vnd.databricks.v1+cell": {
     "cellMetadata": {
      "byteLimit": 2048000,
      "rowLimit": 10000
     },
     "inputWidgets": {},
     "nuid": "805c8d12-f4e2-48da-9685-8a0ed4810f95",
     "showTitle": false,
     "title": ""
    }
   },
   "outputs": [],
   "source": [
    "silver_issue_pull_request = silver_issue.select('pull_request.*').dropDuplicates(subset=['url']).withColumnRenamed('url','pull_request_url')\n",
    "silver_issue = silver_issue.select('*',col('pull_request.url').alias('pull_request_url')).drop('pull_request')"
   ]
  },
  {
   "cell_type": "markdown",
   "metadata": {
    "application/vnd.databricks.v1+cell": {
     "cellMetadata": {
      "byteLimit": 2048000,
      "rowLimit": 10000
     },
     "inputWidgets": {},
     "nuid": "bb53b468-fecf-4ee7-ad9c-13054b571c48",
     "showTitle": false,
     "title": ""
    }
   },
   "source": [
    "### Assignee Table and silver_issue_assignee_linker"
   ]
  },
  {
   "cell_type": "markdown",
   "metadata": {
    "application/vnd.databricks.v1+cell": {
     "cellMetadata": {
      "byteLimit": 2048000,
      "rowLimit": 10000
     },
     "inputWidgets": {},
     "nuid": "0bf9284d-1c46-4604-abe4-25f0da4971fd",
     "showTitle": false,
     "title": ""
    }
   },
   "source": [
    "\n",
    "<ul>\n",
    "  <li>Not dropping duplicates in the linker table because I dont want to lose how many times a user was assigned to a single issue.</li>\n",
    "  <li>I am dropping rows with nulls in any column though, because its a linker table and it would be useless.</li>\n",
    "</ul>"
   ]
  },
  {
   "cell_type": "code",
   "execution_count": 0,
   "metadata": {
    "application/vnd.databricks.v1+cell": {
     "cellMetadata": {
      "byteLimit": 2048000,
      "rowLimit": 10000
     },
     "inputWidgets": {},
     "nuid": "10442d71-d504-4118-9e81-e24971e62aaa",
     "showTitle": false,
     "title": ""
    }
   },
   "outputs": [],
   "source": [
    "silver_issue_assignee_linker = df_issue.select(explode_outer('assignees'),'id').withColumnRenamed('col','assignee').withColumnRenamed('id','issue_id').select('assignee.id','issue_id')\\\n",
    "    .withColumnRenamed('id','assiginee_id')\n",
    "silver_issue_assignee_linker = silver_issue_assignee_linker.na.drop()"
   ]
  },
  {
   "cell_type": "code",
   "execution_count": 0,
   "metadata": {
    "application/vnd.databricks.v1+cell": {
     "cellMetadata": {
      "byteLimit": 2048000,
      "rowLimit": 10000
     },
     "inputWidgets": {},
     "nuid": "46061fd3-6211-4584-ad15-6f6fe031fe6d",
     "showTitle": false,
     "title": ""
    }
   },
   "outputs": [],
   "source": []
  },
  {
   "cell_type": "code",
   "execution_count": 0,
   "metadata": {
    "application/vnd.databricks.v1+cell": {
     "cellMetadata": {
      "byteLimit": 2048000,
      "implicitDf": true,
      "rowLimit": 10000
     },
     "inputWidgets": {},
     "nuid": "c85157f6-1a68-4b36-a36b-d34b42c7ac1b",
     "showTitle": false,
     "title": ""
    }
   },
   "outputs": [],
   "source": [
    "silver_pull_request_assignee = spark.sql('SELECT pr_id as pull_request_id, col.id as pull_request_assignee_id FROM (SELECT id as pr_id, EXPLODE(assignees) FROM pull_request) t1').dropDuplicates()"
   ]
  },
  {
   "cell_type": "code",
   "execution_count": 0,
   "metadata": {
    "application/vnd.databricks.v1+cell": {
     "cellMetadata": {
      "byteLimit": 2048000,
      "rowLimit": 10000
     },
     "inputWidgets": {},
     "nuid": "7fac86eb-f1c6-47a4-9566-12c5adce59b4",
     "showTitle": false,
     "title": ""
    }
   },
   "outputs": [],
   "source": [
    "silver_assignee = df_issue.select(explode('assignees')).select('col.*').select('id','login').dropDuplicates(subset=['id'])"
   ]
  },
  {
   "cell_type": "code",
   "execution_count": 0,
   "metadata": {
    "application/vnd.databricks.v1+cell": {
     "cellMetadata": {
      "byteLimit": 2048000,
      "rowLimit": 10000
     },
     "inputWidgets": {},
     "nuid": "1acc48a5-557f-4196-9da1-fb0a5cf5e9be",
     "showTitle": false,
     "title": ""
    }
   },
   "outputs": [],
   "source": [
    "# Add pull_request assignees\n",
    "silver_assignee = silver_assignee.union(spark.sql('SELECT col.id, col.login FROM (SELECT EXPLODE(assignees) FROM pull_request) t1')).dropDuplicates()"
   ]
  },
  {
   "cell_type": "markdown",
   "metadata": {
    "application/vnd.databricks.v1+cell": {
     "cellMetadata": {
      "byteLimit": 2048000,
      "rowLimit": 10000
     },
     "inputWidgets": {},
     "nuid": "61177afc-5b63-4f39-8b04-3df7d00801e6",
     "showTitle": false,
     "title": ""
    }
   },
   "source": [
    "### Labels Table and silver_issue_label_linker"
   ]
  },
  {
   "cell_type": "code",
   "execution_count": 0,
   "metadata": {
    "application/vnd.databricks.v1+cell": {
     "cellMetadata": {
      "byteLimit": 2048000,
      "rowLimit": 10000
     },
     "inputWidgets": {},
     "nuid": "a6c9eeb9-3937-4b06-80bf-d063d847e500",
     "showTitle": false,
     "title": ""
    }
   },
   "outputs": [],
   "source": [
    "silver_issue_label_linker = df_issue.select(explode_outer('labels'),'id').withColumnRenamed('col','lable').withColumnRenamed('id','issue_id').select('lable.id','issue_id')\\\n",
    "    .withColumnRenamed('id','lable_id')\n",
    "silver_issue_label_linker = silver_issue_label_linker.na.drop()"
   ]
  },
  {
   "cell_type": "code",
   "execution_count": 0,
   "metadata": {
    "application/vnd.databricks.v1+cell": {
     "cellMetadata": {
      "byteLimit": 2048000,
      "rowLimit": 10000
     },
     "inputWidgets": {},
     "nuid": "8d64b459-9ff0-4351-84b4-16c5281fc688",
     "showTitle": false,
     "title": ""
    }
   },
   "outputs": [],
   "source": [
    "silver_label = df_issue.select(explode('labels')).select('col.*').dropDuplicates(['id']).withColumnRenamed('id','label_id')\\\n",
    "    .withColumnRenamed('color','label_color')\\\n",
    "    .withColumnRenamed('default','label_default')\\\n",
    "    .withColumnRenamed('description','label_description')\\\n",
    "    .withColumnRenamed('name','label_name')\\\n",
    "    .withColumnRenamed('node_id','label_node_id')\\\n",
    "    .withColumnRenamed('url','label_url')"
   ]
  },
  {
   "cell_type": "code",
   "execution_count": 0,
   "metadata": {
    "application/vnd.databricks.v1+cell": {
     "cellMetadata": {
      "byteLimit": 2048000,
      "rowLimit": 10000
     },
     "inputWidgets": {},
     "nuid": "02c63ef9-f445-4be8-a89b-41f1822b72dd",
     "showTitle": false,
     "title": ""
    }
   },
   "outputs": [],
   "source": [
    "silver_label = silver_label.union(spark.sql('SELECT col.* FROM (SELECT explode(labels) FROM pull_request)')).drop_duplicates(subset=['label_id','label_node_id'])"
   ]
  },
  {
   "cell_type": "markdown",
   "metadata": {
    "application/vnd.databricks.v1+cell": {
     "cellMetadata": {
      "byteLimit": 2048000,
      "rowLimit": 10000
     },
     "inputWidgets": {},
     "nuid": "a918c621-19eb-4fef-9b2d-96a8da080304",
     "showTitle": false,
     "title": ""
    }
   },
   "source": [
    "### Milestone Table"
   ]
  },
  {
   "cell_type": "markdown",
   "metadata": {
    "application/vnd.databricks.v1+cell": {
     "cellMetadata": {
      "byteLimit": 2048000,
      "rowLimit": 10000
     },
     "inputWidgets": {},
     "nuid": "f32ea8b4-63cc-4794-9d90-042857325895",
     "showTitle": false,
     "title": ""
    }
   },
   "source": [
    "#### User Table add on"
   ]
  },
  {
   "cell_type": "code",
   "execution_count": 0,
   "metadata": {
    "application/vnd.databricks.v1+cell": {
     "cellMetadata": {
      "byteLimit": 2048000,
      "rowLimit": 10000
     },
     "inputWidgets": {},
     "nuid": "0a79392b-73f4-47de-a1b8-eb361c22ad8a",
     "showTitle": false,
     "title": ""
    }
   },
   "outputs": [],
   "source": [
    "silver_milestone = silver_milestone.withColumn('milestone_user_id',silver_milestone.creator.id)\n",
    "silver_creator = silver_milestone.select('creator.*').dropDuplicates(subset=['id'])\n",
    "silver_milestone = silver_milestone.drop('creator').dropDuplicates(subset=['milestone_id'])"
   ]
  },
  {
   "cell_type": "code",
   "execution_count": 0,
   "metadata": {
    "application/vnd.databricks.v1+cell": {
     "cellMetadata": {
      "byteLimit": 2048000,
      "rowLimit": 10000
     },
     "inputWidgets": {},
     "nuid": "c77c4e4a-4329-45aa-bd18-ecebb60db4a1",
     "showTitle": false,
     "title": ""
    }
   },
   "outputs": [],
   "source": [
    "silver_creator = silver_creator.dropDuplicates(subset=['id'])\n",
    "silver_milestone = silver_milestone.dropDuplicates(subset=['milestone_id'])"
   ]
  },
  {
   "cell_type": "markdown",
   "metadata": {
    "application/vnd.databricks.v1+cell": {
     "cellMetadata": {
      "byteLimit": 2048000,
      "rowLimit": 10000
     },
     "inputWidgets": {},
     "nuid": "5346bca1-a693-47dd-8c50-25bd79e52912",
     "showTitle": false,
     "title": ""
    }
   },
   "source": [
    "### User Table"
   ]
  },
  {
   "cell_type": "code",
   "execution_count": 0,
   "metadata": {
    "application/vnd.databricks.v1+cell": {
     "cellMetadata": {
      "byteLimit": 2048000,
      "rowLimit": 10000
     },
     "inputWidgets": {},
     "nuid": "8275836b-b936-4dfd-af98-f1e1a2f620e0",
     "showTitle": false,
     "title": ""
    }
   },
   "outputs": [],
   "source": [
    "silver_issue_user = df_issue.select('user.*').drop('gravatar_id')"
   ]
  },
  {
   "cell_type": "markdown",
   "metadata": {
    "application/vnd.databricks.v1+cell": {
     "cellMetadata": {
      "byteLimit": 2048000,
      "rowLimit": 10000
     },
     "inputWidgets": {},
     "nuid": "d18b0428-4d6f-4ea3-8967-c2c80f2fe675",
     "showTitle": false,
     "title": ""
    }
   },
   "source": [
    "## Cleaning Pull Request"
   ]
  },
  {
   "cell_type": "code",
   "execution_count": 0,
   "metadata": {
    "application/vnd.databricks.v1+cell": {
     "cellMetadata": {
      "byteLimit": 2048000,
      "rowLimit": 10000
     },
     "inputWidgets": {},
     "nuid": "9b98d648-4a54-4ec6-beec-0684fa5f6803",
     "showTitle": false,
     "title": ""
    }
   },
   "outputs": [],
   "source": [
    "# Linking table between pull_request and actor (requested_reviewer)\n",
    "silver_pull_request_reviewer_linking = spark.sql('SELECT t1.payload_id, t1.col.id as requested_reviewer_user_id FROM (SELECT id as payload_id, explode(requested_reviewers) FROM pull_request WHERE requested_reviewers IS NOT NULL) t1').dropDuplicates()"
   ]
  },
  {
   "cell_type": "code",
   "execution_count": 0,
   "metadata": {
    "application/vnd.databricks.v1+cell": {
     "cellMetadata": {
      "byteLimit": 2048000,
      "rowLimit": 10000
     },
     "inputWidgets": {},
     "nuid": "d9b6da6b-b639-49bb-b7ba-7597c9245586",
     "showTitle": false,
     "title": ""
    }
   },
   "outputs": [],
   "source": [
    "# Linking table between pull request and label\n",
    "silver_pull_request_label_linking = spark.sql('SELECT id as pull_request_id, col.id as labels_id FROM (SELECT id, explode(labels) FROM pull_request) t1').dropDuplicates()"
   ]
  },
  {
   "cell_type": "code",
   "execution_count": 0,
   "metadata": {
    "application/vnd.databricks.v1+cell": {
     "cellMetadata": {
      "byteLimit": 2048000,
      "rowLimit": 10000
     },
     "inputWidgets": {},
     "nuid": "193e0899-3759-4027-9526-0f606795ecb1",
     "showTitle": false,
     "title": ""
    }
   },
   "outputs": [],
   "source": [
    "# Linking table between pull_request and teams\n",
    "silver_pull_request_teams = spark.sql('SELECT id as pull_request_id, col.id as team_id FROM (SELECT id, explode(requested_teams) FROM pull_request \\\n",
    "WHERE requested_teams IS NOT NULL) t1').dropDuplicates()"
   ]
  },
  {
   "cell_type": "markdown",
   "metadata": {
    "application/vnd.databricks.v1+cell": {
     "cellMetadata": {
      "byteLimit": 2048000,
      "rowLimit": 10000
     },
     "inputWidgets": {},
     "nuid": "adbc9a38-891e-4bac-865e-44cbc6fb1b28",
     "showTitle": false,
     "title": ""
    }
   },
   "source": [
    "## Actions Table"
   ]
  },
  {
   "cell_type": "code",
   "execution_count": 0,
   "metadata": {
    "application/vnd.databricks.v1+cell": {
     "cellMetadata": {
      "byteLimit": 2048000,
      "rowLimit": 10000
     },
     "inputWidgets": {},
     "nuid": "15f5318a-e4d1-479e-bd2f-15e22ff2fe45",
     "showTitle": false,
     "title": ""
    }
   },
   "outputs": [],
   "source": [
    "silver_action = df_action"
   ]
  },
  {
   "cell_type": "markdown",
   "metadata": {
    "application/vnd.databricks.v1+cell": {
     "cellMetadata": {
      "byteLimit": 2048000,
      "rowLimit": 10000
     },
     "inputWidgets": {},
     "nuid": "723793f8-9f21-4bd4-a2b2-42e497f75bd9",
     "showTitle": false,
     "title": ""
    }
   },
   "source": [
    "## Cleaning Comments"
   ]
  },
  {
   "cell_type": "code",
   "execution_count": 0,
   "metadata": {
    "application/vnd.databricks.v1+cell": {
     "cellMetadata": {
      "byteLimit": 2048000,
      "rowLimit": 10000
     },
     "inputWidgets": {},
     "nuid": "b63e589f-12a5-4248-bbac-1eb7eaccc9db",
     "showTitle": false,
     "title": ""
    }
   },
   "outputs": [],
   "source": [
    "silver_comment = df_comments.dropDuplicates(subset=['comment_id'])\n",
    "silver_comment_reactions = df_bronze.select('payload.comment.reactions.*').withColumnRenamed('url','reaction_url')"
   ]
  },
  {
   "cell_type": "markdown",
   "metadata": {
    "application/vnd.databricks.v1+cell": {
     "cellMetadata": {
      "byteLimit": 2048000,
      "rowLimit": 10000
     },
     "inputWidgets": {},
     "nuid": "65ee05bc-ebed-4735-88fe-bcebb47d1d63",
     "showTitle": false,
     "title": ""
    }
   },
   "source": [
    "## Amalgamating Reactions"
   ]
  },
  {
   "cell_type": "code",
   "execution_count": 0,
   "metadata": {
    "application/vnd.databricks.v1+cell": {
     "cellMetadata": {
      "byteLimit": 2048000,
      "rowLimit": 10000
     },
     "inputWidgets": {},
     "nuid": "75d9de3c-ff28-4e4d-adc9-05c25605c997",
     "showTitle": false,
     "title": ""
    }
   },
   "outputs": [],
   "source": [
    "silver_reactions = silver_comment_reactions.unionByName(silver_issue_reactions)"
   ]
  },
  {
   "cell_type": "markdown",
   "metadata": {
    "application/vnd.databricks.v1+cell": {
     "cellMetadata": {
      "byteLimit": 2048000,
      "rowLimit": 10000
     },
     "inputWidgets": {},
     "nuid": "e91af34a-d774-40bf-b18a-f35425773fc1",
     "showTitle": false,
     "title": ""
    }
   },
   "source": [
    "## Amalgomating Users"
   ]
  },
  {
   "cell_type": "code",
   "execution_count": 0,
   "metadata": {
    "application/vnd.databricks.v1+cell": {
     "cellMetadata": {
      "byteLimit": 2048000,
      "rowLimit": 10000
     },
     "inputWidgets": {},
     "nuid": "20c9715a-66ae-4f0d-b2c3-a28cb93ce265",
     "showTitle": false,
     "title": ""
    }
   },
   "outputs": [],
   "source": [
    "silver_users = df_bronze.select('payload.comment.user.*').select('id','login').unionByName(silver_assignee).dropna(subset=['id']).select('id','login')\\\n",
    "    .unionByName(df_bronze.select('payload.member.id','payload.member.login')).withColumnRenamed('id','user_id').withColumnRenamed('login','user_login')"
   ]
  },
  {
   "cell_type": "code",
   "execution_count": 0,
   "metadata": {
    "application/vnd.databricks.v1+cell": {
     "cellMetadata": {
      "byteLimit": 2048000,
      "rowLimit": 10000
     },
     "inputWidgets": {},
     "nuid": "56dcafea-d6b7-4a63-bff2-5a31bed20b64",
     "showTitle": false,
     "title": ""
    }
   },
   "outputs": [],
   "source": [
    "silver_creator = silver_creator.select('id','login')\n",
    "silver_users = silver_users.union(silver_creator)"
   ]
  },
  {
   "cell_type": "code",
   "execution_count": 0,
   "metadata": {
    "application/vnd.databricks.v1+cell": {
     "cellMetadata": {
      "byteLimit": 2048000,
      "rowLimit": 10000
     },
     "inputWidgets": {},
     "nuid": "851f04de-34d5-45e1-8e0f-0785d3189ac2",
     "showTitle": false,
     "title": ""
    }
   },
   "outputs": [],
   "source": [
    "silver_users = silver_actor.withColumnRenamed('actor_id','user_id').withColumnRenamed('actor_login','user_login')\\\n",
    "    .unionByName(silver_users).dropDuplicates(subset=['user_id'])"
   ]
  },
  {
   "cell_type": "markdown",
   "metadata": {
    "application/vnd.databricks.v1+cell": {
     "cellMetadata": {
      "byteLimit": 2048000,
      "rowLimit": 10000
     },
     "inputWidgets": {},
     "nuid": "58e30850-3ca7-4ddc-9848-d810b38723db",
     "showTitle": false,
     "title": ""
    }
   },
   "source": [
    "# Writing to disk"
   ]
  },
  {
   "cell_type": "code",
   "execution_count": 0,
   "metadata": {
    "application/vnd.databricks.v1+cell": {
     "cellMetadata": {
      "byteLimit": 2048000,
      "rowLimit": 10000
     },
     "inputWidgets": {},
     "nuid": "2b461b17-8494-44ce-844a-24f4464228b8",
     "showTitle": false,
     "title": ""
    }
   },
   "outputs": [
    {
     "output_type": "stream",
     "name": "stdout",
     "output_type": "stream",
     "text": [
      "75M\t/dbfs/FileStore/JA/Silver_layer/silver_action\n317K\t/dbfs/FileStore/JA/Silver_layer/silver_assignee\n347M\t/dbfs/FileStore/JA/Silver_layer/silver_commits\n51K\t/dbfs/FileStore/JA/Silver_layer/silver_creator\n158M\t/dbfs/FileStore/JA/Silver_layer/silver_issue\n580K\t/dbfs/FileStore/JA/Silver_layer/silver_issue_assignee_linker\n2.3M\t/dbfs/FileStore/JA/Silver_layer/silver_issue_label_linker\n5.5M\t/dbfs/FileStore/JA/Silver_layer/silver_issue_pull_request\n4.4M\t/dbfs/FileStore/JA/Silver_layer/silver_issue_reactions\n36M\t/dbfs/FileStore/JA/Silver_layer/silver_issue_user\n5.2M\t/dbfs/FileStore/JA/Silver_layer/silver_label\n477K\t/dbfs/FileStore/JA/Silver_layer/silver_milestone\n509K\t/dbfs/FileStore/JA/Silver_layer/silver_org_linker\n717K\t/dbfs/FileStore/JA/Silver_layer/silver_org_logins\n74M\t/dbfs/FileStore/JA/Silver_layer/silver_pull_request\n141K\t/dbfs/FileStore/JA/Silver_layer/silver_pull_request_assignee\n1.1M\t/dbfs/FileStore/JA/Silver_layer/silver_pull_request_label_linking\n377K\t/dbfs/FileStore/JA/Silver_layer/silver_pull_request_reviewer_linking\n37K\t/dbfs/FileStore/JA/Silver_layer/silver_pull_request_teams\n19M\t/dbfs/FileStore/JA/Silver_layer/silver_repo\n6.3M\t/dbfs/FileStore/JA/Silver_layer/silver_repo_linker\n37M\t/dbfs/FileStore/JA/Silver_layer/silver_repo_names\n18M\t/dbfs/FileStore/JA/Silver_layer/silver_users\n7.6M\t/dbfs/FileStore/JA/Silver_layer/timestamp\n"
     ]
    }
   ],
   "source": [
    "%sh\n",
    "# Will output how big each folder is\n",
    "\n",
    "for item in /dbfs/FileStore/JA/Silver_layer/*\n",
    "do\n",
    "    du -sh \"$item\"\n",
    "done"
   ]
  },
  {
   "cell_type": "code",
   "execution_count": 0,
   "metadata": {
    "application/vnd.databricks.v1+cell": {
     "cellMetadata": {},
     "inputWidgets": {},
     "nuid": "c771ebd9-f0c8-44cf-a667-40b04d748e81",
     "showTitle": false,
     "title": ""
    }
   },
   "outputs": [],
   "source": [
    "\"\"\"\n",
    "The % is the percentage size of one day (day 5) compared to the bronze layer\n",
    "Then we scale this number up by the Total Database size divided by the one day size to get the estimated size of each table. \n",
    "Finally we take this number and divide it by the desired size (120Mb) to get the partition size per table.\n",
    "\n",
    "Total Database: 49.2Gb \n",
    "Original Bronze Size: 3957.59Mb (~4%)\n",
    "commits: 347Mb 8.77% 36 repartitions\n",
    "issue: 158Mb 4% 18\n",
    "actions: 75Mb 1.9% 18\n",
    "pull_request: 74Mb 1.9% 18\n",
    "repo_names: 37Mb 0.94% 9\n",
    "issue_user: 36Mb 0.94% 9\n",
    "repo: 19Mb 0.45% 5\n",
    "users: 18Mb 0.45% 5\n",
    "timestamp: 7.6Mb 0.19% 2\n",
    "repo_linker(?): 6.3Mb 1\n",
    "issue_pull: 5.5Mb 1\n",
    "label: 5.2Mb 1\n",
    "issue_reactions: 4.4Mb 1\n",
    "issue_label: 2.3Mb 1\n",
    "pull_request_label: 1.1Mb 1\n",
    "org_login: 717Kb 1\n",
    "issue_assignee: 580Kb 1\n",
    "org_linker: 509Kb 1\n",
    "milestone: 477Kb 1\n",
    "pull_request_reviewer: 377Kb 1\n",
    "assignee: 317Kb 1\n",
    "pull_request_assigne: 141Kb 1\n",
    "creator: 51Kb 1\n",
    "pull_request_teams: 37Kb 1\n",
    "\"\"\""
   ]
  },
  {
   "cell_type": "code",
   "execution_count": 0,
   "metadata": {
    "application/vnd.databricks.v1+cell": {
     "cellMetadata": {
      "byteLimit": 2048000,
      "rowLimit": 10000
     },
     "inputWidgets": {},
     "nuid": "e184ad83-0dcb-426e-b1e6-b57c805696b4",
     "showTitle": false,
     "title": ""
    }
   },
   "outputs": [],
   "source": [
    "test_path = f'abfss://{contname}@{storage_acct_name}.dfs.core.windows.net/SilverLayer'"
   ]
  },
  {
   "cell_type": "code",
   "execution_count": 0,
   "metadata": {
    "application/vnd.databricks.v1+cell": {
     "cellMetadata": {
      "byteLimit": 2048000,
      "rowLimit": 10000
     },
     "inputWidgets": {},
     "nuid": "36bccc95-5232-415e-8a2a-990161938d5e",
     "showTitle": false,
     "title": ""
    }
   },
   "outputs": [],
   "source": [
    "df_comments.repartition(34).write.mode('overwrite').format('parquet').save(f'{test_path}/silver_comments')"
   ]
  },
  {
   "cell_type": "code",
   "execution_count": 0,
   "metadata": {
    "application/vnd.databricks.v1+cell": {
     "cellMetadata": {
      "byteLimit": 2048000,
      "rowLimit": 10000
     },
     "inputWidgets": {},
     "nuid": "a88cb48b-ef98-4c5d-83b9-3e280e0673b8",
     "showTitle": false,
     "title": ""
    }
   },
   "outputs": [],
   "source": [
    "df_timestamp.repartition(3).write.mode('overwrite').format('parquet').save(f'{test_path}/silver_timestamp')"
   ]
  },
  {
   "cell_type": "code",
   "execution_count": 0,
   "metadata": {
    "application/vnd.databricks.v1+cell": {
     "cellMetadata": {
      "byteLimit": 2048000,
      "rowLimit": 10000
     },
     "inputWidgets": {},
     "nuid": "ebb8f8ec-e5e0-40ad-b6ad-fae2ad45fa0d",
     "showTitle": false,
     "title": ""
    }
   },
   "outputs": [],
   "source": [
    "silver_action.repartition(18).write.mode('overwrite').format('parquet').save(f'{test_path}/silver_action')"
   ]
  },
  {
   "cell_type": "code",
   "execution_count": 0,
   "metadata": {
    "application/vnd.databricks.v1+cell": {
     "cellMetadata": {
      "byteLimit": 2048000,
      "rowLimit": 10000
     },
     "inputWidgets": {},
     "nuid": "c5f4e835-0ccc-4c72-925e-9599758756f1",
     "showTitle": false,
     "title": ""
    }
   },
   "outputs": [],
   "source": [
    "silver_commits.repartition(36).write.mode('overwrite').format('parquet').save(f'{test_path}/silver_commits')"
   ]
  },
  {
   "cell_type": "code",
   "execution_count": 0,
   "metadata": {
    "application/vnd.databricks.v1+cell": {
     "cellMetadata": {
      "byteLimit": 2048000,
      "rowLimit": 10000
     },
     "inputWidgets": {},
     "nuid": "5c912b84-d8ed-4357-8f7a-79fe5240df33",
     "showTitle": false,
     "title": ""
    }
   },
   "outputs": [],
   "source": [
    "silver_issue.repartition(18).write.mode('overwrite').format('parquet').save(f'{test_path}/silver_issue')"
   ]
  },
  {
   "cell_type": "code",
   "execution_count": 0,
   "metadata": {
    "application/vnd.databricks.v1+cell": {
     "cellMetadata": {
      "byteLimit": 2048000,
      "rowLimit": 10000
     },
     "inputWidgets": {},
     "nuid": "10b97444-b90f-40b8-b6e0-0f914d34314e",
     "showTitle": false,
     "title": ""
    }
   },
   "outputs": [],
   "source": [
    "silver_issue_assignee_linker.repartition(1).write.mode('overwrite').format('parquet').save(f'{test_path}/silver_issue_assignee_linker')"
   ]
  },
  {
   "cell_type": "code",
   "execution_count": 0,
   "metadata": {
    "application/vnd.databricks.v1+cell": {
     "cellMetadata": {
      "byteLimit": 2048000,
      "rowLimit": 10000
     },
     "inputWidgets": {},
     "nuid": "d0719c0d-770d-4b68-8f8f-e87f545b18e4",
     "showTitle": false,
     "title": ""
    }
   },
   "outputs": [],
   "source": [
    "silver_issue_label_linker.repartition(1).write.mode('overwrite').format('parquet').save(f'{test_path}/silver_issue_label_linker')"
   ]
  },
  {
   "cell_type": "code",
   "execution_count": 0,
   "metadata": {
    "application/vnd.databricks.v1+cell": {
     "cellMetadata": {
      "byteLimit": 2048000,
      "rowLimit": 10000
     },
     "inputWidgets": {},
     "nuid": "f91b5ec8-233f-4f9b-a7d8-5d0ecb06b34c",
     "showTitle": false,
     "title": ""
    }
   },
   "outputs": [],
   "source": [
    "silver_issue_pull_request.repartition(1).write.mode('overwrite').format('parquet').save(f'{test_path}/silver_issue_pull_request')"
   ]
  },
  {
   "cell_type": "code",
   "execution_count": 0,
   "metadata": {
    "application/vnd.databricks.v1+cell": {
     "cellMetadata": {
      "byteLimit": 2048000,
      "rowLimit": 10000
     },
     "inputWidgets": {},
     "nuid": "7f05bea6-dae4-4731-83a7-bc711475f4e8",
     "showTitle": false,
     "title": ""
    }
   },
   "outputs": [],
   "source": [
    "silver_issue_reactions.repartition(1).write.mode('overwrite').format('parquet').save(f'{test_path}/silver_issue_reactions')"
   ]
  },
  {
   "cell_type": "code",
   "execution_count": 0,
   "metadata": {
    "application/vnd.databricks.v1+cell": {
     "cellMetadata": {
      "byteLimit": 2048000,
      "rowLimit": 10000
     },
     "inputWidgets": {},
     "nuid": "b3dd7c78-d27c-4aa4-b851-5db1d2355525",
     "showTitle": false,
     "title": ""
    }
   },
   "outputs": [],
   "source": [
    "silver_issue_user.write.mode('overwrite').format('parquet').save(f'{test_path}/silver_issue_user')"
   ]
  },
  {
   "cell_type": "code",
   "execution_count": 0,
   "metadata": {
    "application/vnd.databricks.v1+cell": {
     "cellMetadata": {
      "byteLimit": 2048000,
      "rowLimit": 10000
     },
     "inputWidgets": {},
     "nuid": "7dd98d62-e8b4-4be2-b665-a8d480f2b132",
     "showTitle": false,
     "title": ""
    }
   },
   "outputs": [],
   "source": [
    "silver_label.repartition(1).write.mode('overwrite').format('parquet').save(f'{test_path}/silver_label')"
   ]
  },
  {
   "cell_type": "code",
   "execution_count": 0,
   "metadata": {
    "application/vnd.databricks.v1+cell": {
     "cellMetadata": {
      "byteLimit": 2048000,
      "rowLimit": 10000
     },
     "inputWidgets": {},
     "nuid": "d02a34dc-8f81-450a-9f89-a3a703861110",
     "showTitle": false,
     "title": ""
    }
   },
   "outputs": [],
   "source": [
    "silver_milestone.repartition(1).write.mode('overwrite').format('parquet').save(f'{test_path}/silver_milestone')"
   ]
  },
  {
   "cell_type": "code",
   "execution_count": 0,
   "metadata": {
    "application/vnd.databricks.v1+cell": {
     "cellMetadata": {
      "byteLimit": 2048000,
      "rowLimit": 10000
     },
     "inputWidgets": {},
     "nuid": "7eda9638-51e0-4ef1-8c72-44e517f3e3fe",
     "showTitle": false,
     "title": ""
    }
   },
   "outputs": [],
   "source": [
    "silver_org_linker.repartition(1).write.mode('overwrite').format('parquet').save(f'{test_path}/silver_org_linker')"
   ]
  },
  {
   "cell_type": "code",
   "execution_count": 0,
   "metadata": {
    "application/vnd.databricks.v1+cell": {
     "cellMetadata": {
      "byteLimit": 2048000,
      "rowLimit": 10000
     },
     "inputWidgets": {},
     "nuid": "54e1cb3f-02ec-4507-9728-5ee6dca04365",
     "showTitle": false,
     "title": ""
    }
   },
   "outputs": [],
   "source": [
    "silver_org_logins.repartition(1).write.mode('overwrite').format('parquet').save(f'{test_path}/silver_org_logins')"
   ]
  },
  {
   "cell_type": "code",
   "execution_count": 0,
   "metadata": {
    "application/vnd.databricks.v1+cell": {
     "cellMetadata": {
      "byteLimit": 2048000,
      "rowLimit": 10000
     },
     "inputWidgets": {},
     "nuid": "9042eeb0-ad60-4aee-b5c1-b4e47d42afde",
     "showTitle": false,
     "title": ""
    }
   },
   "outputs": [],
   "source": [
    "silver_pull_request.repartition(22).write.mode('overwrite').format('parquet').save(f'{test_path}/silver_pull_request')"
   ]
  },
  {
   "cell_type": "code",
   "execution_count": 0,
   "metadata": {
    "application/vnd.databricks.v1+cell": {
     "cellMetadata": {
      "byteLimit": 2048000,
      "rowLimit": 10000
     },
     "inputWidgets": {},
     "nuid": "98a3dea0-2a71-481f-ad96-43421e1e653e",
     "showTitle": false,
     "title": ""
    }
   },
   "outputs": [],
   "source": [
    "# silver_pull_request_assignee.write.mode('overwrite').format('parquet').save(f'{test_path}/silver_pull_request_assignee')"
   ]
  },
  {
   "cell_type": "code",
   "execution_count": 0,
   "metadata": {
    "application/vnd.databricks.v1+cell": {
     "cellMetadata": {
      "byteLimit": 2048000,
      "rowLimit": 10000
     },
     "inputWidgets": {},
     "nuid": "07ba5204-19c5-4056-9998-9119c5bd7a85",
     "showTitle": false,
     "title": ""
    }
   },
   "outputs": [],
   "source": [
    "silver_pull_request_reviewer_linking.repartition(1).write.mode('overwrite').format('parquet').save(f'{test_path}/silver_pull_request_reviewer_linking')"
   ]
  },
  {
   "cell_type": "code",
   "execution_count": 0,
   "metadata": {
    "application/vnd.databricks.v1+cell": {
     "cellMetadata": {
      "byteLimit": 2048000,
      "rowLimit": 10000
     },
     "inputWidgets": {},
     "nuid": "d50e74ac-3907-408e-9506-b72cba2fe84a",
     "showTitle": false,
     "title": ""
    }
   },
   "outputs": [],
   "source": [
    "silver_pull_request_label_linking.repartition(1).write.mode('overwrite').format('parquet').save(f'{test_path}/silver_pull_request_label_linking')"
   ]
  },
  {
   "cell_type": "code",
   "execution_count": 0,
   "metadata": {
    "application/vnd.databricks.v1+cell": {
     "cellMetadata": {
      "byteLimit": 2048000,
      "rowLimit": 10000
     },
     "inputWidgets": {},
     "nuid": "231a1a51-8725-43ea-b98c-af2ea89342c2",
     "showTitle": false,
     "title": ""
    }
   },
   "outputs": [],
   "source": [
    "silver_pull_request_teams.repartition(1).write.mode('overwrite').format('parquet').save(f'{test_path}/silver_pull_request_teams')"
   ]
  },
  {
   "cell_type": "code",
   "execution_count": 0,
   "metadata": {
    "application/vnd.databricks.v1+cell": {
     "cellMetadata": {
      "byteLimit": 2048000,
      "rowLimit": 10000
     },
     "inputWidgets": {},
     "nuid": "b9b5699b-d38b-4f41-b815-c9ab9fa45c43",
     "showTitle": false,
     "title": ""
    }
   },
   "outputs": [],
   "source": [
    "silver_repo.repartition(5).write.mode('overwrite').format('parquet').save(f'{test_path}/silver_repo')"
   ]
  },
  {
   "cell_type": "code",
   "execution_count": 0,
   "metadata": {
    "application/vnd.databricks.v1+cell": {
     "cellMetadata": {
      "byteLimit": 2048000,
      "rowLimit": 10000
     },
     "inputWidgets": {},
     "nuid": "418573ec-59b9-4f6e-9f95-99523b7a8c8a",
     "showTitle": false,
     "title": ""
    }
   },
   "outputs": [],
   "source": [
    "silver_repo_linker.repartition(1).write.mode('overwrite').format('parquet').save(f'{test_path}/silver_repo_linker')"
   ]
  },
  {
   "cell_type": "code",
   "execution_count": 0,
   "metadata": {
    "application/vnd.databricks.v1+cell": {
     "cellMetadata": {
      "byteLimit": 2048000,
      "rowLimit": 10000
     },
     "inputWidgets": {},
     "nuid": "82c5a3cc-5b89-42cd-a99c-faa1cbd7bf31",
     "showTitle": false,
     "title": ""
    }
   },
   "outputs": [],
   "source": [
    "silver_repo_names.repartition(9).write.mode('overwrite').format('parquet').save(f'{test_path}/silver_repo_names')"
   ]
  },
  {
   "cell_type": "code",
   "execution_count": 0,
   "metadata": {
    "application/vnd.databricks.v1+cell": {
     "cellMetadata": {
      "byteLimit": 2048000,
      "rowLimit": 10000
     },
     "inputWidgets": {},
     "nuid": "462fea92-d4ac-4357-b054-86f988f72c99",
     "showTitle": false,
     "title": ""
    }
   },
   "outputs": [],
   "source": [
    "silver_users.repartition(5).write.mode('overwrite').format('parquet').save(f'{test_path}/silver_users')"
   ]
  },
  {
   "cell_type": "code",
   "execution_count": 0,
   "metadata": {
    "application/vnd.databricks.v1+cell": {
     "cellMetadata": {},
     "inputWidgets": {},
     "nuid": "57b55c04-7b15-492b-bb4b-bb6c66d23da0",
     "showTitle": false,
     "title": ""
    }
   },
   "outputs": [],
   "source": [
    "silver_commits_action_linker.repartition(38).write.mode('overwrite').format('parquet').save(f'abfss://{contname}@{storage_acct_name}.dfs.core.windows.net/SilverLayer/silver_commits_action_linker')"
   ]
  }
 ],
 "metadata": {
  "application/vnd.databricks.v1+notebook": {
   "dashboards": [],
   "language": "python",
   "notebookMetadata": {
    "mostRecentlyExecutedCommandWithImplicitDF": {
     "commandId": 292190792587670,
     "dataframes": [
      "_sqldf"
     ]
    },
    "pythonIndentUnit": 4
   },
   "notebookName": "Jacob Anthony Silver",
   "widgets": {}
  }
 },
 "nbformat": 4,
 "nbformat_minor": 0
}
