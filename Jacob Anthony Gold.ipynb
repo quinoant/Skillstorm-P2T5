{
 "cells": [
  {
   "cell_type": "markdown",
   "metadata": {
    "application/vnd.databricks.v1+cell": {
     "cellMetadata": {},
     "inputWidgets": {},
     "nuid": "478d1f8e-b4d0-4949-b785-9a08372b8a7d",
     "showTitle": false,
     "title": ""
    }
   },
   "source": [
    "# README\n",
    "<p>The following notebook will read in the data from the silver layer, divided by main tables and linker tables.<br>The main tables will then be cleaned up, removing any unnecassry columns for aggregation and filling nulls.<br>Afterwards, they will be written to a datalake in snowflake format</p>"
   ]
  },
  {
   "cell_type": "markdown",
   "metadata": {
    "application/vnd.databricks.v1+cell": {
     "cellMetadata": {},
     "inputWidgets": {},
     "nuid": "52f6f9c3-e5ef-436c-81f2-512bb321f6a5",
     "showTitle": false,
     "title": ""
    }
   },
   "source": [
    "# Importing Silver layer\n"
   ]
  },
  {
   "cell_type": "markdown",
   "metadata": {
    "application/vnd.databricks.v1+cell": {
     "cellMetadata": {},
     "inputWidgets": {},
     "nuid": "dbf79c55-700c-4c3d-9292-20dd8154a50c",
     "showTitle": false,
     "title": ""
    }
   },
   "source": [
    "<p>Import the data from the silver layer into dataframes</p>"
   ]
  },
  {
   "cell_type": "code",
   "execution_count": 0,
   "metadata": {
    "application/vnd.databricks.v1+cell": {
     "cellMetadata": {
      "byteLimit": 2048000,
      "rowLimit": 10000
     },
     "inputWidgets": {},
     "nuid": "f7a445f5-ade0-4c1b-b29f-43f93ca6296e",
     "showTitle": false,
     "title": ""
    }
   },
   "outputs": [],
   "source": [
    "from pyspark.sql.types import *\n",
    "from pyspark.sql.functions import *\n",
    "from pyspark import SparkContext\n",
    "from pyspark.sql import Window"
   ]
  },
  {
   "cell_type": "code",
   "execution_count": 0,
   "metadata": {
    "application/vnd.databricks.v1+cell": {
     "cellMetadata": {
      "byteLimit": 2048000,
      "rowLimit": 10000
     },
     "inputWidgets": {},
     "nuid": "e08e73b2-3339-4fc7-8ae1-b7002b9593f5",
     "showTitle": false,
     "title": ""
    }
   },
   "outputs": [],
   "source": [
    "contname = 'team5-project2' #azure storage account container\n",
    "#THIS WILL CHANGE BASED ON TEAM: 'team2-project2', 'team3-project2', etc.\n",
    "\n",
    "storage_acct_name = '20230821desa'\n",
    "\n",
    "client_id = 'de4ff859-02b1-4e2f-9d16-b578fa03df4f' #aka: app id\n",
    "\n",
    "tenant_id = '33da9f3f-4c1a-4640-8ce1-3f63024aea1d' #aka: directory id\n",
    "\n",
    "service_credential = dbutils.secrets.get(scope=\"databricks-app-kv\",key=\"databricks-application\")"
   ]
  },
  {
   "cell_type": "markdown",
   "metadata": {
    "application/vnd.databricks.v1+cell": {
     "cellMetadata": {},
     "inputWidgets": {},
     "nuid": "336ad30d-8576-48a6-aa45-5d9a6971b581",
     "showTitle": false,
     "title": ""
    }
   },
   "source": [
    "\n",
    "## Main tables"
   ]
  },
  {
   "cell_type": "code",
   "execution_count": 0,
   "metadata": {
    "application/vnd.databricks.v1+cell": {
     "cellMetadata": {
      "byteLimit": 2048000,
      "rowLimit": 10000
     },
     "inputWidgets": {},
     "nuid": "f0906692-3146-4d22-83c0-aa3c7cd6304e",
     "showTitle": false,
     "title": ""
    }
   },
   "outputs": [],
   "source": [
    "action = (spark.read.format('parquet')\n",
    "      .option(\"header\",\"true\")\n",
    "      .option('inferColumnTypes', True)\n",
    "      .load(f\"abfss://{contname}@{storage_acct_name}.dfs.core.windows.net/SilverLayer/silver_action/part-*\"))"
   ]
  },
  {
   "cell_type": "code",
   "execution_count": 0,
   "metadata": {
    "application/vnd.databricks.v1+cell": {
     "cellMetadata": {
      "byteLimit": 2048000,
      "rowLimit": 10000
     },
     "inputWidgets": {},
     "nuid": "04b57dca-afc6-4544-971c-16d797a5dc87",
     "showTitle": false,
     "title": ""
    }
   },
   "outputs": [],
   "source": [
    "comments = (spark.read.format('parquet')\n",
    "      .option(\"header\",\"true\")\n",
    "      .option('inferColumnTypes', True)\n",
    "      .load(f\"abfss://{contname}@{storage_acct_name}.dfs.core.windows.net/SilverLayer/silver_comments/part-*\"))"
   ]
  },
  {
   "cell_type": "code",
   "execution_count": 0,
   "metadata": {
    "application/vnd.databricks.v1+cell": {
     "cellMetadata": {
      "byteLimit": 2048000,
      "rowLimit": 10000
     },
     "inputWidgets": {},
     "nuid": "35b1dad6-73e5-4937-8132-e9e5cd32769e",
     "showTitle": false,
     "title": ""
    }
   },
   "outputs": [],
   "source": [
    "commits = (spark.read.format('parquet')\n",
    "      .option(\"header\",\"true\")\n",
    "      .option('inferColumnTypes', True)\n",
    "      .load(f\"abfss://{contname}@{storage_acct_name}.dfs.core.windows.net/SilverLayer/silver_commits/part-*\"))"
   ]
  },
  {
   "cell_type": "code",
   "execution_count": 0,
   "metadata": {
    "application/vnd.databricks.v1+cell": {
     "cellMetadata": {
      "byteLimit": 2048000,
      "rowLimit": 10000
     },
     "inputWidgets": {},
     "nuid": "a7b72e67-e53d-4d0b-986a-97f5359f7f5b",
     "showTitle": false,
     "title": ""
    }
   },
   "outputs": [],
   "source": [
    "issue = (spark.read.format('parquet')\n",
    "      .option(\"header\",\"true\")\n",
    "      .option('inferColumnTypes', True)\n",
    "      .load(f\"abfss://{contname}@{storage_acct_name}.dfs.core.windows.net/SilverLayer/silver_issue/part-*\"))"
   ]
  },
  {
   "cell_type": "code",
   "execution_count": 0,
   "metadata": {
    "application/vnd.databricks.v1+cell": {
     "cellMetadata": {
      "byteLimit": 2048000,
      "rowLimit": 10000
     },
     "inputWidgets": {},
     "nuid": "3a5fd3e5-8461-4736-8cdb-257ca6ecdb1b",
     "showTitle": false,
     "title": ""
    }
   },
   "outputs": [],
   "source": [
    "label = (spark.read.format('parquet')\n",
    "      .option(\"header\",\"true\")\n",
    "      .option('inferColumnTypes', True)\n",
    "      .load(f\"abfss://{contname}@{storage_acct_name}.dfs.core.windows.net/SilverLayer/silver_label/part-*\"))"
   ]
  },
  {
   "cell_type": "code",
   "execution_count": 0,
   "metadata": {
    "application/vnd.databricks.v1+cell": {
     "cellMetadata": {
      "byteLimit": 2048000,
      "rowLimit": 10000
     },
     "inputWidgets": {},
     "nuid": "2c3db2fc-26f7-4f99-8b33-2e541f2f7a9f",
     "showTitle": false,
     "title": ""
    }
   },
   "outputs": [],
   "source": [
    "milestone = (spark.read.format('parquet')\n",
    "      .option(\"header\",\"true\")\n",
    "      .option('inferColumnTypes', True)\n",
    "      .load(f\"abfss://{contname}@{storage_acct_name}.dfs.core.windows.net/SilverLayer/silver_milestone/part-*\"))"
   ]
  },
  {
   "cell_type": "code",
   "execution_count": 0,
   "metadata": {
    "application/vnd.databricks.v1+cell": {
     "cellMetadata": {
      "byteLimit": 2048000,
      "rowLimit": 10000
     },
     "inputWidgets": {},
     "nuid": "76548e65-fa6f-497f-baa9-cdff6312773c",
     "showTitle": false,
     "title": ""
    }
   },
   "outputs": [],
   "source": [
    "org_logins = (spark.read.format('parquet')\n",
    "      .option(\"header\",\"true\")\n",
    "      .option('inferColumnTypes', True)\n",
    "      .load(f\"abfss://{contname}@{storage_acct_name}.dfs.core.windows.net/SilverLayer/silver_org_logins/part-*\"))"
   ]
  },
  {
   "cell_type": "code",
   "execution_count": 0,
   "metadata": {
    "application/vnd.databricks.v1+cell": {
     "cellMetadata": {
      "byteLimit": 2048000,
      "rowLimit": 10000
     },
     "inputWidgets": {},
     "nuid": "0cd52642-633e-45b6-9f67-4fa99ac15f82",
     "showTitle": false,
     "title": ""
    }
   },
   "outputs": [],
   "source": [
    "pull_request = (spark.read.format('parquet')\n",
    "      .option(\"header\",\"true\")\n",
    "      .option('inferColumnTypes', True)\n",
    "      .load(f\"abfss://{contname}@{storage_acct_name}.dfs.core.windows.net/SilverLayer/silver_pull_request/part-*\"))"
   ]
  },
  {
   "cell_type": "code",
   "execution_count": 0,
   "metadata": {
    "application/vnd.databricks.v1+cell": {
     "cellMetadata": {
      "byteLimit": 2048000,
      "rowLimit": 10000
     },
     "inputWidgets": {},
     "nuid": "d4d1fd98-c68d-4030-82f5-93b526ad1be2",
     "showTitle": false,
     "title": ""
    }
   },
   "outputs": [],
   "source": [
    "repo = (spark.read.format('parquet')\n",
    "      .option(\"header\",\"true\")\n",
    "      .option('inferColumnTypes', True)\n",
    "      .load(f\"abfss://{contname}@{storage_acct_name}.dfs.core.windows.net/SilverLayer/silver_repo/part-*\"))"
   ]
  },
  {
   "cell_type": "code",
   "execution_count": 0,
   "metadata": {
    "application/vnd.databricks.v1+cell": {
     "cellMetadata": {
      "byteLimit": 2048000,
      "rowLimit": 10000
     },
     "inputWidgets": {},
     "nuid": "89e87994-4bd8-4ee5-a052-7fd1fb06125b",
     "showTitle": false,
     "title": ""
    }
   },
   "outputs": [],
   "source": [
    "timestamp = (spark.read.format('parquet')\n",
    "      .option(\"header\",\"true\")\n",
    "      .option('inferColumnTypes', True)\n",
    "      .load(f\"abfss://{contname}@{storage_acct_name}.dfs.core.windows.net/SilverLayer/silver_timestamp/part-*\"))"
   ]
  },
  {
   "cell_type": "code",
   "execution_count": 0,
   "metadata": {
    "application/vnd.databricks.v1+cell": {
     "cellMetadata": {
      "byteLimit": 2048000,
      "rowLimit": 10000
     },
     "inputWidgets": {},
     "nuid": "689d1822-55c5-4e10-9c47-61a1954da9d3",
     "showTitle": false,
     "title": ""
    }
   },
   "outputs": [],
   "source": [
    "user = (spark.read.format('parquet')\n",
    "      .option(\"header\",\"true\")\n",
    "      .option('inferColumnTypes', True)\n",
    "      .load(f\"abfss://{contname}@{storage_acct_name}.dfs.core.windows.net/SilverLayer/silver_users/part-*\"))"
   ]
  },
  {
   "cell_type": "markdown",
   "metadata": {
    "application/vnd.databricks.v1+cell": {
     "cellMetadata": {},
     "inputWidgets": {},
     "nuid": "7da7e3be-4513-43a1-86e5-253fa103677a",
     "showTitle": false,
     "title": ""
    }
   },
   "source": [
    "## Linker tables"
   ]
  },
  {
   "cell_type": "code",
   "execution_count": 0,
   "metadata": {
    "application/vnd.databricks.v1+cell": {
     "cellMetadata": {
      "byteLimit": 2048000,
      "rowLimit": 10000
     },
     "inputWidgets": {},
     "nuid": "bb67a7bc-5670-468e-a7cb-fe96fe8f7fbc",
     "showTitle": false,
     "title": ""
    }
   },
   "outputs": [],
   "source": [
    "commits_action_linker = (spark.read.format('parquet')\n",
    "      .option(\"header\",\"true\")\n",
    "      .option('inferColumnTypes', True)\n",
    "      .load(f\"abfss://{contname}@{storage_acct_name}.dfs.core.windows.net/SilverLayer/silver_commits_action_linker/part-*\"))"
   ]
  },
  {
   "cell_type": "code",
   "execution_count": 0,
   "metadata": {
    "application/vnd.databricks.v1+cell": {
     "cellMetadata": {
      "byteLimit": 2048000,
      "rowLimit": 10000
     },
     "inputWidgets": {},
     "nuid": "08a552ad-b50c-4b3b-a134-2c7b8cf94431",
     "showTitle": false,
     "title": ""
    }
   },
   "outputs": [],
   "source": [
    "issue_assignee_linker = (spark.read.format('parquet')\n",
    "      .option(\"header\",\"true\")\n",
    "      .option('inferColumnTypes', True)\n",
    "      .load(f\"abfss://{contname}@{storage_acct_name}.dfs.core.windows.net/SilverLayer/silver_issue_assignee_linker/part-*\"))"
   ]
  },
  {
   "cell_type": "code",
   "execution_count": 0,
   "metadata": {
    "application/vnd.databricks.v1+cell": {
     "cellMetadata": {
      "byteLimit": 2048000,
      "rowLimit": 10000
     },
     "inputWidgets": {},
     "nuid": "b15e9b1d-90c1-4afb-a9f2-cc83484ab6ea",
     "showTitle": false,
     "title": ""
    }
   },
   "outputs": [],
   "source": [
    "issue_label_linker = (spark.read.format('parquet')\n",
    "      .option(\"header\",\"true\")\n",
    "      .option('inferColumnTypes', True)\n",
    "      .load(f\"abfss://{contname}@{storage_acct_name}.dfs.core.windows.net/SilverLayer/silver_issue_label_linker/part-*\"))"
   ]
  },
  {
   "cell_type": "code",
   "execution_count": 0,
   "metadata": {
    "application/vnd.databricks.v1+cell": {
     "cellMetadata": {
      "byteLimit": 2048000,
      "rowLimit": 10000
     },
     "inputWidgets": {},
     "nuid": "d239ec7b-003d-41cd-8d84-7d3a8603575d",
     "showTitle": false,
     "title": ""
    }
   },
   "outputs": [],
   "source": [
    "pull_request_label_linking = (spark.read.format('parquet')\n",
    "      .option(\"header\",\"true\")\n",
    "      .option('inferColumnTypes', True)\n",
    "      .load(f\"abfss://{contname}@{storage_acct_name}.dfs.core.windows.net/SilverLayer/silver_pull_request_label_linking/part-*\"))"
   ]
  },
  {
   "cell_type": "code",
   "execution_count": 0,
   "metadata": {
    "application/vnd.databricks.v1+cell": {
     "cellMetadata": {
      "byteLimit": 2048000,
      "rowLimit": 10000
     },
     "inputWidgets": {},
     "nuid": "89999d49-3d9f-443c-af40-f892d0311e8b",
     "showTitle": false,
     "title": ""
    }
   },
   "outputs": [],
   "source": [
    "issue_reactions = (spark.read.format('parquet')\n",
    "      .option(\"header\",\"true\")\n",
    "      .option('inferColumnTypes', True)\n",
    "      .load(f\"abfss://{contname}@{storage_acct_name}.dfs.core.windows.net/SilverLayer/silver_issue_reactions/part-*\"))"
   ]
  },
  {
   "cell_type": "code",
   "execution_count": 0,
   "metadata": {
    "application/vnd.databricks.v1+cell": {
     "cellMetadata": {
      "byteLimit": 2048000,
      "rowLimit": 10000
     },
     "inputWidgets": {},
     "nuid": "1c32af69-a820-4e59-af1d-ab9f6aeec7aa",
     "showTitle": false,
     "title": ""
    }
   },
   "outputs": [],
   "source": [
    "issue_pull_request = (spark.read.format('parquet')\n",
    "      .option(\"header\",\"true\")\n",
    "      .option('inferColumnTypes', True)\n",
    "      .load(f\"abfss://{contname}@{storage_acct_name}.dfs.core.windows.net/SilverLayer/silver_issue_pull_request/part-*\"))"
   ]
  },
  {
   "cell_type": "code",
   "execution_count": 0,
   "metadata": {
    "application/vnd.databricks.v1+cell": {
     "cellMetadata": {
      "byteLimit": 2048000,
      "rowLimit": 10000
     },
     "inputWidgets": {},
     "nuid": "ef7fe888-3b11-4bc6-80f8-d4a47ef7bb8c",
     "showTitle": false,
     "title": ""
    }
   },
   "outputs": [],
   "source": [
    "org_linker = (spark.read.format('parquet')\n",
    "      .option(\"header\",\"true\")\n",
    "      .option('inferColumnTypes', True)\n",
    "      .load(f\"abfss://{contname}@{storage_acct_name}.dfs.core.windows.net/SilverLayer/silver_org_linker/part-*\"))"
   ]
  },
  {
   "cell_type": "code",
   "execution_count": 0,
   "metadata": {
    "application/vnd.databricks.v1+cell": {
     "cellMetadata": {
      "byteLimit": 2048000,
      "rowLimit": 10000
     },
     "inputWidgets": {},
     "nuid": "60c40137-b711-42a1-8bc3-11f1bab5fdf8",
     "showTitle": false,
     "title": ""
    }
   },
   "outputs": [],
   "source": [
    "pull_request_teams = (spark.read.format('parquet')\n",
    "      .option(\"header\",\"true\")\n",
    "      .option('inferColumnTypes', True)\n",
    "      .load(f\"abfss://{contname}@{storage_acct_name}.dfs.core.windows.net/SilverLayer/silver_pull_request_teams/part-*\"))"
   ]
  },
  {
   "cell_type": "code",
   "execution_count": 0,
   "metadata": {
    "application/vnd.databricks.v1+cell": {
     "cellMetadata": {
      "byteLimit": 2048000,
      "rowLimit": 10000
     },
     "inputWidgets": {},
     "nuid": "7a2cf8fd-648f-4943-a274-fc9a93a5d630",
     "showTitle": false,
     "title": ""
    }
   },
   "outputs": [],
   "source": [
    "pull_request_reviewer_linking = (spark.read.format('parquet')\n",
    "      .option(\"header\",\"true\")\n",
    "      .option('inferColumnTypes', True)\n",
    "      .load(f\"abfss://{contname}@{storage_acct_name}.dfs.core.windows.net/SilverLayer/silver_pull_request_reviewer_linking/part-*\"))"
   ]
  },
  {
   "cell_type": "code",
   "execution_count": 0,
   "metadata": {
    "application/vnd.databricks.v1+cell": {
     "cellMetadata": {
      "byteLimit": 2048000,
      "rowLimit": 10000
     },
     "inputWidgets": {},
     "nuid": "ee06d116-ffca-4c89-8532-427424df3d74",
     "showTitle": false,
     "title": ""
    }
   },
   "outputs": [],
   "source": [
    "repo_linker = (spark.read.format('parquet')\n",
    "      .option(\"header\",\"true\")\n",
    "      .option('inferColumnTypes', True)\n",
    "      .load(f\"abfss://{contname}@{storage_acct_name}.dfs.core.windows.net/SilverLayer/silver_repo_linker/part-*\"))"
   ]
  },
  {
   "cell_type": "code",
   "execution_count": 0,
   "metadata": {
    "application/vnd.databricks.v1+cell": {
     "cellMetadata": {
      "byteLimit": 2048000,
      "rowLimit": 10000
     },
     "inputWidgets": {},
     "nuid": "53f22e80-17fb-4417-9737-4ec251280c46",
     "showTitle": false,
     "title": ""
    }
   },
   "outputs": [],
   "source": [
    "repo_names = (spark.read.format('parquet')\n",
    "      .option(\"header\",\"true\")\n",
    "      .option('inferColumnTypes', True)\n",
    "      .load(f\"abfss://{contname}@{storage_acct_name}.dfs.core.windows.net/SilverLayer/silver_repo_names/part-*\"))"
   ]
  },
  {
   "cell_type": "markdown",
   "metadata": {
    "application/vnd.databricks.v1+cell": {
     "cellMetadata": {},
     "inputWidgets": {},
     "nuid": "845e9a28-f8a9-4c13-9cea-deb7a19c33e0",
     "showTitle": false,
     "title": ""
    }
   },
   "source": [
    "# Final Cleaning\n",
    "<p>Dropping unneeded columns and filling in nulls</p>"
   ]
  },
  {
   "cell_type": "markdown",
   "metadata": {
    "application/vnd.databricks.v1+cell": {
     "cellMetadata": {},
     "inputWidgets": {},
     "nuid": "a2c30eb7-30e7-4bcb-bb12-787dc14e7d87",
     "showTitle": false,
     "title": ""
    }
   },
   "source": [
    "Filling Nulls: \n",
    "<ul>\n",
    "  <li>Fill all strings with 'N/A'</li>\n",
    "  <li>Fill all numerics with -1</li>\n",
    "</ul>"
   ]
  },
  {
   "cell_type": "markdown",
   "metadata": {
    "application/vnd.databricks.v1+cell": {
     "cellMetadata": {},
     "inputWidgets": {},
     "nuid": "2bca65df-d0a5-4cd7-b971-3ac360e7c218",
     "showTitle": false,
     "title": ""
    }
   },
   "source": [
    "## Refining Issue"
   ]
  },
  {
   "cell_type": "code",
   "execution_count": 0,
   "metadata": {
    "application/vnd.databricks.v1+cell": {
     "cellMetadata": {
      "byteLimit": 2048000,
      "rowLimit": 10000
     },
     "inputWidgets": {},
     "nuid": "db5c265d-1a42-4bf0-ad26-a66fbfd41d6a",
     "showTitle": false,
     "title": ""
    }
   },
   "outputs": [],
   "source": [
    "issue = issue.withColumn('closed',col('closed_at').isNotNull()).drop('closed_at')"
   ]
  },
  {
   "cell_type": "code",
   "execution_count": 0,
   "metadata": {
    "application/vnd.databricks.v1+cell": {
     "cellMetadata": {
      "byteLimit": 2048000,
      "rowLimit": 10000
     },
     "inputWidgets": {},
     "nuid": "db3edccf-274e-4325-a678-966c861569af",
     "showTitle": false,
     "title": ""
    }
   },
   "outputs": [],
   "source": [
    "# Remove unncessary columns for the gold layer\n",
    "issue = issue.drop('timeline_url','state','number','node_id','locked','labels_url','html_url','events_url','comments_url','comments')"
   ]
  },
  {
   "cell_type": "code",
   "execution_count": 0,
   "metadata": {
    "application/vnd.databricks.v1+cell": {
     "cellMetadata": {
      "byteLimit": 2048000,
      "rowLimit": 10000
     },
     "inputWidgets": {},
     "nuid": "2b220edf-4552-4116-a89c-be16b3f30718",
     "showTitle": false,
     "title": ""
    }
   },
   "outputs": [],
   "source": [
    "issue = issue.fillna('N/A',subset=['body','draft','pull_request_url']).fillna(-1,subset=['issue_milestone_id']).fillna(False,subset=['draft'])"
   ]
  },
  {
   "cell_type": "markdown",
   "metadata": {
    "application/vnd.databricks.v1+cell": {
     "cellMetadata": {},
     "inputWidgets": {},
     "nuid": "f1a6b0cd-e38b-4ea4-b07c-3072e0bb6026",
     "showTitle": false,
     "title": ""
    }
   },
   "source": [
    "## Refining Users"
   ]
  },
  {
   "cell_type": "code",
   "execution_count": 0,
   "metadata": {
    "application/vnd.databricks.v1+cell": {
     "cellMetadata": {
      "byteLimit": 2048000,
      "rowLimit": 10000
     },
     "inputWidgets": {},
     "nuid": "46be014b-05d9-4050-b980-e7512ab0a75e",
     "showTitle": false,
     "title": ""
    }
   },
   "outputs": [],
   "source": [
    "user = user.dropna()"
   ]
  },
  {
   "cell_type": "markdown",
   "metadata": {
    "application/vnd.databricks.v1+cell": {
     "cellMetadata": {},
     "inputWidgets": {},
     "nuid": "6e5f42a1-2ff7-4c97-be5a-c93f1a540543",
     "showTitle": false,
     "title": ""
    }
   },
   "source": [
    "## Refining Commits"
   ]
  },
  {
   "cell_type": "code",
   "execution_count": 0,
   "metadata": {
    "application/vnd.databricks.v1+cell": {
     "cellMetadata": {
      "byteLimit": 2048000,
      "rowLimit": 10000
     },
     "inputWidgets": {},
     "nuid": "e7c29e20-cc4c-415b-b984-bb5f53ba5775",
     "showTitle": false,
     "title": ""
    }
   },
   "outputs": [],
   "source": [
    "# We don't need to know the sha key\n",
    "commits = commits.drop('commit_sha')"
   ]
  },
  {
   "cell_type": "markdown",
   "metadata": {
    "application/vnd.databricks.v1+cell": {
     "cellMetadata": {},
     "inputWidgets": {},
     "nuid": "54c9649d-52e4-4007-86ab-b58ab267a073",
     "showTitle": false,
     "title": ""
    }
   },
   "source": [
    "## Refining Timestamp Into a Dimension Table"
   ]
  },
  {
   "cell_type": "code",
   "execution_count": 0,
   "metadata": {
    "application/vnd.databricks.v1+cell": {
     "cellMetadata": {
      "byteLimit": 2048000,
      "rowLimit": 10000
     },
     "inputWidgets": {},
     "nuid": "ecd56d07-3420-40b2-b733-d6073224d7bb",
     "showTitle": false,
     "title": ""
    }
   },
   "outputs": [],
   "source": [
    "# I (Jacob) prefer to use SQL\n",
    "timestamp.createOrReplaceTempView('timestamp')"
   ]
  },
  {
   "cell_type": "code",
   "execution_count": 0,
   "metadata": {
    "application/vnd.databricks.v1+cell": {
     "cellMetadata": {
      "byteLimit": 2048000,
      "implicitDf": true,
      "rowLimit": 10000
     },
     "inputWidgets": {},
     "nuid": "f859ef0f-59c0-456a-936a-b303cafebb32",
     "showTitle": false,
     "title": ""
    }
   },
   "outputs": [
    {
     "output_type": "display_data",
     "data": {
      "text/html": [
       "<style scoped>\n",
       "  .table-result-container {\n",
       "    max-height: 300px;\n",
       "    overflow: auto;\n",
       "  }\n",
       "  table, th, td {\n",
       "    border: 1px solid black;\n",
       "    border-collapse: collapse;\n",
       "  }\n",
       "  th, td {\n",
       "    padding: 5px;\n",
       "  }\n",
       "  th {\n",
       "    text-align: left;\n",
       "  }\n",
       "</style><div class='table-result-container'><table class='table-result'><thead style='background-color: white'><tr><th>num_affected_rows</th><th>num_inserted_rows</th></tr></thead><tbody></tbody></table></div>"
      ]
     },
     "metadata": {
      "application/vnd.databricks.v1+output": {
       "addedWidgets": {},
       "aggData": [],
       "aggError": "",
       "aggOverflow": false,
       "aggSchema": [],
       "aggSeriesLimitReached": false,
       "aggType": "",
       "arguments": {},
       "columnCustomDisplayInfos": {},
       "data": [],
       "datasetInfos": [],
       "dbfsResultPath": null,
       "isJsonSchema": true,
       "metadata": {
        "dataframeName": "_sqldf",
        "executionCount": 30
       },
       "overflow": false,
       "plotOptions": {
        "customPlotOptions": {},
        "displayType": "table",
        "pivotAggregation": null,
        "pivotColumns": null,
        "xColumns": null,
        "yColumns": null
       },
       "removedWidgets": [],
       "schema": [
        {
         "metadata": "{}",
         "name": "num_affected_rows",
         "type": "\"long\""
        },
        {
         "metadata": "{}",
         "name": "num_inserted_rows",
         "type": "\"long\""
        }
       ],
       "type": "table"
      }
     },
     "output_type": "display_data"
    }
   ],
   "source": [
    "%sql\n",
    "-- Aggregating data upon timestamp and dropping deleted_at since unused.\n",
    "CREATE OR REPLACE TABLE gold_timestamp as\n",
    "SELECT time_id, \n",
    "    created_at, year(created_at) as year_created,month(created_at) as month_created, weekofyear(created_at) as number_of_week_created, day(created_at) as day_created, hour(created_at) as hour_created, \n",
    "    updated_at, year(updated_at) as year_updated,month(updated_at) as month_updated,weekofyear(updated_at) as number_of_week_updated, day(updated_at) as day_updated, hour(updated_at) as hour_updated\n",
    "FROM timestamp"
   ]
  },
  {
   "cell_type": "code",
   "execution_count": 0,
   "metadata": {
    "application/vnd.databricks.v1+cell": {
     "cellMetadata": {
      "byteLimit": 2048000,
      "rowLimit": 10000
     },
     "inputWidgets": {},
     "nuid": "7a2029a6-6d41-46ff-ad13-133d1a149640",
     "showTitle": false,
     "title": ""
    }
   },
   "outputs": [],
   "source": [
    "timestamp = spark.sql('SELECT * FROM gold_timestamp')  # Reloading back into a dataframe"
   ]
  },
  {
   "cell_type": "markdown",
   "metadata": {
    "application/vnd.databricks.v1+cell": {
     "cellMetadata": {},
     "inputWidgets": {},
     "nuid": "021e2fd3-29cd-44ed-89db-7f8852985ce7",
     "showTitle": false,
     "title": ""
    }
   },
   "source": [
    "## Refining Pull Request"
   ]
  },
  {
   "cell_type": "code",
   "execution_count": 0,
   "metadata": {
    "application/vnd.databricks.v1+cell": {
     "cellMetadata": {
      "byteLimit": 2048000,
      "rowLimit": 10000
     },
     "inputWidgets": {},
     "nuid": "be914836-e4f5-4f98-aded-6f582ddb1df0",
     "showTitle": false,
     "title": ""
    }
   },
   "outputs": [],
   "source": [
    "# Pull_request needs to be able to join comments and issue, however the url for these has an addition /comments at the end\n",
    "# This regex will remove that\n",
    "pull_request = pull_request.withColumn('pull_request_comments_url',regexp_replace('pull_request_comments_url','/comments$',''))"
   ]
  },
  {
   "cell_type": "code",
   "execution_count": 0,
   "metadata": {
    "application/vnd.databricks.v1+cell": {
     "cellMetadata": {
      "byteLimit": 2048000,
      "rowLimit": 10000
     },
     "inputWidgets": {},
     "nuid": "3d8939a0-b190-4ba4-843c-f7a178c1b65a",
     "showTitle": false,
     "title": ""
    }
   },
   "outputs": [],
   "source": [
    "# Returns everything in PR and replaces comment_url with comment_id\n",
    "pull_request = pull_request\\\n",
    "    .join(comments.select('comment_pull_request_url','comment_id'), \\\n",
    "    pull_request.pull_request_comments_url == comments.comment_pull_request_url, how='left')\\\n",
    "    .drop('pull_request_comment_url','comment_pull_request_url')  "
   ]
  },
  {
   "cell_type": "code",
   "execution_count": 0,
   "metadata": {
    "application/vnd.databricks.v1+cell": {
     "cellMetadata": {
      "byteLimit": 2048000,
      "rowLimit": 10000
     },
     "inputWidgets": {},
     "nuid": "93632237-3f1a-4816-bfc9-18fdcaa3195a",
     "showTitle": false,
     "title": ""
    }
   },
   "outputs": [],
   "source": [
    "# Returns everything in PR and replaces self_url with issue_id\n",
    "pull_request = pull_request.join(issue.select('issue_id','pull_request_url'),\\\n",
    "    pull_request.pull_request_self_url == issue.pull_request_url, how='left')\\\n",
    "    .drop('pull_request_self_url','pull_request_url')"
   ]
  },
  {
   "cell_type": "code",
   "execution_count": 0,
   "metadata": {
    "application/vnd.databricks.v1+cell": {
     "cellMetadata": {
      "byteLimit": 2048000,
      "rowLimit": 10000
     },
     "inputWidgets": {},
     "nuid": "9baca958-8019-42b8-9bf4-b4f6968143bc",
     "showTitle": false,
     "title": ""
    }
   },
   "outputs": [],
   "source": [
    "pull_request = pull_request.drop('pull_request_comments_url','pull_request_commits_url','pull_request_html_url',\\\n",
    "    'pull_request_self_url','pull_request_status_url',\\\n",
    "    'pull_request_auto_merge_commit_message','pull_request_auto_merge_commit_title','pull_request_auto_merge_method')"
   ]
  },
  {
   "cell_type": "code",
   "execution_count": 0,
   "metadata": {
    "application/vnd.databricks.v1+cell": {
     "cellMetadata": {
      "byteLimit": 2048000,
      "rowLimit": 10000
     },
     "inputWidgets": {},
     "nuid": "42caf95c-5ed5-47d6-94b3-4612834967cb",
     "showTitle": false,
     "title": ""
    }
   },
   "outputs": [],
   "source": [
    "# Fills all strings with N/A and numerics with -1\n",
    "pull_request = pull_request.fillna('N/A',subset=['pull_request_head_name','pull_request_base_name']).na.fill(-1)"
   ]
  },
  {
   "cell_type": "markdown",
   "metadata": {
    "application/vnd.databricks.v1+cell": {
     "cellMetadata": {},
     "inputWidgets": {},
     "nuid": "8bb8919e-3ac3-4f07-9066-abf6fbbf67cb",
     "showTitle": false,
     "title": ""
    }
   },
   "source": [
    "## Refining Label"
   ]
  },
  {
   "cell_type": "code",
   "execution_count": 0,
   "metadata": {
    "application/vnd.databricks.v1+cell": {
     "cellMetadata": {
      "byteLimit": 2048000,
      "rowLimit": 10000
     },
     "inputWidgets": {},
     "nuid": "e7908017-b1f2-405f-9541-11136216e5b7",
     "showTitle": false,
     "title": ""
    }
   },
   "outputs": [],
   "source": [
    "label = label.drop('label_color','label_node_id')"
   ]
  },
  {
   "cell_type": "code",
   "execution_count": 0,
   "metadata": {
    "application/vnd.databricks.v1+cell": {
     "cellMetadata": {
      "byteLimit": 2048000,
      "rowLimit": 10000
     },
     "inputWidgets": {},
     "nuid": "c2a6caf6-7651-4a16-b0da-634f3d692905",
     "showTitle": false,
     "title": ""
    }
   },
   "outputs": [],
   "source": [
    "label = label.fillna('N/A',subset=['label_description'])"
   ]
  },
  {
   "cell_type": "markdown",
   "metadata": {
    "application/vnd.databricks.v1+cell": {
     "cellMetadata": {},
     "inputWidgets": {},
     "nuid": "622267d2-c5cb-4e26-95dd-f1fb0c29b924",
     "showTitle": false,
     "title": ""
    }
   },
   "source": [
    "## Refining Action"
   ]
  },
  {
   "cell_type": "code",
   "execution_count": 0,
   "metadata": {
    "application/vnd.databricks.v1+cell": {
     "cellMetadata": {
      "byteLimit": 2048000,
      "rowLimit": 10000
     },
     "inputWidgets": {},
     "nuid": "5019eefb-6a6b-427f-81df-f28aa83ca741",
     "showTitle": false,
     "title": ""
    }
   },
   "outputs": [],
   "source": [
    "action = action.fillna('N/A',subset=['action_type','action']).na.fill(-1)"
   ]
  },
  {
   "cell_type": "markdown",
   "metadata": {
    "application/vnd.databricks.v1+cell": {
     "cellMetadata": {},
     "inputWidgets": {},
     "nuid": "2f606427-0762-4141-a8b5-22d8686ae531",
     "showTitle": false,
     "title": ""
    }
   },
   "source": [
    "## Refining Milestone"
   ]
  },
  {
   "cell_type": "code",
   "execution_count": 0,
   "metadata": {
    "application/vnd.databricks.v1+cell": {
     "cellMetadata": {
      "byteLimit": 2048000,
      "rowLimit": 10000
     },
     "inputWidgets": {},
     "nuid": "d337fd12-f909-4ef8-b698-15994804bfb7",
     "showTitle": false,
     "title": ""
    }
   },
   "outputs": [],
   "source": [
    "milestone = milestone.withColumn('closed',col('milestone_closed_at').isNotNull())"
   ]
  },
  {
   "cell_type": "code",
   "execution_count": 0,
   "metadata": {
    "application/vnd.databricks.v1+cell": {
     "cellMetadata": {
      "byteLimit": 2048000,
      "rowLimit": 10000
     },
     "inputWidgets": {},
     "nuid": "5d7c91c1-a583-4340-8c50-e9606d7bb18e",
     "showTitle": false,
     "title": ""
    }
   },
   "outputs": [],
   "source": [
    "milestone = milestone.drop('milestone_closed_at','milestone_html_url','milestone_labels_url','milestone_node_id')"
   ]
  },
  {
   "cell_type": "code",
   "execution_count": 0,
   "metadata": {
    "application/vnd.databricks.v1+cell": {
     "cellMetadata": {
      "byteLimit": 2048000,
      "rowLimit": 10000
     },
     "inputWidgets": {},
     "nuid": "7027020a-c088-489e-bc84-0c39de52a257",
     "showTitle": false,
     "title": ""
    }
   },
   "outputs": [],
   "source": [
    "milestone = milestone.fillna('N/A',subset=(['milestone_description','milestone_due_on']))"
   ]
  },
  {
   "cell_type": "markdown",
   "metadata": {
    "application/vnd.databricks.v1+cell": {
     "cellMetadata": {},
     "inputWidgets": {},
     "nuid": "26a3af89-43d8-4fdb-9ecd-722161abee6c",
     "showTitle": false,
     "title": ""
    }
   },
   "source": [
    "## Refining Repo"
   ]
  },
  {
   "cell_type": "code",
   "execution_count": 0,
   "metadata": {
    "application/vnd.databricks.v1+cell": {
     "cellMetadata": {
      "byteLimit": 2048000,
      "rowLimit": 10000
     },
     "inputWidgets": {},
     "nuid": "9ccdc58e-2a60-41bd-9c52-35f6c29b35b2",
     "showTitle": false,
     "title": ""
    }
   },
   "outputs": [],
   "source": [
    "repo = repo.dropna(subset=['repo_id'])  # If repo_id is null, then it must not exist"
   ]
  },
  {
   "cell_type": "markdown",
   "metadata": {
    "application/vnd.databricks.v1+cell": {
     "cellMetadata": {},
     "inputWidgets": {},
     "nuid": "fdd8708c-23c3-484f-9f22-1844b13cc5e4",
     "showTitle": false,
     "title": ""
    }
   },
   "source": [
    "## Refining Comments"
   ]
  },
  {
   "cell_type": "code",
   "execution_count": 0,
   "metadata": {
    "application/vnd.databricks.v1+cell": {
     "cellMetadata": {
      "byteLimit": 2048000,
      "rowLimit": 10000
     },
     "inputWidgets": {},
     "nuid": "e423df14-8fbe-44a6-882b-e9508e3ef8c5",
     "showTitle": false,
     "title": ""
    }
   },
   "outputs": [],
   "source": [
    "comments = comments.drop('comment_diff_hunk','node_id','comment_line','comment_html_url','original_line','original_position','position')"
   ]
  },
  {
   "cell_type": "code",
   "execution_count": 0,
   "metadata": {
    "application/vnd.databricks.v1+cell": {
     "cellMetadata": {
      "byteLimit": 2048000,
      "rowLimit": 10000
     },
     "inputWidgets": {},
     "nuid": "05a2cc07-e9e5-4066-94de-f73734e056d3",
     "showTitle": false,
     "title": ""
    }
   },
   "outputs": [],
   "source": [
    "comments = comments.fillna(-1,subset=['in_reply_to_comment_id','pull_request_review_id'])\n",
    "comments = comments.fillna('N\\A',subset=['comment_pull_request_url','commit_id','original_commit_id','pull_request_url','comment_path','comment_issue_url'])"
   ]
  },
  {
   "cell_type": "markdown",
   "metadata": {
    "application/vnd.databricks.v1+cell": {
     "cellMetadata": {},
     "inputWidgets": {},
     "nuid": "106318a3-2c5b-4eec-bd96-9fec178a3954",
     "showTitle": false,
     "title": ""
    }
   },
   "source": [
    "\n",
    "# Writing to Gold Layer"
   ]
  },
  {
   "cell_type": "code",
   "execution_count": 0,
   "metadata": {
    "application/vnd.databricks.v1+cell": {
     "cellMetadata": {
      "byteLimit": 2048000,
      "rowLimit": 10000
     },
     "inputWidgets": {},
     "nuid": "501290c2-dcc4-460c-812b-4f883d7c6c8a",
     "showTitle": false,
     "title": ""
    }
   },
   "outputs": [],
   "source": [
    "gold_path = f'abfss://{contname}@{storage_acct_name}.dfs.core.windows.net/GoldLayer'"
   ]
  },
  {
   "cell_type": "markdown",
   "metadata": {
    "application/vnd.databricks.v1+cell": {
     "cellMetadata": {},
     "inputWidgets": {},
     "nuid": "9f2dda59-9066-4121-93cf-132e5aebe495",
     "showTitle": false,
     "title": ""
    }
   },
   "source": [
    "## Main tables\n",
    "<p>Repartition amounts decided by looking back at silver, with the goal of ~120Mb per file</p>"
   ]
  },
  {
   "cell_type": "code",
   "execution_count": 0,
   "metadata": {
    "application/vnd.databricks.v1+cell": {
     "cellMetadata": {
      "byteLimit": 2048000,
      "rowLimit": 10000
     },
     "inputWidgets": {},
     "nuid": "d09a09a4-84d2-41e7-80f9-428eaa01aad7",
     "showTitle": false,
     "title": ""
    }
   },
   "outputs": [],
   "source": [
    "action.repartition(18).write.format('parquet').mode('overwrite').save(f'{gold_path}/factAction')"
   ]
  },
  {
   "cell_type": "code",
   "execution_count": 0,
   "metadata": {
    "application/vnd.databricks.v1+cell": {
     "cellMetadata": {
      "byteLimit": 2048000,
      "rowLimit": 10000
     },
     "inputWidgets": {},
     "nuid": "610cd7e7-a142-42ba-913e-745a3caa5845",
     "showTitle": false,
     "title": ""
    }
   },
   "outputs": [],
   "source": [
    "comments.repartition(34).write.format('parquet').mode('overwrite').save(f'{gold_path}/dimComments')"
   ]
  },
  {
   "cell_type": "code",
   "execution_count": 0,
   "metadata": {
    "application/vnd.databricks.v1+cell": {
     "cellMetadata": {
      "byteLimit": 2048000,
      "rowLimit": 10000
     },
     "inputWidgets": {},
     "nuid": "52c50017-60d1-4e32-83b7-8688673d1df8",
     "showTitle": false,
     "title": ""
    }
   },
   "outputs": [],
   "source": [
    "commits.repartition(72).write.format('parquet').mode('overwrite').save(f'{gold_path}/dimCommits')"
   ]
  },
  {
   "cell_type": "code",
   "execution_count": 0,
   "metadata": {
    "application/vnd.databricks.v1+cell": {
     "cellMetadata": {
      "byteLimit": 2048000,
      "rowLimit": 10000
     },
     "inputWidgets": {},
     "nuid": "3d96a08f-bf07-4533-8434-3762d30645f2",
     "showTitle": false,
     "title": ""
    }
   },
   "outputs": [],
   "source": [
    "issue.repartition(18).write.format('parquet').mode('overwrite').save(f'{gold_path}/dimIssues')"
   ]
  },
  {
   "cell_type": "code",
   "execution_count": 0,
   "metadata": {
    "application/vnd.databricks.v1+cell": {
     "cellMetadata": {
      "byteLimit": 2048000,
      "rowLimit": 10000
     },
     "inputWidgets": {},
     "nuid": "0f08897e-bd9e-4104-a7e7-7924ec8a72a7",
     "showTitle": false,
     "title": ""
    }
   },
   "outputs": [],
   "source": [
    "label.repartition(1).write.format('parquet').mode('overwrite').save(f'{gold_path}/dimLabels')"
   ]
  },
  {
   "cell_type": "code",
   "execution_count": 0,
   "metadata": {
    "application/vnd.databricks.v1+cell": {
     "cellMetadata": {
      "byteLimit": 2048000,
      "rowLimit": 10000
     },
     "inputWidgets": {},
     "nuid": "f65172fd-2361-4e37-bc27-300db6de1e08",
     "showTitle": false,
     "title": ""
    }
   },
   "outputs": [],
   "source": [
    "milestone.repartition(1).write.format('parquet').mode('overwrite').save(f'{gold_path}/dimMilestones')"
   ]
  },
  {
   "cell_type": "code",
   "execution_count": 0,
   "metadata": {
    "application/vnd.databricks.v1+cell": {
     "cellMetadata": {
      "byteLimit": 2048000,
      "rowLimit": 10000
     },
     "inputWidgets": {},
     "nuid": "d39e25d1-6627-46e7-b853-d01d60617259",
     "showTitle": false,
     "title": ""
    }
   },
   "outputs": [],
   "source": [
    "org_logins.repartition(1).write.format('parquet').mode('overwrite').save(f'{gold_path}/dimOrganizations')"
   ]
  },
  {
   "cell_type": "code",
   "execution_count": 0,
   "metadata": {
    "application/vnd.databricks.v1+cell": {
     "cellMetadata": {
      "byteLimit": 2048000,
      "rowLimit": 10000
     },
     "inputWidgets": {},
     "nuid": "f19f57ac-7f8d-4c3f-abf4-17fd25b00925",
     "showTitle": false,
     "title": ""
    }
   },
   "outputs": [],
   "source": [
    "timestamp.repartition(3).write.format('parquet').mode('overwrite').save(f'{gold_path}/dimTimestamp')"
   ]
  },
  {
   "cell_type": "code",
   "execution_count": 0,
   "metadata": {
    "application/vnd.databricks.v1+cell": {
     "cellMetadata": {
      "byteLimit": 2048000,
      "rowLimit": 10000
     },
     "inputWidgets": {},
     "nuid": "3311563a-4878-4fc3-89cd-030877cd8569",
     "showTitle": false,
     "title": ""
    }
   },
   "outputs": [],
   "source": [
    "pull_request.repartition(11).write.format('parquet').mode('overwrite').save(f'{gold_path}/dimPullRequests')"
   ]
  },
  {
   "cell_type": "code",
   "execution_count": 0,
   "metadata": {
    "application/vnd.databricks.v1+cell": {
     "cellMetadata": {
      "byteLimit": 2048000,
      "rowLimit": 10000
     },
     "inputWidgets": {},
     "nuid": "92511dc7-ebff-4f27-bf0f-07b466893d39",
     "showTitle": false,
     "title": ""
    }
   },
   "outputs": [],
   "source": [
    "repo.repartition(3).write.format('parquet').mode('overwrite').save(f'{gold_path}/dimRepos')"
   ]
  },
  {
   "cell_type": "code",
   "execution_count": 0,
   "metadata": {
    "application/vnd.databricks.v1+cell": {
     "cellMetadata": {
      "byteLimit": 2048000,
      "rowLimit": 10000
     },
     "inputWidgets": {},
     "nuid": "269062b4-35d0-4bd6-bc37-66595d88b42f",
     "showTitle": false,
     "title": ""
    }
   },
   "outputs": [],
   "source": [
    "user.repartition(1).write.format('parquet').mode('overwrite').save(f'{gold_path}/dimUser')"
   ]
  },
  {
   "cell_type": "markdown",
   "metadata": {
    "application/vnd.databricks.v1+cell": {
     "cellMetadata": {},
     "inputWidgets": {},
     "nuid": "ddfcfdbb-46c9-41b1-8f8a-5a92a8084fee",
     "showTitle": false,
     "title": ""
    }
   },
   "source": [
    "## Linker tables"
   ]
  },
  {
   "cell_type": "code",
   "execution_count": 0,
   "metadata": {
    "application/vnd.databricks.v1+cell": {
     "cellMetadata": {
      "byteLimit": 2048000,
      "rowLimit": 10000
     },
     "inputWidgets": {},
     "nuid": "ed0317d2-a471-41c3-9feb-b65c933fe2a1",
     "showTitle": false,
     "title": ""
    }
   },
   "outputs": [
    {
     "output_type": "display_data",
     "data": {
      "text/html": [
       "<style scoped>\n",
       "  .ansiout {\n",
       "    display: block;\n",
       "    unicode-bidi: embed;\n",
       "    white-space: pre-wrap;\n",
       "    word-wrap: break-word;\n",
       "    word-break: break-all;\n",
       "    font-family: \"Source Code Pro\", \"Menlo\", monospace;;\n",
       "    font-size: 13px;\n",
       "    color: #555;\n",
       "    margin-left: 4px;\n",
       "    line-height: 19px;\n",
       "  }\n",
       "</style>"
      ]
     },
     "metadata": {
      "application/vnd.databricks.v1+output": {
       "arguments": {},
       "data": "",
       "errorSummary": "Cancelled",
       "errorTraceType": "html",
       "metadata": {},
       "type": "ipynbError"
      }
     },
     "output_type": "display_data"
    }
   ],
   "source": [
    "commits_action_linker.repartition(1).write.format('parquet').mode('overwrite').save(f'{gold_path}/linker_commits_action')"
   ]
  },
  {
   "cell_type": "code",
   "execution_count": 0,
   "metadata": {
    "application/vnd.databricks.v1+cell": {
     "cellMetadata": {
      "byteLimit": 2048000,
      "rowLimit": 10000
     },
     "inputWidgets": {},
     "nuid": "c5067c7b-dc8d-43af-95ef-9a81930150ab",
     "showTitle": false,
     "title": ""
    }
   },
   "outputs": [
    {
     "output_type": "display_data",
     "data": {
      "text/html": [
       "<style scoped>\n",
       "  .ansiout {\n",
       "    display: block;\n",
       "    unicode-bidi: embed;\n",
       "    white-space: pre-wrap;\n",
       "    word-wrap: break-word;\n",
       "    word-break: break-all;\n",
       "    font-family: \"Source Code Pro\", \"Menlo\", monospace;;\n",
       "    font-size: 13px;\n",
       "    color: #555;\n",
       "    margin-left: 4px;\n",
       "    line-height: 19px;\n",
       "  }\n",
       "</style>"
      ]
     },
     "metadata": {
      "application/vnd.databricks.v1+output": {
       "arguments": {},
       "data": "",
       "errorSummary": "Cancelled",
       "errorTraceType": "html",
       "metadata": {},
       "type": "ipynbError"
      }
     },
     "output_type": "display_data"
    }
   ],
   "source": [
    "issue_assignee_linker.repartition(1).write.format('parquet').mode('overwrite').save(f'{gold_path}/linker_issue_assignee')"
   ]
  },
  {
   "cell_type": "code",
   "execution_count": 0,
   "metadata": {
    "application/vnd.databricks.v1+cell": {
     "cellMetadata": {
      "byteLimit": 2048000,
      "rowLimit": 10000
     },
     "inputWidgets": {},
     "nuid": "116ba95d-7cbf-4b7d-98bb-d351833e86f8",
     "showTitle": false,
     "title": ""
    }
   },
   "outputs": [
    {
     "output_type": "display_data",
     "data": {
      "text/html": [
       "<style scoped>\n",
       "  .ansiout {\n",
       "    display: block;\n",
       "    unicode-bidi: embed;\n",
       "    white-space: pre-wrap;\n",
       "    word-wrap: break-word;\n",
       "    word-break: break-all;\n",
       "    font-family: \"Source Code Pro\", \"Menlo\", monospace;;\n",
       "    font-size: 13px;\n",
       "    color: #555;\n",
       "    margin-left: 4px;\n",
       "    line-height: 19px;\n",
       "  }\n",
       "</style>"
      ]
     },
     "metadata": {
      "application/vnd.databricks.v1+output": {
       "arguments": {},
       "data": "",
       "errorSummary": "Cancelled",
       "errorTraceType": "html",
       "metadata": {},
       "type": "ipynbError"
      }
     },
     "output_type": "display_data"
    }
   ],
   "source": [
    "issue_label_linker.repartition(1).write.format('parquet').mode('overwrite').save(f'{gold_path}/linker_issue_label')"
   ]
  },
  {
   "cell_type": "code",
   "execution_count": 0,
   "metadata": {
    "application/vnd.databricks.v1+cell": {
     "cellMetadata": {
      "byteLimit": 2048000,
      "rowLimit": 10000
     },
     "inputWidgets": {},
     "nuid": "4c09695c-0cc5-4f05-aec0-ff26db81c77c",
     "showTitle": false,
     "title": ""
    }
   },
   "outputs": [
    {
     "output_type": "display_data",
     "data": {
      "text/html": [
       "<style scoped>\n",
       "  .ansiout {\n",
       "    display: block;\n",
       "    unicode-bidi: embed;\n",
       "    white-space: pre-wrap;\n",
       "    word-wrap: break-word;\n",
       "    word-break: break-all;\n",
       "    font-family: \"Source Code Pro\", \"Menlo\", monospace;;\n",
       "    font-size: 13px;\n",
       "    color: #555;\n",
       "    margin-left: 4px;\n",
       "    line-height: 19px;\n",
       "  }\n",
       "</style>"
      ]
     },
     "metadata": {
      "application/vnd.databricks.v1+output": {
       "arguments": {},
       "data": "",
       "errorSummary": "Cancelled",
       "errorTraceType": "html",
       "metadata": {},
       "type": "ipynbError"
      }
     },
     "output_type": "display_data"
    }
   ],
   "source": [
    "issue_pull_request.repartition(1).write.format('parquet').mode('overwrite').save(f'{gold_path}/linker_issue_pull_request')"
   ]
  },
  {
   "cell_type": "code",
   "execution_count": 0,
   "metadata": {
    "application/vnd.databricks.v1+cell": {
     "cellMetadata": {
      "byteLimit": 2048000,
      "rowLimit": 10000
     },
     "inputWidgets": {},
     "nuid": "620f0319-e11f-4489-8125-dc026b7649fc",
     "showTitle": false,
     "title": ""
    }
   },
   "outputs": [
    {
     "output_type": "display_data",
     "data": {
      "text/html": [
       "<style scoped>\n",
       "  .ansiout {\n",
       "    display: block;\n",
       "    unicode-bidi: embed;\n",
       "    white-space: pre-wrap;\n",
       "    word-wrap: break-word;\n",
       "    word-break: break-all;\n",
       "    font-family: \"Source Code Pro\", \"Menlo\", monospace;;\n",
       "    font-size: 13px;\n",
       "    color: #555;\n",
       "    margin-left: 4px;\n",
       "    line-height: 19px;\n",
       "  }\n",
       "</style>"
      ]
     },
     "metadata": {
      "application/vnd.databricks.v1+output": {
       "arguments": {},
       "data": "",
       "errorSummary": "Cancelled",
       "errorTraceType": "html",
       "metadata": {},
       "type": "ipynbError"
      }
     },
     "output_type": "display_data"
    }
   ],
   "source": [
    "issue_reactions.repartition(1).write.format('parquet').mode('overwrite').save(f'{gold_path}/linker_issue_reactions')"
   ]
  },
  {
   "cell_type": "code",
   "execution_count": 0,
   "metadata": {
    "application/vnd.databricks.v1+cell": {
     "cellMetadata": {
      "byteLimit": 2048000,
      "rowLimit": 10000
     },
     "inputWidgets": {},
     "nuid": "35bd782a-76e3-4813-9d30-2d3d325da085",
     "showTitle": false,
     "title": ""
    }
   },
   "outputs": [
    {
     "output_type": "display_data",
     "data": {
      "text/html": [
       "<style scoped>\n",
       "  .ansiout {\n",
       "    display: block;\n",
       "    unicode-bidi: embed;\n",
       "    white-space: pre-wrap;\n",
       "    word-wrap: break-word;\n",
       "    word-break: break-all;\n",
       "    font-family: \"Source Code Pro\", \"Menlo\", monospace;;\n",
       "    font-size: 13px;\n",
       "    color: #555;\n",
       "    margin-left: 4px;\n",
       "    line-height: 19px;\n",
       "  }\n",
       "</style>"
      ]
     },
     "metadata": {
      "application/vnd.databricks.v1+output": {
       "arguments": {},
       "data": "",
       "errorSummary": "Cancelled",
       "errorTraceType": "html",
       "metadata": {},
       "type": "ipynbError"
      }
     },
     "output_type": "display_data"
    }
   ],
   "source": [
    "org_linker.repartition(1).write.format('parquet').mode('overwrite').save(f'{gold_path}/linker_org')"
   ]
  },
  {
   "cell_type": "code",
   "execution_count": 0,
   "metadata": {
    "application/vnd.databricks.v1+cell": {
     "cellMetadata": {
      "byteLimit": 2048000,
      "rowLimit": 10000
     },
     "inputWidgets": {},
     "nuid": "b4161b4d-935d-4f55-9065-b4779b373c4c",
     "showTitle": false,
     "title": ""
    }
   },
   "outputs": [
    {
     "output_type": "display_data",
     "data": {
      "text/html": [
       "<style scoped>\n",
       "  .ansiout {\n",
       "    display: block;\n",
       "    unicode-bidi: embed;\n",
       "    white-space: pre-wrap;\n",
       "    word-wrap: break-word;\n",
       "    word-break: break-all;\n",
       "    font-family: \"Source Code Pro\", \"Menlo\", monospace;;\n",
       "    font-size: 13px;\n",
       "    color: #555;\n",
       "    margin-left: 4px;\n",
       "    line-height: 19px;\n",
       "  }\n",
       "</style>"
      ]
     },
     "metadata": {
      "application/vnd.databricks.v1+output": {
       "arguments": {},
       "data": "",
       "errorSummary": "Cancelled",
       "errorTraceType": "html",
       "metadata": {},
       "type": "ipynbError"
      }
     },
     "output_type": "display_data"
    }
   ],
   "source": [
    "pull_request_label_linking.repartition(1).write.format('parquet').mode('overwrite').save(f'{gold_path}/linker_pull_request_label')"
   ]
  },
  {
   "cell_type": "code",
   "execution_count": 0,
   "metadata": {
    "application/vnd.databricks.v1+cell": {
     "cellMetadata": {
      "byteLimit": 2048000,
      "rowLimit": 10000
     },
     "inputWidgets": {},
     "nuid": "016e92d7-0e7a-4660-97c5-91a447edb808",
     "showTitle": false,
     "title": ""
    }
   },
   "outputs": [
    {
     "output_type": "display_data",
     "data": {
      "text/html": [
       "<style scoped>\n",
       "  .ansiout {\n",
       "    display: block;\n",
       "    unicode-bidi: embed;\n",
       "    white-space: pre-wrap;\n",
       "    word-wrap: break-word;\n",
       "    word-break: break-all;\n",
       "    font-family: \"Source Code Pro\", \"Menlo\", monospace;;\n",
       "    font-size: 13px;\n",
       "    color: #555;\n",
       "    margin-left: 4px;\n",
       "    line-height: 19px;\n",
       "  }\n",
       "</style>"
      ]
     },
     "metadata": {
      "application/vnd.databricks.v1+output": {
       "arguments": {},
       "data": "",
       "errorSummary": "Cancelled",
       "errorTraceType": "html",
       "metadata": {},
       "type": "ipynbError"
      }
     },
     "output_type": "display_data"
    }
   ],
   "source": [
    "pull_request_reviewer_linking.repartition(1).write.format('parquet').mode('overwrite').save(f'{gold_path}/linker_pull_request_reviewer')"
   ]
  },
  {
   "cell_type": "code",
   "execution_count": 0,
   "metadata": {
    "application/vnd.databricks.v1+cell": {
     "cellMetadata": {
      "byteLimit": 2048000,
      "rowLimit": 10000
     },
     "inputWidgets": {},
     "nuid": "56efaf5a-910a-4998-b590-0088ea566037",
     "showTitle": false,
     "title": ""
    }
   },
   "outputs": [
    {
     "output_type": "display_data",
     "data": {
      "text/html": [
       "<style scoped>\n",
       "  .ansiout {\n",
       "    display: block;\n",
       "    unicode-bidi: embed;\n",
       "    white-space: pre-wrap;\n",
       "    word-wrap: break-word;\n",
       "    word-break: break-all;\n",
       "    font-family: \"Source Code Pro\", \"Menlo\", monospace;;\n",
       "    font-size: 13px;\n",
       "    color: #555;\n",
       "    margin-left: 4px;\n",
       "    line-height: 19px;\n",
       "  }\n",
       "</style>"
      ]
     },
     "metadata": {
      "application/vnd.databricks.v1+output": {
       "arguments": {},
       "data": "",
       "errorSummary": "Cancelled",
       "errorTraceType": "html",
       "metadata": {},
       "type": "ipynbError"
      }
     },
     "output_type": "display_data"
    }
   ],
   "source": [
    "pull_request_teams.repartition(1).write.format('parquet').mode('overwrite').save(f'{gold_path}/linker_pull_request_teams')"
   ]
  },
  {
   "cell_type": "code",
   "execution_count": 0,
   "metadata": {
    "application/vnd.databricks.v1+cell": {
     "cellMetadata": {
      "byteLimit": 2048000,
      "rowLimit": 10000
     },
     "inputWidgets": {},
     "nuid": "cc1e84e3-4900-4bb1-81c1-201c6aa39244",
     "showTitle": false,
     "title": ""
    }
   },
   "outputs": [
    {
     "output_type": "display_data",
     "data": {
      "text/html": [
       "<style scoped>\n",
       "  .ansiout {\n",
       "    display: block;\n",
       "    unicode-bidi: embed;\n",
       "    white-space: pre-wrap;\n",
       "    word-wrap: break-word;\n",
       "    word-break: break-all;\n",
       "    font-family: \"Source Code Pro\", \"Menlo\", monospace;;\n",
       "    font-size: 13px;\n",
       "    color: #555;\n",
       "    margin-left: 4px;\n",
       "    line-height: 19px;\n",
       "  }\n",
       "</style>"
      ]
     },
     "metadata": {
      "application/vnd.databricks.v1+output": {
       "arguments": {},
       "data": "",
       "errorSummary": "Cancelled",
       "errorTraceType": "html",
       "metadata": {},
       "type": "ipynbError"
      }
     },
     "output_type": "display_data"
    }
   ],
   "source": [
    "repo_linker.repartition(1).write.format('parquet').mode('overwrite').save(f'{gold_path}/linker_repo')"
   ]
  },
  {
   "cell_type": "code",
   "execution_count": 0,
   "metadata": {
    "application/vnd.databricks.v1+cell": {
     "cellMetadata": {
      "byteLimit": 2048000,
      "rowLimit": 10000
     },
     "inputWidgets": {},
     "nuid": "11d1982d-c202-4d1b-8317-354f1a03bcf6",
     "showTitle": false,
     "title": ""
    }
   },
   "outputs": [
    {
     "output_type": "display_data",
     "data": {
      "text/html": [
       "<style scoped>\n",
       "  .ansiout {\n",
       "    display: block;\n",
       "    unicode-bidi: embed;\n",
       "    white-space: pre-wrap;\n",
       "    word-wrap: break-word;\n",
       "    word-break: break-all;\n",
       "    font-family: \"Source Code Pro\", \"Menlo\", monospace;;\n",
       "    font-size: 13px;\n",
       "    color: #555;\n",
       "    margin-left: 4px;\n",
       "    line-height: 19px;\n",
       "  }\n",
       "</style>"
      ]
     },
     "metadata": {
      "application/vnd.databricks.v1+output": {
       "arguments": {},
       "data": "",
       "errorSummary": "Cancelled",
       "errorTraceType": "html",
       "metadata": {},
       "type": "ipynbError"
      }
     },
     "output_type": "display_data"
    }
   ],
   "source": [
    "repo_names.repartition(1).write.format('parquet').mode('overwrite').save(f'{gold_path}/repo_names')"
   ]
  }
 ],
 "metadata": {
  "application/vnd.databricks.v1+notebook": {
   "dashboards": [],
   "language": "python",
   "notebookMetadata": {
    "mostRecentlyExecutedCommandWithImplicitDF": {
     "commandId": 292190792587659,
     "dataframes": [
      "_sqldf"
     ]
    },
    "pythonIndentUnit": 4
   },
   "notebookName": "Jacob Anthony Gold",
   "widgets": {}
  }
 },
 "nbformat": 4,
 "nbformat_minor": 0
}
