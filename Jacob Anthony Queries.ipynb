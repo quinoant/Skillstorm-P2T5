{
 "cells": [
  {
   "cell_type": "markdown",
   "metadata": {
    "application/vnd.databricks.v1+cell": {
     "cellMetadata": {},
     "inputWidgets": {},
     "nuid": "9dea1d05-dff0-4cd3-89fc-ca249244570c",
     "showTitle": false,
     "title": ""
    }
   },
   "source": [
    "# README\n",
    "<p>This noteboook aims to pull from the data lake and answer the use case aggregations as outlined in the Section labeled \"Questions\"</p>\n"
   ]
  },
  {
   "cell_type": "markdown",
   "metadata": {
    "application/vnd.databricks.v1+cell": {
     "cellMetadata": {},
     "inputWidgets": {},
     "nuid": "eb9f84ca-8021-4f02-b496-45dce1733bc1",
     "showTitle": false,
     "title": ""
    }
   },
   "source": [
    "# Imports"
   ]
  },
  {
   "cell_type": "code",
   "execution_count": 0,
   "metadata": {
    "application/vnd.databricks.v1+cell": {
     "cellMetadata": {
      "byteLimit": 2048000,
      "rowLimit": 10000
     },
     "inputWidgets": {},
     "nuid": "bd0a70fd-0e3e-43d3-af52-119b57ab7afc",
     "showTitle": false,
     "title": ""
    }
   },
   "outputs": [],
   "source": [
    "from pyspark.sql.types import *\n",
    "from pyspark.sql.functions import *\n",
    "from pyspark import SparkContext\n",
    "from pyspark.sql import Window"
   ]
  },
  {
   "cell_type": "markdown",
   "metadata": {
    "application/vnd.databricks.v1+cell": {
     "cellMetadata": {},
     "inputWidgets": {},
     "nuid": "5625d46b-3f31-4b94-8796-95d7545373e2",
     "showTitle": false,
     "title": ""
    }
   },
   "source": [
    "\n",
    "## Loading in Data"
   ]
  },
  {
   "cell_type": "code",
   "execution_count": 0,
   "metadata": {
    "application/vnd.databricks.v1+cell": {
     "cellMetadata": {
      "byteLimit": 2048000,
      "rowLimit": 10000
     },
     "inputWidgets": {},
     "nuid": "346f7585-d5d7-4b09-a3bd-5daaa4432560",
     "showTitle": false,
     "title": ""
    }
   },
   "outputs": [],
   "source": [
    "contname = 'team5-project2' #azure storage account container\n",
    "#THIS WILL CHANGE BASED ON TEAM: 'team2-project2', 'team3-project2', etc.\n",
    "\n",
    "storage_acct_name = '20230821desa'\n",
    "\n",
    "client_id = 'de4ff859-02b1-4e2f-9d16-b578fa03df4f' #aka: app id\n",
    "\n",
    "tenant_id = '33da9f3f-4c1a-4640-8ce1-3f63024aea1d' #aka: directory id\n",
    "\n",
    "service_credential = dbutils.secrets.get(scope=\"databricks-app-kv\",key=\"databricks-application\")\n",
    "\n",
    "gold_path = f'abfss://{contname}@{storage_acct_name}.dfs.core.windows.net/GoldLayer'"
   ]
  },
  {
   "cell_type": "code",
   "execution_count": 0,
   "metadata": {
    "application/vnd.databricks.v1+cell": {
     "cellMetadata": {
      "byteLimit": 2048000,
      "rowLimit": 10000
     },
     "inputWidgets": {},
     "nuid": "4f2ee087-3957-44f8-9fbb-4eba75d90b2c",
     "showTitle": false,
     "title": ""
    }
   },
   "outputs": [],
   "source": [
    "action = (spark.read.format('parquet')\n",
    "      .option(\"header\",\"true\")\n",
    "      .option('inferColumnTypes', True)\n",
    "      .load(f\"{gold_path}/factAction/part-*\"))\n",
    "action.createOrReplaceTempView('action')"
   ]
  },
  {
   "cell_type": "code",
   "execution_count": 0,
   "metadata": {
    "application/vnd.databricks.v1+cell": {
     "cellMetadata": {
      "byteLimit": 2048000,
      "rowLimit": 10000
     },
     "inputWidgets": {},
     "nuid": "8988d0b4-932c-4571-ac12-c15774fe7949",
     "showTitle": false,
     "title": ""
    }
   },
   "outputs": [],
   "source": [
    "timestamp = (spark.read.format('parquet')\n",
    "      .option(\"header\",\"true\")\n",
    "      .option('inferColumnTypes', True)\n",
    "      .load(f\"{gold_path}/dimTimestamp/part-*\"))\n",
    "timestamp.createOrReplaceTempView('timestamp')"
   ]
  },
  {
   "cell_type": "code",
   "execution_count": 0,
   "metadata": {
    "application/vnd.databricks.v1+cell": {
     "cellMetadata": {
      "byteLimit": 2048000,
      "rowLimit": 10000
     },
     "inputWidgets": {},
     "nuid": "b33d6892-83d2-4805-b5fd-7423a734a18c",
     "showTitle": false,
     "title": ""
    }
   },
   "outputs": [],
   "source": [
    "commit = (spark.read.format('parquet')\n",
    "      .option(\"header\",\"true\")\n",
    "      .option('inferColumnTypes', True)\n",
    "      .load(f\"{gold_path}/dimCommits/part-*\")).limit(100000)\n",
    "commit.createOrReplaceTempView('commit')"
   ]
  },
  {
   "cell_type": "code",
   "execution_count": 0,
   "metadata": {
    "application/vnd.databricks.v1+cell": {
     "cellMetadata": {
      "byteLimit": 2048000,
      "rowLimit": 10000
     },
     "inputWidgets": {},
     "nuid": "13e0160e-a811-4556-8c1a-b9cc21c2d9d5",
     "showTitle": false,
     "title": ""
    }
   },
   "outputs": [],
   "source": [
    "linker_commits_action = (spark.read.format('parquet')\n",
    "      .option(\"header\",\"true\")\n",
    "      .option('inferColumnTypes', True)\n",
    "      .load(f\"{gold_path}/linker_commits_action/part-*\")).limit(100000)\n",
    "linker_commits_action.createOrReplaceTempView('linker_commits_action')"
   ]
  },
  {
   "cell_type": "code",
   "execution_count": 0,
   "metadata": {
    "application/vnd.databricks.v1+cell": {
     "cellMetadata": {
      "byteLimit": 2048000,
      "rowLimit": 10000
     },
     "inputWidgets": {},
     "nuid": "f5101cb7-2c8b-4c43-8dfb-f89d9b9de603",
     "showTitle": false,
     "title": ""
    }
   },
   "outputs": [],
   "source": [
    "linker_orgs = (spark.read.format('parquet')\n",
    "      .option(\"header\",\"true\")\n",
    "      .option('inferColumnTypes', True)\n",
    "      .load(f\"{gold_path}/linker_org/part-*\")).limit(100000)\n",
    "linker_orgs.createOrReplaceTempView('linker_orgs')"
   ]
  },
  {
   "cell_type": "code",
   "execution_count": 0,
   "metadata": {
    "application/vnd.databricks.v1+cell": {
     "cellMetadata": {
      "byteLimit": 2048000,
      "rowLimit": 10000
     },
     "inputWidgets": {},
     "nuid": "efefd9f4-7efc-4ce4-abc5-bf0e01dd44e4",
     "showTitle": false,
     "title": ""
    }
   },
   "outputs": [],
   "source": [
    "pull_request = (spark.read.format('parquet')\n",
    "      .option(\"header\",\"true\")\n",
    "      .option('inferColumnTypes', True)\n",
    "      .load(f\"{gold_path}/dimPullRequests/part-*\")).limit(10000)\n",
    "pull_request.createOrReplaceTempView('pull_request')"
   ]
  },
  {
   "cell_type": "code",
   "execution_count": 0,
   "metadata": {
    "application/vnd.databricks.v1+cell": {
     "cellMetadata": {
      "byteLimit": 2048000,
      "rowLimit": 10000
     },
     "inputWidgets": {},
     "nuid": "db87ee8e-f7f8-4c30-81af-7a93155a3ada",
     "showTitle": false,
     "title": ""
    }
   },
   "outputs": [],
   "source": [
    "repo = (spark.read.format('parquet')\n",
    "      .option(\"header\",\"true\")\n",
    "      .option('inferColumnTypes', True)\n",
    "      .load(f\"{gold_path}/dimRepos/part-*\"))\n",
    "repo.createOrReplaceTempView('repo')"
   ]
  },
  {
   "cell_type": "code",
   "execution_count": 0,
   "metadata": {
    "application/vnd.databricks.v1+cell": {
     "cellMetadata": {
      "byteLimit": 2048000,
      "rowLimit": 10000
     },
     "inputWidgets": {},
     "nuid": "62185929-6c68-41f1-a8f9-3590cee95c92",
     "showTitle": false,
     "title": ""
    }
   },
   "outputs": [],
   "source": [
    "repo_names = (spark.read.format('parquet')\n",
    "      .option(\"header\",\"true\")\n",
    "      .option('inferColumnTypes', True)\n",
    "      .load(f\"{gold_path}/repo_names/part-*\")).limit(100000)\n",
    "repo_names.createOrReplaceTempView('repo_names')"
   ]
  },
  {
   "cell_type": "code",
   "execution_count": 0,
   "metadata": {
    "application/vnd.databricks.v1+cell": {
     "cellMetadata": {
      "byteLimit": 2048000,
      "rowLimit": 10000
     },
     "inputWidgets": {},
     "nuid": "691f7b3a-8571-4776-b5ec-e0da1e66f7a6",
     "showTitle": false,
     "title": ""
    }
   },
   "outputs": [],
   "source": [
    "org_names = (spark.read.format('parquet')\n",
    "      .option(\"header\",\"true\")\n",
    "      .option('inferColumnTypes', True)\n",
    "      .load(f\"{gold_path}/dimOrganizations/part-*\")).limit(100000)\n",
    "orgs.createOrReplaceTempView('orgs')\n"
   ]
  },
  {
   "cell_type": "code",
   "execution_count": 0,
   "metadata": {
    "application/vnd.databricks.v1+cell": {
     "cellMetadata": {
      "byteLimit": 2048000,
      "rowLimit": 10000
     },
     "inputWidgets": {},
     "nuid": "f3d9ad31-a9b5-47d2-9794-547f64a793e0",
     "showTitle": false,
     "title": ""
    }
   },
   "outputs": [],
   "source": [
    "user = (spark.read.format('parquet')\n",
    "      .option(\"header\",\"true\")\n",
    "      .option('inferColumnTypes', True)\n",
    "      .load(f\"{gold_path}/dimUser/part-*\"))\n",
    "user.createOrReplaceTempView('user')"
   ]
  },
  {
   "cell_type": "markdown",
   "metadata": {
    "application/vnd.databricks.v1+cell": {
     "cellMetadata": {},
     "inputWidgets": {},
     "nuid": "986c16dc-e9a7-4134-83ff-2947fbc17c25",
     "showTitle": false,
     "title": ""
    }
   },
   "source": [
    "# Questions"
   ]
  },
  {
   "cell_type": "markdown",
   "metadata": {
    "application/vnd.databricks.v1+cell": {
     "cellMetadata": {},
     "inputWidgets": {},
     "nuid": "d60445c5-949f-4254-b63f-f8c12d07483e",
     "showTitle": false,
     "title": ""
    }
   },
   "source": [
    "Once the data has been preprocessed in the silver layer, you have several aggregations that need to be done for the gold layer. Sparrow Analytics will load your gold layer into a Data Warehouse (and, eventually a BI tool) to provide insights into GitHub use patterns. Data loaded into the gold layer should adhere to a flat, star, or snowflake schema. You are tasked with the following aggregations: \n",
    "\n",
    "Data aggregated by type of GitHub event per hour \n",
    "PushEvent data aggregated by ref type – whether the commit is on the main branch \n",
    "Breakdown of events by type and number of commits per event \n",
    "User activity should be aggregated so that a filterable chart can be populated with breakdowns of user activity by week or month. \n",
    "Breakdown of activity by project – find a unique use case \n",
    "Challenge: Based on the commit messages – breakdown the events by language \n",
    "<ul>\n",
    "  <li>Data aggregated by type of GitHub event per hour ?</li>\n",
    "  <li>PushEvent data aggregated by ref type – whether the commit is on the main branch</li>\n",
    "  <li>Breakdown of events by type and number of commits per event </li>\n",
    "  <li>User activity should be aggregated so that a filterable chart can be populated with breakdowns of user activity by week or month. </li>\n",
    "  <li>Breakdown of activity by project – find a unique use case </li>\n",
    "  <li>Challenge: Based on the commit messages – breakdown the events by language </li>\n",
    "</ul>"
   ]
  },
  {
   "cell_type": "markdown",
   "metadata": {
    "application/vnd.databricks.v1+cell": {
     "cellMetadata": {},
     "inputWidgets": {},
     "nuid": "4dbc3cb0-3162-4f43-b799-aaa959fe6297",
     "showTitle": false,
     "title": ""
    }
   },
   "source": [
    "## Per Hour\n",
    "<p>Group the number of Events per hour</P>"
   ]
  },
  {
   "cell_type": "code",
   "execution_count": 0,
   "metadata": {
    "application/vnd.databricks.v1+cell": {
     "cellMetadata": {
      "byteLimit": 2048000,
      "rowLimit": 10000
     },
     "inputWidgets": {},
     "nuid": "ed7b658e-ae81-48a7-8278-7b877f069f30",
     "showTitle": false,
     "title": ""
    }
   },
   "outputs": [
    {
     "output_type": "display_data",
     "data": {
      "text/html": [
       "<style scoped>\n",
       "  .table-result-container {\n",
       "    max-height: 300px;\n",
       "    overflow: auto;\n",
       "  }\n",
       "  table, th, td {\n",
       "    border: 1px solid black;\n",
       "    border-collapse: collapse;\n",
       "  }\n",
       "  th, td {\n",
       "    padding: 5px;\n",
       "  }\n",
       "  th {\n",
       "    text-align: left;\n",
       "  }\n",
       "</style><div class='table-result-container'><table class='table-result'><thead style='background-color: white'><tr><th>year_created</th><th>day_created</th><th>hour_created</th><th>action_type</th><th>count</th></tr></thead><tbody><tr><td>2022</td><td>29</td><td>23</td><td>IssueCommentEvent</td><td>2</td></tr><tr><td>2022</td><td>19</td><td>23</td><td>PullRequestEvent</td><td>14</td></tr><tr><td>2022</td><td>24</td><td>23</td><td>IssuesEvent</td><td>2</td></tr><tr><td>2022</td><td>23</td><td>23</td><td>WatchEvent</td><td>8</td></tr><tr><td>2022</td><td>17</td><td>23</td><td>PullRequestReviewCommentEvent</td><td>1</td></tr><tr><td>2022</td><td>24</td><td>23</td><td>PullRequestEvent</td><td>11</td></tr><tr><td>2022</td><td>30</td><td>23</td><td>CommitCommentEvent</td><td>1</td></tr><tr><td>2022</td><td>4</td><td>23</td><td>WatchEvent</td><td>5</td></tr><tr><td>2022</td><td>12</td><td>23</td><td>CreateEvent</td><td>30</td></tr><tr><td>2022</td><td>13</td><td>23</td><td>DeleteEvent</td><td>2</td></tr></tbody></table></div>"
      ]
     },
     "metadata": {
      "application/vnd.databricks.v1+output": {
       "addedWidgets": {},
       "aggData": [],
       "aggError": "",
       "aggOverflow": false,
       "aggSchema": [],
       "aggSeriesLimitReached": false,
       "aggType": "",
       "arguments": {},
       "columnCustomDisplayInfos": {},
       "data": [
        [
         2022,
         29,
         23,
         "IssueCommentEvent",
         2
        ],
        [
         2022,
         19,
         23,
         "PullRequestEvent",
         14
        ],
        [
         2022,
         24,
         23,
         "IssuesEvent",
         2
        ],
        [
         2022,
         23,
         23,
         "WatchEvent",
         8
        ],
        [
         2022,
         17,
         23,
         "PullRequestReviewCommentEvent",
         1
        ],
        [
         2022,
         24,
         23,
         "PullRequestEvent",
         11
        ],
        [
         2022,
         30,
         23,
         "CommitCommentEvent",
         1
        ],
        [
         2022,
         4,
         23,
         "WatchEvent",
         5
        ],
        [
         2022,
         12,
         23,
         "CreateEvent",
         30
        ],
        [
         2022,
         13,
         23,
         "DeleteEvent",
         2
        ]
       ],
       "datasetInfos": [],
       "dbfsResultPath": null,
       "isJsonSchema": true,
       "metadata": {},
       "overflow": false,
       "plotOptions": {
        "customPlotOptions": {},
        "displayType": "table",
        "pivotAggregation": null,
        "pivotColumns": null,
        "xColumns": null,
        "yColumns": null
       },
       "removedWidgets": [],
       "schema": [
        {
         "metadata": "{}",
         "name": "year_created",
         "type": "\"integer\""
        },
        {
         "metadata": "{}",
         "name": "day_created",
         "type": "\"integer\""
        },
        {
         "metadata": "{}",
         "name": "hour_created",
         "type": "\"integer\""
        },
        {
         "metadata": "{}",
         "name": "action_type",
         "type": "\"string\""
        },
        {
         "metadata": "{}",
         "name": "count",
         "type": "\"long\""
        }
       ],
       "type": "table"
      }
     },
     "output_type": "display_data"
    }
   ],
   "source": [
    "#answer\n",
    "action.join(timestamp, action.time_id == timestamp.time_id).groupBy('year_created','day_created','hour_created','action_type').count().sort('hour_created',ascending=False).limit(10).display()"
   ]
  },
  {
   "cell_type": "markdown",
   "metadata": {
    "application/vnd.databricks.v1+cell": {
     "cellMetadata": {},
     "inputWidgets": {},
     "nuid": "1e38f2ea-ca32-44da-b827-01544418ae51",
     "showTitle": false,
     "title": ""
    }
   },
   "source": [
    "## Main branch? (By Event Type)\n",
    "<p>Determine whether or not the commit was on the main / master branch</p>"
   ]
  },
  {
   "cell_type": "code",
   "execution_count": 0,
   "metadata": {
    "application/vnd.databricks.v1+cell": {
     "cellMetadata": {
      "byteLimit": 2048000,
      "implicitDf": true,
      "rowLimit": 10000
     },
     "inputWidgets": {},
     "nuid": "e1f64582-3d20-4b09-8afd-b7063742e3ed",
     "showTitle": false,
     "title": ""
    }
   },
   "outputs": [
    {
     "output_type": "display_data",
     "data": {
      "text/html": [
       "<style scoped>\n",
       "  .table-result-container {\n",
       "    max-height: 300px;\n",
       "    overflow: auto;\n",
       "  }\n",
       "  table, th, td {\n",
       "    border: 1px solid black;\n",
       "    border-collapse: collapse;\n",
       "  }\n",
       "  th, td {\n",
       "    padding: 5px;\n",
       "  }\n",
       "  th {\n",
       "    text-align: left;\n",
       "  }\n",
       "</style><div class='table-result-container'><table class='table-result'><thead style='background-color: white'><tr><th>action</th><th>Count_Per_Event_on_main</th></tr></thead><tbody><tr><td>closed</td><td>56</td></tr><tr><td>created</td><td>1675</td></tr><tr><td>reopened</td><td>4</td></tr></tbody></table></div>"
      ]
     },
     "metadata": {
      "application/vnd.databricks.v1+output": {
       "addedWidgets": {},
       "aggData": [],
       "aggError": "",
       "aggOverflow": false,
       "aggSchema": [],
       "aggSeriesLimitReached": false,
       "aggType": "",
       "arguments": {},
       "columnCustomDisplayInfos": {},
       "data": [
        [
         "closed",
         56
        ],
        [
         "created",
         1675
        ],
        [
         "reopened",
         4
        ]
       ],
       "datasetInfos": [],
       "dbfsResultPath": null,
       "isJsonSchema": true,
       "metadata": {
        "dataframeName": "_sqldf",
        "executionCount": 94
       },
       "overflow": false,
       "plotOptions": {
        "customPlotOptions": {},
        "displayType": "table",
        "pivotAggregation": null,
        "pivotColumns": null,
        "xColumns": null,
        "yColumns": null
       },
       "removedWidgets": [],
       "schema": [
        {
         "metadata": "{}",
         "name": "action",
         "type": "\"string\""
        },
        {
         "metadata": "{}",
         "name": "Count_Per_Event_on_main",
         "type": "\"long\""
        }
       ],
       "type": "table"
      }
     },
     "output_type": "display_data"
    }
   ],
   "source": [
    "%sql\n",
    "-- Grabs the pull_request_id and whether or not the base_name is on main from pull_request\n",
    "-- Then joins action on pull_request_id.\n",
    "-- Finally groups by the event (action)\n",
    "SELECT a.action,\n",
    " count(t1.Bool) as Count_Per_Event_on_main\n",
    "FROM (\n",
    "  SELECT pull_request_id, \n",
    "    CASE WHEN pull_request_base_name LIKE '%master'  OR pull_request_base_name like '%main'\n",
    "      THEN TRUE \n",
    "    ELSE FALSE\n",
    "  END as Bool\n",
    "  FROM pull_request\n",
    ") t1\n",
    "JOIN action a on t1.pull_request_id == a.action_pull_request_id\n",
    "GROUP BY a.action"
   ]
  },
  {
   "cell_type": "markdown",
   "metadata": {
    "application/vnd.databricks.v1+cell": {
     "cellMetadata": {},
     "inputWidgets": {},
     "nuid": "fe4d5f0a-89f5-41a5-9e04-423dd27da3ba",
     "showTitle": false,
     "title": ""
    }
   },
   "source": [
    "## Breakdown of events by type and number of commits per event\n",
    "<p>Counts the number of commits per event type</p>"
   ]
  },
  {
   "cell_type": "code",
   "execution_count": 0,
   "metadata": {
    "application/vnd.databricks.v1+cell": {
     "cellMetadata": {
      "byteLimit": 2048000,
      "rowLimit": 10000
     },
     "inputWidgets": {},
     "nuid": "7d9a4140-e6d8-48e5-9dda-43b9e48f3c96",
     "showTitle": false,
     "title": ""
    }
   },
   "outputs": [
    {
     "output_type": "display_data",
     "data": {
      "text/html": [
       "<style scoped>\n",
       "  .table-result-container {\n",
       "    max-height: 300px;\n",
       "    overflow: auto;\n",
       "  }\n",
       "  table, th, td {\n",
       "    border: 1px solid black;\n",
       "    border-collapse: collapse;\n",
       "  }\n",
       "  th, td {\n",
       "    padding: 5px;\n",
       "  }\n",
       "  th {\n",
       "    text-align: left;\n",
       "  }\n",
       "</style><div class='table-result-container'><table class='table-result'><thead style='background-color: white'><tr><th>action_type</th><th>count</th></tr></thead><tbody><tr><td>PushEvent</td><td>23817936</td></tr></tbody></table></div>"
      ]
     },
     "metadata": {
      "application/vnd.databricks.v1+output": {
       "addedWidgets": {},
       "aggData": [],
       "aggError": "",
       "aggOverflow": false,
       "aggSchema": [],
       "aggSeriesLimitReached": false,
       "aggType": "",
       "arguments": {},
       "columnCustomDisplayInfos": {},
       "data": [
        [
         "PushEvent",
         23817936
        ]
       ],
       "datasetInfos": [],
       "dbfsResultPath": null,
       "isJsonSchema": true,
       "metadata": {},
       "overflow": false,
       "plotOptions": {
        "customPlotOptions": {},
        "displayType": "table",
        "pivotAggregation": null,
        "pivotColumns": null,
        "xColumns": null,
        "yColumns": null
       },
       "removedWidgets": [],
       "schema": [
        {
         "metadata": "{}",
         "name": "action_type",
         "type": "\"string\""
        },
        {
         "metadata": "{}",
         "name": "count",
         "type": "\"long\""
        }
       ],
       "type": "table"
      }
     },
     "output_type": "display_data"
    }
   ],
   "source": [
    "#answer, they are all Push Events\n",
    "commit_linked = commit.join(linker_commits_action,commit.commit_url == linker_commits_action.commit_url,'inner')\n",
    "commit_linked.join(action, commit_linked.action_id == action.action_id, 'inner').groupBy('action_type').count().display()"
   ]
  },
  {
   "cell_type": "markdown",
   "metadata": {
    "application/vnd.databricks.v1+cell": {
     "cellMetadata": {},
     "inputWidgets": {},
     "nuid": "c0006d02-dc51-4548-96e9-c69c641c1fa9",
     "showTitle": false,
     "title": ""
    }
   },
   "source": [
    "## User activity should be aggregated so that a filterable chart can be populated with breakdowns of user activity by week or month"
   ]
  },
  {
   "cell_type": "code",
   "execution_count": 0,
   "metadata": {
    "application/vnd.databricks.v1+cell": {
     "cellMetadata": {
      "byteLimit": 2048000,
      "implicitDf": true,
      "rowLimit": 10000
     },
     "inputWidgets": {},
     "nuid": "f2d7b3dd-068d-4473-8807-2c8b21eb9b30",
     "showTitle": false,
     "title": ""
    }
   },
   "outputs": [
    {
     "output_type": "display_data",
     "data": {
      "text/html": [
       "<style scoped>\n",
       "  .table-result-container {\n",
       "    max-height: 300px;\n",
       "    overflow: auto;\n",
       "  }\n",
       "  table, th, td {\n",
       "    border: 1px solid black;\n",
       "    border-collapse: collapse;\n",
       "  }\n",
       "  th, td {\n",
       "    padding: 5px;\n",
       "  }\n",
       "  th {\n",
       "    text-align: left;\n",
       "  }\n",
       "</style><div class='table-result-container'><table class='table-result'><thead style='background-color: white'><tr><th>month_created</th><th>count(action_actor_id)</th></tr></thead><tbody><tr><td>1</td><td>1479</td></tr></tbody></table></div>"
      ]
     },
     "metadata": {
      "application/vnd.databricks.v1+output": {
       "addedWidgets": {},
       "aggData": [],
       "aggError": "",
       "aggOverflow": false,
       "aggSchema": [],
       "aggSeriesLimitReached": false,
       "aggType": "",
       "arguments": {},
       "columnCustomDisplayInfos": {},
       "data": [
        [
         1,
         1479
        ]
       ],
       "datasetInfos": [],
       "dbfsResultPath": null,
       "isJsonSchema": true,
       "metadata": {
        "dataframeName": "_sqldf",
        "executionCount": 64
       },
       "overflow": false,
       "plotOptions": {
        "customPlotOptions": {},
        "displayType": "table",
        "pivotAggregation": null,
        "pivotColumns": null,
        "xColumns": null,
        "yColumns": null
       },
       "removedWidgets": [],
       "schema": [
        {
         "metadata": "{}",
         "name": "month_created",
         "type": "\"integer\""
        },
        {
         "metadata": "{\"__autoGeneratedAlias\":\"true\"}",
         "name": "count(action_actor_id)",
         "type": "\"long\""
        }
       ],
       "type": "table"
      }
     },
     "output_type": "display_data"
    }
   ],
   "source": [
    "%sql\n",
    "SELECT month_created, count(action.action_actor_id) FROM user JOIN action\n",
    "ON user.user_id == action.action_actor_id\n",
    "JOIN timestamp on timestamp.time_id == action.time_id\n",
    "group by month_created"
   ]
  },
  {
   "cell_type": "code",
   "execution_count": 0,
   "metadata": {
    "application/vnd.databricks.v1+cell": {
     "cellMetadata": {
      "byteLimit": 2048000,
      "implicitDf": true,
      "rowLimit": 10000
     },
     "inputWidgets": {},
     "nuid": "b537b987-2f5c-4958-8523-1cc4eddf0592",
     "showTitle": false,
     "title": ""
    }
   },
   "outputs": [
    {
     "output_type": "display_data",
     "data": {
      "text/html": [
       "<style scoped>\n",
       "  .table-result-container {\n",
       "    max-height: 300px;\n",
       "    overflow: auto;\n",
       "  }\n",
       "  table, th, td {\n",
       "    border: 1px solid black;\n",
       "    border-collapse: collapse;\n",
       "  }\n",
       "  th, td {\n",
       "    padding: 5px;\n",
       "  }\n",
       "  th {\n",
       "    text-align: left;\n",
       "  }\n",
       "</style><div class='table-result-container'><table class='table-result'><thead style='background-color: white'><tr><th>number_of_week_created</th><th>count(action_actor_id)</th></tr></thead><tbody><tr><td>1</td><td>340</td></tr><tr><td>52</td><td>58</td></tr><tr><td>3</td><td>335</td></tr><tr><td>5</td><td>48</td></tr><tr><td>4</td><td>371</td></tr><tr><td>2</td><td>327</td></tr></tbody></table></div>"
      ]
     },
     "metadata": {
      "application/vnd.databricks.v1+output": {
       "addedWidgets": {},
       "aggData": [],
       "aggError": "",
       "aggOverflow": false,
       "aggSchema": [],
       "aggSeriesLimitReached": false,
       "aggType": "",
       "arguments": {},
       "columnCustomDisplayInfos": {},
       "data": [
        [
         1,
         340
        ],
        [
         52,
         58
        ],
        [
         3,
         335
        ],
        [
         5,
         48
        ],
        [
         4,
         371
        ],
        [
         2,
         327
        ]
       ],
       "datasetInfos": [],
       "dbfsResultPath": null,
       "isJsonSchema": true,
       "metadata": {
        "dataframeName": "_sqldf",
        "executionCount": 62
       },
       "overflow": false,
       "plotOptions": {
        "customPlotOptions": {},
        "displayType": "table",
        "pivotAggregation": null,
        "pivotColumns": null,
        "xColumns": null,
        "yColumns": null
       },
       "removedWidgets": [],
       "schema": [
        {
         "metadata": "{}",
         "name": "number_of_week_created",
         "type": "\"integer\""
        },
        {
         "metadata": "{\"__autoGeneratedAlias\":\"true\"}",
         "name": "count(action_actor_id)",
         "type": "\"long\""
        }
       ],
       "type": "table"
      }
     },
     "output_type": "display_data"
    }
   ],
   "source": [
    "%sql\n",
    "SELECT number_of_week_created, count(action.action_actor_id) FROM user JOIN action\n",
    "ON user.user_id == action.action_actor_id\n",
    "JOIN timestamp on timestamp.time_id == action.time_id\n",
    "group by number_of_week_created"
   ]
  },
  {
   "cell_type": "code",
   "execution_count": 0,
   "metadata": {
    "application/vnd.databricks.v1+cell": {
     "cellMetadata": {
      "byteLimit": 2048000,
      "implicitDf": true,
      "rowLimit": 10000
     },
     "inputWidgets": {},
     "nuid": "4ec537bb-9c16-4c97-a36a-ec1811fa9ae6",
     "showTitle": false,
     "title": ""
    }
   },
   "outputs": [
    {
     "output_type": "display_data",
     "data": {
      "text/html": [
       "<style scoped>\n",
       "  .table-result-container {\n",
       "    max-height: 300px;\n",
       "    overflow: auto;\n",
       "  }\n",
       "  table, th, td {\n",
       "    border: 1px solid black;\n",
       "    border-collapse: collapse;\n",
       "  }\n",
       "  th, td {\n",
       "    padding: 5px;\n",
       "  }\n",
       "  th {\n",
       "    text-align: left;\n",
       "  }\n",
       "</style><div class='table-result-container'><table class='table-result'><thead style='background-color: white'><tr><th>month_created</th><th>number_of_week_created</th><th>count(action_actor_id)</th></tr></thead><tbody><tr><td>1</td><td>3</td><td>335</td></tr><tr><td>1</td><td>1</td><td>340</td></tr><tr><td>1</td><td>2</td><td>327</td></tr><tr><td>1</td><td>52</td><td>58</td></tr><tr><td>1</td><td>5</td><td>48</td></tr><tr><td>1</td><td>4</td><td>371</td></tr></tbody></table></div>"
      ]
     },
     "metadata": {
      "application/vnd.databricks.v1+output": {
       "addedWidgets": {},
       "aggData": [],
       "aggError": "",
       "aggOverflow": false,
       "aggSchema": [],
       "aggSeriesLimitReached": false,
       "aggType": "",
       "arguments": {},
       "columnCustomDisplayInfos": {},
       "data": [
        [
         1,
         3,
         335
        ],
        [
         1,
         1,
         340
        ],
        [
         1,
         2,
         327
        ],
        [
         1,
         52,
         58
        ],
        [
         1,
         5,
         48
        ],
        [
         1,
         4,
         371
        ]
       ],
       "datasetInfos": [],
       "dbfsResultPath": null,
       "isJsonSchema": true,
       "metadata": {
        "dataframeName": "_sqldf",
        "executionCount": 73
       },
       "overflow": false,
       "plotOptions": {
        "customPlotOptions": {},
        "displayType": "table",
        "pivotAggregation": null,
        "pivotColumns": null,
        "xColumns": null,
        "yColumns": null
       },
       "removedWidgets": [],
       "schema": [
        {
         "metadata": "{}",
         "name": "month_created",
         "type": "\"integer\""
        },
        {
         "metadata": "{}",
         "name": "number_of_week_created",
         "type": "\"integer\""
        },
        {
         "metadata": "{\"__autoGeneratedAlias\":\"true\"}",
         "name": "count(action_actor_id)",
         "type": "\"long\""
        }
       ],
       "type": "table"
      }
     },
     "output_type": "display_data"
    },
    {
     "output_type": "display_data",
     "data": {
      "text/plain": [
       "Databricks visualization. Run in Databricks to view."
      ]
     },
     "metadata": {
      "application/vnd.databricks.v1.subcommand+json": {
       "bindings": {},
       "collapsed": false,
       "command": "%sql WITH q AS (SELECT month_created, number_of_week_created, count(t1.action_actor_id) \nFROM (user JOIN action\nON user.user_id == action.action_actor_id\nJOIN timestamp on timestamp.time_id == action.time_id) t1\ngroup by number_of_week_created, month_created) SELECT `number_of_week_created`,SUM(`count(action_actor_id)`) `column_2a451cb53022`,`month_created` FROM q GROUP BY `month_created`,`number_of_week_created`",
       "commandTitle": "Users Per Week",
       "commandType": "auto",
       "commandVersion": 0,
       "commentThread": [],
       "commentsVisible": false,
       "contentSha256Hex": null,
       "customPlotOptions": {
        "redashChart": [
         {
          "key": "type",
          "value": "CHART"
         },
         {
          "key": "options",
          "value": {
           "alignYAxesAtZero": true,
           "coefficient": 1,
           "columnConfigurationMap": {
            "series": {
             "column": "month_created",
             "id": "column_2a451cb53020"
            },
            "x": {
             "column": "number_of_week_created",
             "id": "column_2a451cb53023"
            },
            "y": [
             {
              "column": "count(action_actor_id)",
              "id": "column_2a451cb53022",
              "transform": "SUM"
             }
            ]
           },
           "dateTimeFormat": "DD/MM/YYYY HH:mm",
           "direction": {
            "type": "counterclockwise"
           },
           "error_y": {
            "type": "data",
            "visible": true
           },
           "globalSeriesType": "line",
           "hideXAxis": false,
           "isAggregationOn": true,
           "legend": {
            "traceorder": "normal"
           },
           "missingValuesAsZero": true,
           "numberFormat": "0,0[.]00000",
           "percentFormat": "0[.]00%",
           "series": {
            "error_y": {
             "type": "data",
             "visible": true
            },
            "stacking": null
           },
           "seriesOptions": {
            "column_2a451cb53022": {
             "type": "line",
             "yAxis": 0
            }
           },
           "showDataLabels": false,
           "sizemode": "diameter",
           "sortX": true,
           "sortY": true,
           "swappedAxes": false,
           "textFormat": "",
           "useAggregationsUi": true,
           "valuesOptions": {},
           "version": 2,
           "xAxis": {
            "labels": {
             "enabled": true
            },
            "title": {
             "text": "Week Number"
            },
            "type": "-"
           },
           "yAxis": [
            {
             "title": {
              "text": "Number of Individual Users"
             },
             "type": "-"
            },
            {
             "opposite": true,
             "type": "-"
            }
           ]
          }
         }
        ]
       },
       "datasetPreviewNameToCmdIdMap": {},
       "diffDeletes": [],
       "diffInserts": [],
       "displayType": "redashChart",
       "error": null,
       "errorSummary": null,
       "errorTraceType": null,
       "finishTime": 0,
       "globalVars": {},
       "guid": "",
       "height": "auto",
       "hideCommandCode": false,
       "hideCommandResult": false,
       "iPythonMetadata": null,
       "inputWidgets": {},
       "isLockedInExamMode": false,
       "latestUser": "a user",
       "latestUserId": null,
       "listResultMetadata": null,
       "metadata": {},
       "nuid": "aafc20c6-db24-4cc7-b700-b09d4e8846cd",
       "origId": 0,
       "parentHierarchy": [],
       "pivotAggregation": null,
       "pivotColumns": null,
       "position": 14.666666666666666,
       "resultDbfsErrorMessage": null,
       "resultDbfsStatus": "INLINED_IN_TREE",
       "results": null,
       "showCommandTitle": false,
       "startTime": 0,
       "state": "input",
       "streamStates": {},
       "subcommandOptions": {
        "queryPlan": {
         "groups": [
          {
           "column": "number_of_week_created",
           "type": "column"
          },
          {
           "column": "month_created",
           "type": "column"
          }
         ],
         "selects": [
          {
           "column": "number_of_week_created",
           "type": "column"
          },
          {
           "alias": "column_2a451cb53022",
           "args": [
            {
             "column": "count(action_actor_id)",
             "type": "column"
            }
           ],
           "function": "SUM",
           "type": "function"
          },
          {
           "column": "month_created",
           "type": "column"
          }
         ]
        }
       },
       "submitTime": 0,
       "subtype": "tableResultSubCmd.visualization",
       "tableResultIndex": 0,
       "useConsistentColors": false,
       "version": "CommandV1",
       "width": "auto",
       "workflows": [],
       "xColumns": null,
       "yColumns": null
      }
     },
     "output_type": "display_data"
    }
   ],
   "source": [
    "%sql\n",
    "SELECT month_created, number_of_week_created, count(t1.action_actor_id) \n",
    "FROM (user JOIN action\n",
    "ON user.user_id == action.action_actor_id\n",
    "JOIN timestamp on timestamp.time_id == action.time_id) t1\n",
    "group by number_of_week_created, month_created\n"
   ]
  },
  {
   "cell_type": "markdown",
   "metadata": {
    "application/vnd.databricks.v1+cell": {
     "cellMetadata": {},
     "inputWidgets": {},
     "nuid": "41fa5f7d-bc31-422e-b93a-4523586289b6",
     "showTitle": false,
     "title": ""
    }
   },
   "source": [
    "## Breakdown of activity by project – find a unique use case"
   ]
  },
  {
   "cell_type": "code",
   "execution_count": 0,
   "metadata": {
    "application/vnd.databricks.v1+cell": {
     "cellMetadata": {
      "byteLimit": 2048000,
      "rowLimit": 10000
     },
     "inputWidgets": {},
     "nuid": "4a3e75e3-1dcf-449c-8739-b29e7f640486",
     "showTitle": false,
     "title": ""
    }
   },
   "outputs": [
    {
     "output_type": "display_data",
     "data": {
      "text/html": [
       "<style scoped>\n",
       "  .table-result-container {\n",
       "    max-height: 300px;\n",
       "    overflow: auto;\n",
       "  }\n",
       "  table, th, td {\n",
       "    border: 1px solid black;\n",
       "    border-collapse: collapse;\n",
       "  }\n",
       "  th, td {\n",
       "    padding: 5px;\n",
       "  }\n",
       "  th {\n",
       "    text-align: left;\n",
       "  }\n",
       "</style><div class='table-result-container'><table class='table-result'><thead style='background-color: white'><tr><th>repo_url</th><th>action_type</th><th>Total Actions</th></tr></thead><tbody><tr><td>https://api.github.com/repos/0xStefan214/javascript-files</td><td>PushEvent</td><td>1</td></tr><tr><td>https://api.github.com/repos/0xsequence/erc-1155</td><td>WatchEvent</td><td>1</td></tr><tr><td>https://api.github.com/repos/117010130/hello-world</td><td>PushEvent</td><td>1</td></tr><tr><td>https://api.github.com/repos/1Password/scim-examples</td><td>PullRequestReviewEvent</td><td>1</td></tr><tr><td>https://api.github.com/repos/4vent/ArcadeTools</td><td>PushEvent</td><td>1</td></tr><tr><td>https://api.github.com/repos/8fn/exercicios-php</td><td>PublicEvent</td><td>1</td></tr><tr><td>https://api.github.com/repos/ABHINAV-GOPINADH/java-expt-2</td><td>CreateEvent</td><td>1</td></tr><tr><td>https://api.github.com/repos/AIAcademyBatchH/TensorFlow_ANN</td><td>PushEvent</td><td>1</td></tr><tr><td>https://api.github.com/repos/AIT-LAHCEN/Extranet_RH</td><td>CreateEvent</td><td>1</td></tr><tr><td>https://api.github.com/repos/Abh1shekSingh/Coursera_Solution</td><td>CreateEvent</td><td>1</td></tr></tbody></table></div>"
      ]
     },
     "metadata": {
      "application/vnd.databricks.v1+output": {
       "addedWidgets": {},
       "aggData": [],
       "aggError": "",
       "aggOverflow": false,
       "aggSchema": [],
       "aggSeriesLimitReached": false,
       "aggType": "",
       "arguments": {},
       "columnCustomDisplayInfos": {},
       "data": [
        [
         "https://api.github.com/repos/0xStefan214/javascript-files",
         "PushEvent",
         1
        ],
        [
         "https://api.github.com/repos/0xsequence/erc-1155",
         "WatchEvent",
         1
        ],
        [
         "https://api.github.com/repos/117010130/hello-world",
         "PushEvent",
         1
        ],
        [
         "https://api.github.com/repos/1Password/scim-examples",
         "PullRequestReviewEvent",
         1
        ],
        [
         "https://api.github.com/repos/4vent/ArcadeTools",
         "PushEvent",
         1
        ],
        [
         "https://api.github.com/repos/8fn/exercicios-php",
         "PublicEvent",
         1
        ],
        [
         "https://api.github.com/repos/ABHINAV-GOPINADH/java-expt-2",
         "CreateEvent",
         1
        ],
        [
         "https://api.github.com/repos/AIAcademyBatchH/TensorFlow_ANN",
         "PushEvent",
         1
        ],
        [
         "https://api.github.com/repos/AIT-LAHCEN/Extranet_RH",
         "CreateEvent",
         1
        ],
        [
         "https://api.github.com/repos/Abh1shekSingh/Coursera_Solution",
         "CreateEvent",
         1
        ]
       ],
       "datasetInfos": [],
       "dbfsResultPath": null,
       "isJsonSchema": true,
       "metadata": {},
       "overflow": false,
       "plotOptions": {
        "customPlotOptions": {},
        "displayType": "table",
        "pivotAggregation": null,
        "pivotColumns": null,
        "xColumns": null,
        "yColumns": null
       },
       "removedWidgets": [],
       "schema": [
        {
         "metadata": "{}",
         "name": "repo_url",
         "type": "\"string\""
        },
        {
         "metadata": "{}",
         "name": "action_type",
         "type": "\"string\""
        },
        {
         "metadata": "{}",
         "name": "Total Actions",
         "type": "\"long\""
        }
       ],
       "type": "table"
      }
     },
     "output_type": "display_data"
    }
   ],
   "source": [
    "#How many actions of each type for each repo_url\n",
    "action.join(repo,action.action_repo_id == repo.repo_id,'inner').groupBy('repo_url','action_type').count().sort('repo_url').withColumnRenamed('count','Total Actions').limit(10).display()"
   ]
  },
  {
   "cell_type": "code",
   "execution_count": 0,
   "metadata": {
    "application/vnd.databricks.v1+cell": {
     "cellMetadata": {
      "byteLimit": 2048000,
      "rowLimit": 10000
     },
     "inputWidgets": {},
     "nuid": "ee29496a-445c-4b78-99d7-646b2db63514",
     "showTitle": false,
     "title": ""
    }
   },
   "outputs": [
    {
     "output_type": "display_data",
     "data": {
      "text/html": [
       "<style scoped>\n",
       "  .table-result-container {\n",
       "    max-height: 300px;\n",
       "    overflow: auto;\n",
       "  }\n",
       "  table, th, td {\n",
       "    border: 1px solid black;\n",
       "    border-collapse: collapse;\n",
       "  }\n",
       "  th, td {\n",
       "    padding: 5px;\n",
       "  }\n",
       "  th {\n",
       "    text-align: left;\n",
       "  }\n",
       "</style><div class='table-result-container'><table class='table-result'><thead style='background-color: white'><tr><th>repo_url</th><th>Total Actions</th></tr></thead><tbody><tr><td>https://api.github.com/repos/BornToBeRoot/NETworkManager</td><td>2</td></tr><tr><td>https://api.github.com/repos/CSeanXu/b1llion</td><td>6</td></tr><tr><td>https://api.github.com/repos/CaeCur/lights-out</td><td>2</td></tr><tr><td>https://api.github.com/repos/Codecademy/gamut</td><td>4</td></tr><tr><td>https://api.github.com/repos/DataDog/documentation</td><td>4</td></tr><tr><td>https://api.github.com/repos/DimensionDev/Maskbook</td><td>3</td></tr><tr><td>https://api.github.com/repos/DonQuixoteJoker/Wabo</td><td>2</td></tr><tr><td>https://api.github.com/repos/EthereansOS/ITEMS-swap</td><td>2</td></tr><tr><td>https://api.github.com/repos/GuruCICDCanary-Prod-Release/CICDCanary</td><td>13</td></tr><tr><td>https://api.github.com/repos/Jason2866/tmp_copy</td><td>2</td></tr></tbody></table></div>"
      ]
     },
     "metadata": {
      "application/vnd.databricks.v1+output": {
       "addedWidgets": {},
       "aggData": [],
       "aggError": "",
       "aggOverflow": false,
       "aggSchema": [],
       "aggSeriesLimitReached": false,
       "aggType": "",
       "arguments": {},
       "columnCustomDisplayInfos": {},
       "data": [
        [
         "https://api.github.com/repos/BornToBeRoot/NETworkManager",
         2
        ],
        [
         "https://api.github.com/repos/CSeanXu/b1llion",
         6
        ],
        [
         "https://api.github.com/repos/CaeCur/lights-out",
         2
        ],
        [
         "https://api.github.com/repos/Codecademy/gamut",
         4
        ],
        [
         "https://api.github.com/repos/DataDog/documentation",
         4
        ],
        [
         "https://api.github.com/repos/DimensionDev/Maskbook",
         3
        ],
        [
         "https://api.github.com/repos/DonQuixoteJoker/Wabo",
         2
        ],
        [
         "https://api.github.com/repos/EthereansOS/ITEMS-swap",
         2
        ],
        [
         "https://api.github.com/repos/GuruCICDCanary-Prod-Release/CICDCanary",
         13
        ],
        [
         "https://api.github.com/repos/Jason2866/tmp_copy",
         2
        ]
       ],
       "datasetInfos": [],
       "dbfsResultPath": null,
       "isJsonSchema": true,
       "metadata": {},
       "overflow": false,
       "plotOptions": {
        "customPlotOptions": {},
        "displayType": "table",
        "pivotAggregation": null,
        "pivotColumns": null,
        "xColumns": null,
        "yColumns": null
       },
       "removedWidgets": [],
       "schema": [
        {
         "metadata": "{}",
         "name": "repo_url",
         "type": "\"string\""
        },
        {
         "metadata": "{}",
         "name": "Total Actions",
         "type": "\"long\""
        }
       ],
       "type": "table"
      }
     },
     "output_type": "display_data"
    }
   ],
   "source": [
    "#Repos with two or more actions\n",
    "action.join(repo,action.action_repo_id == repo.repo_id,'inner').groupBy('repo_url').count().sort('repo_url').filter('count > 1').withColumnRenamed('count','Total Actions').limit(10).display()"
   ]
  },
  {
   "cell_type": "code",
   "execution_count": 0,
   "metadata": {
    "application/vnd.databricks.v1+cell": {
     "cellMetadata": {
      "byteLimit": 2048000,
      "rowLimit": 10000
     },
     "inputWidgets": {},
     "nuid": "146ef1c6-36c2-4f63-a1d0-00bb264c92b0",
     "showTitle": false,
     "title": ""
    }
   },
   "outputs": [
    {
     "output_type": "display_data",
     "data": {
      "text/html": [
       "<style scoped>\n",
       "  .table-result-container {\n",
       "    max-height: 300px;\n",
       "    overflow: auto;\n",
       "  }\n",
       "  table, th, td {\n",
       "    border: 1px solid black;\n",
       "    border-collapse: collapse;\n",
       "  }\n",
       "  th, td {\n",
       "    padding: 5px;\n",
       "  }\n",
       "  th {\n",
       "    text-align: left;\n",
       "  }\n",
       "</style><div class='table-result-container'><table class='table-result'><thead style='background-color: white'><tr><th>repo_url</th><th>day_created</th><th>count</th></tr></thead><tbody><tr><td>https://api.github.com/repos/0xStefan214/javascript-files</td><td>12</td><td>1</td></tr><tr><td>https://api.github.com/repos/0xsequence/erc-1155</td><td>24</td><td>1</td></tr><tr><td>https://api.github.com/repos/117010130/hello-world</td><td>17</td><td>1</td></tr><tr><td>https://api.github.com/repos/1Password/scim-examples</td><td>19</td><td>1</td></tr><tr><td>https://api.github.com/repos/4vent/ArcadeTools</td><td>31</td><td>1</td></tr><tr><td>https://api.github.com/repos/8fn/exercicios-php</td><td>17</td><td>1</td></tr><tr><td>https://api.github.com/repos/ABHINAV-GOPINADH/java-expt-2</td><td>25</td><td>1</td></tr><tr><td>https://api.github.com/repos/AIAcademyBatchH/TensorFlow_ANN</td><td>28</td><td>1</td></tr><tr><td>https://api.github.com/repos/AIT-LAHCEN/Extranet_RH</td><td>14</td><td>1</td></tr><tr><td>https://api.github.com/repos/Abh1shekSingh/Coursera_Solution</td><td>21</td><td>1</td></tr></tbody></table></div>"
      ]
     },
     "metadata": {
      "application/vnd.databricks.v1+output": {
       "addedWidgets": {},
       "aggData": [],
       "aggError": "",
       "aggOverflow": false,
       "aggSchema": [],
       "aggSeriesLimitReached": false,
       "aggType": "",
       "arguments": {},
       "columnCustomDisplayInfos": {},
       "data": [
        [
         "https://api.github.com/repos/0xStefan214/javascript-files",
         12,
         1
        ],
        [
         "https://api.github.com/repos/0xsequence/erc-1155",
         24,
         1
        ],
        [
         "https://api.github.com/repos/117010130/hello-world",
         17,
         1
        ],
        [
         "https://api.github.com/repos/1Password/scim-examples",
         19,
         1
        ],
        [
         "https://api.github.com/repos/4vent/ArcadeTools",
         31,
         1
        ],
        [
         "https://api.github.com/repos/8fn/exercicios-php",
         17,
         1
        ],
        [
         "https://api.github.com/repos/ABHINAV-GOPINADH/java-expt-2",
         25,
         1
        ],
        [
         "https://api.github.com/repos/AIAcademyBatchH/TensorFlow_ANN",
         28,
         1
        ],
        [
         "https://api.github.com/repos/AIT-LAHCEN/Extranet_RH",
         14,
         1
        ],
        [
         "https://api.github.com/repos/Abh1shekSingh/Coursera_Solution",
         21,
         1
        ]
       ],
       "datasetInfos": [],
       "dbfsResultPath": null,
       "isJsonSchema": true,
       "metadata": {},
       "overflow": false,
       "plotOptions": {
        "customPlotOptions": {},
        "displayType": "table",
        "pivotAggregation": null,
        "pivotColumns": null,
        "xColumns": null,
        "yColumns": null
       },
       "removedWidgets": [],
       "schema": [
        {
         "metadata": "{}",
         "name": "repo_url",
         "type": "\"string\""
        },
        {
         "metadata": "{}",
         "name": "day_created",
         "type": "\"integer\""
        },
        {
         "metadata": "{}",
         "name": "count",
         "type": "\"long\""
        }
       ],
       "type": "table"
      }
     },
     "output_type": "display_data"
    }
   ],
   "source": [
    "#Actions per month for each repo_url\n",
    "resault = action.join(repo,action.action_repo_id == repo.repo_id,'inner')\n",
    "resault.join(timestamp, resault.time_id == timestamp.time_id,'inner').groupBy('repo_url','day_created').count().sort('repo_url','day_created').limit(10).display()"
   ]
  },
  {
   "cell_type": "markdown",
   "metadata": {
    "application/vnd.databricks.v1+cell": {
     "cellMetadata": {},
     "inputWidgets": {},
     "nuid": "a1201d63-2eaf-4900-925b-6aeb3f145199",
     "showTitle": false,
     "title": ""
    }
   },
   "source": [
    "## More Queries"
   ]
  },
  {
   "cell_type": "markdown",
   "metadata": {
    "application/vnd.databricks.v1+cell": {
     "cellMetadata": {},
     "inputWidgets": {},
     "nuid": "1779c20a-84cf-48c1-bdbd-095d43eed38d",
     "showTitle": false,
     "title": ""
    }
   },
   "source": [
    "### Orgs!"
   ]
  },
  {
   "cell_type": "code",
   "execution_count": 0,
   "metadata": {
    "application/vnd.databricks.v1+cell": {
     "cellMetadata": {
      "byteLimit": 2048000,
      "rowLimit": 10000
     },
     "inputWidgets": {},
     "nuid": "22fa32ef-25df-4683-a388-399f671b8688",
     "showTitle": false,
     "title": ""
    }
   },
   "outputs": [],
   "source": [
    "orgs = linker_orgs.join(org_names,linker_orgs.org_logins_id == org_names.org_logins_id,'inner').drop('org_logins_id')"
   ]
  },
  {
   "cell_type": "code",
   "execution_count": 0,
   "metadata": {
    "application/vnd.databricks.v1+cell": {
     "cellMetadata": {
      "byteLimit": 2048000,
      "rowLimit": 10000
     },
     "inputWidgets": {},
     "nuid": "880f5a2e-38f4-456a-a027-0969d135315d",
     "showTitle": false,
     "title": ""
    }
   },
   "outputs": [
    {
     "output_type": "display_data",
     "data": {
      "text/html": [
       "<style scoped>\n",
       "  .table-result-container {\n",
       "    max-height: 300px;\n",
       "    overflow: auto;\n",
       "  }\n",
       "  table, th, td {\n",
       "    border: 1px solid black;\n",
       "    border-collapse: collapse;\n",
       "  }\n",
       "  th, td {\n",
       "    padding: 5px;\n",
       "  }\n",
       "  th {\n",
       "    text-align: left;\n",
       "  }\n",
       "</style><div class='table-result-container'><table class='table-result'><thead style='background-color: white'><tr><th>org_login</th><th>count</th></tr></thead><tbody><tr><td>PlaNFT</td><td>82437</td></tr><tr><td>Fluffy-Pan</td><td>61364</td></tr><tr><td>MicrosoftDocs</td><td>53613</td></tr><tr><td>AzureSDKAutomation</td><td>52371</td></tr><tr><td>JetBrains</td><td>52243</td></tr><tr><td>Tencent</td><td>20968</td></tr><tr><td>MOVIECORD</td><td>20345</td></tr><tr><td>SAP</td><td>19170</td></tr><tr><td>IBM</td><td>17121</td></tr><tr><td>UBC-MDS</td><td>15773</td></tr></tbody></table></div>"
      ]
     },
     "metadata": {
      "application/vnd.databricks.v1+output": {
       "addedWidgets": {},
       "aggData": [],
       "aggError": "",
       "aggOverflow": false,
       "aggSchema": [],
       "aggSeriesLimitReached": false,
       "aggType": "",
       "arguments": {},
       "columnCustomDisplayInfos": {},
       "data": [
        [
         "PlaNFT",
         82437
        ],
        [
         "Fluffy-Pan",
         61364
        ],
        [
         "MicrosoftDocs",
         53613
        ],
        [
         "AzureSDKAutomation",
         52371
        ],
        [
         "JetBrains",
         52243
        ],
        [
         "Tencent",
         20968
        ],
        [
         "MOVIECORD",
         20345
        ],
        [
         "SAP",
         19170
        ],
        [
         "IBM",
         17121
        ],
        [
         "UBC-MDS",
         15773
        ]
       ],
       "datasetInfos": [],
       "dbfsResultPath": null,
       "isJsonSchema": true,
       "metadata": {},
       "overflow": false,
       "plotOptions": {
        "customPlotOptions": {},
        "displayType": "table",
        "pivotAggregation": null,
        "pivotColumns": null,
        "xColumns": null,
        "yColumns": null
       },
       "removedWidgets": [],
       "schema": [
        {
         "metadata": "{}",
         "name": "org_login",
         "type": "\"string\""
        },
        {
         "metadata": "{}",
         "name": "count",
         "type": "\"long\""
        }
       ],
       "type": "table"
      }
     },
     "output_type": "display_data"
    }
   ],
   "source": [
    "#number of total actions by an org\n",
    "orgs.join(action,orgs.org_id == action.action_org_id,'inner').groupBy('org_login').count().sort('count',ascending=False).limit(10).display()"
   ]
  },
  {
   "cell_type": "code",
   "execution_count": 0,
   "metadata": {
    "application/vnd.databricks.v1+cell": {
     "cellMetadata": {
      "byteLimit": 2048000,
      "rowLimit": 10000
     },
     "inputWidgets": {},
     "nuid": "0cebb6fa-9a69-4d9b-87c5-3a5851eb92b7",
     "showTitle": false,
     "title": ""
    }
   },
   "outputs": [
    {
     "output_type": "display_data",
     "data": {
      "text/html": [
       "<style scoped>\n",
       "  .table-result-container {\n",
       "    max-height: 300px;\n",
       "    overflow: auto;\n",
       "  }\n",
       "  table, th, td {\n",
       "    border: 1px solid black;\n",
       "    border-collapse: collapse;\n",
       "  }\n",
       "  th, td {\n",
       "    padding: 5px;\n",
       "  }\n",
       "  th {\n",
       "    text-align: left;\n",
       "  }\n",
       "</style><div class='table-result-container'><table class='table-result'><thead style='background-color: white'><tr><th>day_created</th><th>count</th></tr></thead><tbody><tr><td>1</td><td>40416</td></tr><tr><td>2</td><td>48507</td></tr><tr><td>3</td><td>89964</td></tr><tr><td>4</td><td>98923</td></tr><tr><td>5</td><td>110303</td></tr><tr><td>6</td><td>101268</td></tr><tr><td>7</td><td>98812</td></tr><tr><td>8</td><td>61855</td></tr><tr><td>9</td><td>58261</td></tr><tr><td>10</td><td>111763</td></tr></tbody></table></div>"
      ]
     },
     "metadata": {
      "application/vnd.databricks.v1+output": {
       "addedWidgets": {},
       "aggData": [],
       "aggError": "",
       "aggOverflow": false,
       "aggSchema": [],
       "aggSeriesLimitReached": false,
       "aggType": "",
       "arguments": {},
       "columnCustomDisplayInfos": {},
       "data": [
        [
         1,
         40416
        ],
        [
         2,
         48507
        ],
        [
         3,
         89964
        ],
        [
         4,
         98923
        ],
        [
         5,
         110303
        ],
        [
         6,
         101268
        ],
        [
         7,
         98812
        ],
        [
         8,
         61855
        ],
        [
         9,
         58261
        ],
        [
         10,
         111763
        ]
       ],
       "datasetInfos": [],
       "dbfsResultPath": null,
       "isJsonSchema": true,
       "metadata": {},
       "overflow": false,
       "plotOptions": {
        "customPlotOptions": {},
        "displayType": "table",
        "pivotAggregation": null,
        "pivotColumns": null,
        "xColumns": null,
        "yColumns": null
       },
       "removedWidgets": [],
       "schema": [
        {
         "metadata": "{}",
         "name": "day_created",
         "type": "\"integer\""
        },
        {
         "metadata": "{}",
         "name": "count",
         "type": "\"long\""
        }
       ],
       "type": "table"
      }
     },
     "output_type": "display_data"
    }
   ],
   "source": [
    "#All Orgs Actions per day\n",
    "join_1 = orgs.join(action,orgs.org_id == action.action_org_id,'inner')\n",
    "join_1.join(timestamp, join_1.time_id == timestamp.time_id,'inner').groupBy('day_created').count().sort('day_created').limit(10).display()"
   ]
  },
  {
   "cell_type": "markdown",
   "metadata": {
    "application/vnd.databricks.v1+cell": {
     "cellMetadata": {},
     "inputWidgets": {},
     "nuid": "f62d4e3b-0607-4ebc-ae71-a7ba27427473",
     "showTitle": false,
     "title": ""
    }
   },
   "source": [
    "### Users and Contributors"
   ]
  },
  {
   "cell_type": "code",
   "execution_count": 0,
   "metadata": {
    "application/vnd.databricks.v1+cell": {
     "cellMetadata": {
      "byteLimit": 2048000,
      "rowLimit": 10000
     },
     "inputWidgets": {},
     "nuid": "d34f4dd8-c9b1-4e4e-9421-b2dd9fbf05ae",
     "showTitle": false,
     "title": ""
    }
   },
   "outputs": [],
   "source": [
    "action_repo = action.join(repo,action.action_repo_id == repo.repo_id,'inner').groupBy('repo_url','action_actor_id').count().sort('repo_url',col('count').desc())\n",
    "action_repo = action_repo.join(user,action_repo.action_actor_id==user.user_id,'inner')\n",
    "window = Window.partitionBy(action_repo['repo_url']).orderBy(action_repo['count'].desc())"
   ]
  },
  {
   "cell_type": "code",
   "execution_count": 0,
   "metadata": {
    "application/vnd.databricks.v1+cell": {
     "cellMetadata": {
      "byteLimit": 2048000,
      "rowLimit": 10000
     },
     "inputWidgets": {},
     "nuid": "d17b590a-1a69-4821-97a9-d1dbf8cd47af",
     "showTitle": false,
     "title": ""
    }
   },
   "outputs": [
    {
     "output_type": "display_data",
     "data": {
      "text/html": [
       "<style scoped>\n",
       "  .table-result-container {\n",
       "    max-height: 300px;\n",
       "    overflow: auto;\n",
       "  }\n",
       "  table, th, td {\n",
       "    border: 1px solid black;\n",
       "    border-collapse: collapse;\n",
       "  }\n",
       "  th, td {\n",
       "    padding: 5px;\n",
       "  }\n",
       "  th {\n",
       "    text-align: left;\n",
       "  }\n",
       "</style><div class='table-result-container'><table class='table-result'><thead style='background-color: white'><tr><th>repo_url</th><th>count</th><th>user_id</th><th>user_login</th><th>rank</th></tr></thead><tbody><tr><td>https://api.github.com/repos/0-000/nobelium</td><td>1</td><td>60861062</td><td>0-000</td><td>1</td></tr><tr><td>https://api.github.com/repos/0-5d/stock_picker</td><td>2</td><td>51177522</td><td>0-5d</td><td>1</td></tr><tr><td>https://api.github.com/repos/0-6-1-7/rosreestr</td><td>1</td><td>96841762</td><td>Waht-is-it</td><td>1</td></tr><tr><td>https://api.github.com/repos/0-Azure/0-Azure</td><td>2</td><td>93076002</td><td>0-Azure</td><td>1</td></tr><tr><td>https://api.github.com/repos/0-Raigi-0/Cesar</td><td>2</td><td>72525501</td><td>0-Raigi-0</td><td>1</td></tr><tr><td>https://api.github.com/repos/0-Shine-0/Goodanimemes-Rules</td><td>1</td><td>62271116</td><td>worldeva</td><td>1</td></tr><tr><td>https://api.github.com/repos/0-TelitsynNikite/Mel</td><td>12</td><td>77964273</td><td>0-TelitsynNikite</td><td>1</td></tr><tr><td>https://api.github.com/repos/0-X0deX-o/TOP</td><td>6</td><td>91225758</td><td>0-X0deX-o</td><td>1</td></tr><tr><td>https://api.github.com/repos/0-ng/end_nginx</td><td>2</td><td>49059247</td><td>0-ng</td><td>1</td></tr><tr><td>https://api.github.com/repos/0-vortex/open-sauced-supabase-cron-test</td><td>1402</td><td>41898282</td><td>github-actions[bot]</td><td>1</td></tr><tr><td>https://api.github.com/repos/0-vortex/open-sauced-supabase-cron-test</td><td>48</td><td>237133</td><td>0-vortex</td><td>2</td></tr><tr><td>https://api.github.com/repos/0-vortex/open-sauced-supabase-cron-test</td><td>1</td><td>98451755</td><td>Robbyqh</td><td>3</td></tr><tr><td>https://api.github.com/repos/00-01/pplcnt</td><td>132</td><td>59557934</td><td>00-01</td><td>1</td></tr><tr><td>https://api.github.com/repos/00-team/ping-pong-site</td><td>2</td><td>64564512</td><td>i007c</td><td>1</td></tr><tr><td>https://api.github.com/repos/000001f/000001f</td><td>1</td><td>98524364</td><td>000001f</td><td>1</td></tr></tbody></table></div>"
      ]
     },
     "metadata": {
      "application/vnd.databricks.v1+output": {
       "addedWidgets": {},
       "aggData": [],
       "aggError": "",
       "aggOverflow": false,
       "aggSchema": [],
       "aggSeriesLimitReached": false,
       "aggType": "",
       "arguments": {},
       "columnCustomDisplayInfos": {},
       "data": [
        [
         "https://api.github.com/repos/0-000/nobelium",
         1,
         60861062,
         "0-000",
         1
        ],
        [
         "https://api.github.com/repos/0-5d/stock_picker",
         2,
         51177522,
         "0-5d",
         1
        ],
        [
         "https://api.github.com/repos/0-6-1-7/rosreestr",
         1,
         96841762,
         "Waht-is-it",
         1
        ],
        [
         "https://api.github.com/repos/0-Azure/0-Azure",
         2,
         93076002,
         "0-Azure",
         1
        ],
        [
         "https://api.github.com/repos/0-Raigi-0/Cesar",
         2,
         72525501,
         "0-Raigi-0",
         1
        ],
        [
         "https://api.github.com/repos/0-Shine-0/Goodanimemes-Rules",
         1,
         62271116,
         "worldeva",
         1
        ],
        [
         "https://api.github.com/repos/0-TelitsynNikite/Mel",
         12,
         77964273,
         "0-TelitsynNikite",
         1
        ],
        [
         "https://api.github.com/repos/0-X0deX-o/TOP",
         6,
         91225758,
         "0-X0deX-o",
         1
        ],
        [
         "https://api.github.com/repos/0-ng/end_nginx",
         2,
         49059247,
         "0-ng",
         1
        ],
        [
         "https://api.github.com/repos/0-vortex/open-sauced-supabase-cron-test",
         1402,
         41898282,
         "github-actions[bot]",
         1
        ],
        [
         "https://api.github.com/repos/0-vortex/open-sauced-supabase-cron-test",
         48,
         237133,
         "0-vortex",
         2
        ],
        [
         "https://api.github.com/repos/0-vortex/open-sauced-supabase-cron-test",
         1,
         98451755,
         "Robbyqh",
         3
        ],
        [
         "https://api.github.com/repos/00-01/pplcnt",
         132,
         59557934,
         "00-01",
         1
        ],
        [
         "https://api.github.com/repos/00-team/ping-pong-site",
         2,
         64564512,
         "i007c",
         1
        ],
        [
         "https://api.github.com/repos/000001f/000001f",
         1,
         98524364,
         "000001f",
         1
        ]
       ],
       "datasetInfos": [],
       "dbfsResultPath": null,
       "isJsonSchema": true,
       "metadata": {},
       "overflow": false,
       "plotOptions": {
        "customPlotOptions": {},
        "displayType": "table",
        "pivotAggregation": null,
        "pivotColumns": null,
        "xColumns": null,
        "yColumns": null
       },
       "removedWidgets": [],
       "schema": [
        {
         "metadata": "{}",
         "name": "repo_url",
         "type": "\"string\""
        },
        {
         "metadata": "{}",
         "name": "count",
         "type": "\"long\""
        },
        {
         "metadata": "{}",
         "name": "user_id",
         "type": "\"long\""
        },
        {
         "metadata": "{}",
         "name": "user_login",
         "type": "\"string\""
        },
        {
         "metadata": "{}",
         "name": "rank",
         "type": "\"integer\""
        }
       ],
       "type": "table"
      }
     },
     "output_type": "display_data"
    }
   ],
   "source": [
    "# Every contributer to a repo ranked by number of actions\n",
    "contributors_ranked = action_repo.select('*', rank().over(window).alias('rank')).drop('action_actor_id')\n",
    "contributors_ranked.limit(15).display()\n",
    "   \n"
   ]
  },
  {
   "cell_type": "code",
   "execution_count": 0,
   "metadata": {
    "application/vnd.databricks.v1+cell": {
     "cellMetadata": {
      "byteLimit": 2048000,
      "rowLimit": 10000
     },
     "inputWidgets": {},
     "nuid": "85705e44-8cb2-40ad-af7f-b8865dc01589",
     "showTitle": false,
     "title": ""
    }
   },
   "outputs": [
    {
     "output_type": "display_data",
     "data": {
      "text/html": [
       "<style scoped>\n",
       "  .table-result-container {\n",
       "    max-height: 300px;\n",
       "    overflow: auto;\n",
       "  }\n",
       "  table, th, td {\n",
       "    border: 1px solid black;\n",
       "    border-collapse: collapse;\n",
       "  }\n",
       "  th, td {\n",
       "    padding: 5px;\n",
       "  }\n",
       "  th {\n",
       "    text-align: left;\n",
       "  }\n",
       "</style><div class='table-result-container'><table class='table-result'><thead style='background-color: white'><tr><th>repo_url</th><th>count</th><th>user_id</th><th>user_login</th><th>rank</th></tr></thead><tbody><tr><td>https://api.github.com/repos/0-2HERO/FE21-CR01-Aleksandar</td><td>1</td><td>64213996</td><td>0-2HERO</td><td>1</td></tr><tr><td>https://api.github.com/repos/0-Dark-0/My-first-simple-calculator</td><td>2</td><td>98577400</td><td>0-Dark-0</td><td>1</td></tr><tr><td>https://api.github.com/repos/0-Diogo-Marques-0/0-Diogo-Marques-0</td><td>7</td><td>98153085</td><td>0-Diogo-Marques-0</td><td>1</td></tr><tr><td>https://api.github.com/repos/0-Rafinha/ocean-master</td><td>2</td><td>92826789</td><td>0-Rafinha</td><td>1</td></tr><tr><td>https://api.github.com/repos/0-a-e/OSarchive-UI</td><td>2</td><td>49699333</td><td>dependabot[bot]</td><td>1</td></tr><tr><td>https://api.github.com/repos/0-ayano/OSandCompiler_1</td><td>26</td><td>86472869</td><td>0-ayano</td><td>1</td></tr><tr><td>https://api.github.com/repos/0-harshit-0/maze</td><td>31</td><td>59227793</td><td>0-harshit-0</td><td>1</td></tr><tr><td>https://api.github.com/repos/0-jagadeesh-0/food-order-app</td><td>3</td><td>74336885</td><td>0-jagadeesh-0</td><td>1</td></tr><tr><td>https://api.github.com/repos/0-shubham-0/EverKnight</td><td>3</td><td>89774595</td><td>0-shubham-0</td><td>1</td></tr><tr><td>https://api.github.com/repos/0-woo/0-woo.github.io</td><td>2</td><td>90828359</td><td>0-woo</td><td>1</td></tr></tbody></table></div>"
      ]
     },
     "metadata": {
      "application/vnd.databricks.v1+output": {
       "addedWidgets": {},
       "aggData": [],
       "aggError": "",
       "aggOverflow": false,
       "aggSchema": [],
       "aggSeriesLimitReached": false,
       "aggType": "",
       "arguments": {},
       "columnCustomDisplayInfos": {},
       "data": [
        [
         "https://api.github.com/repos/0-2HERO/FE21-CR01-Aleksandar",
         1,
         64213996,
         "0-2HERO",
         1
        ],
        [
         "https://api.github.com/repos/0-Dark-0/My-first-simple-calculator",
         2,
         98577400,
         "0-Dark-0",
         1
        ],
        [
         "https://api.github.com/repos/0-Diogo-Marques-0/0-Diogo-Marques-0",
         7,
         98153085,
         "0-Diogo-Marques-0",
         1
        ],
        [
         "https://api.github.com/repos/0-Rafinha/ocean-master",
         2,
         92826789,
         "0-Rafinha",
         1
        ],
        [
         "https://api.github.com/repos/0-a-e/OSarchive-UI",
         2,
         49699333,
         "dependabot[bot]",
         1
        ],
        [
         "https://api.github.com/repos/0-ayano/OSandCompiler_1",
         26,
         86472869,
         "0-ayano",
         1
        ],
        [
         "https://api.github.com/repos/0-harshit-0/maze",
         31,
         59227793,
         "0-harshit-0",
         1
        ],
        [
         "https://api.github.com/repos/0-jagadeesh-0/food-order-app",
         3,
         74336885,
         "0-jagadeesh-0",
         1
        ],
        [
         "https://api.github.com/repos/0-shubham-0/EverKnight",
         3,
         89774595,
         "0-shubham-0",
         1
        ],
        [
         "https://api.github.com/repos/0-woo/0-woo.github.io",
         2,
         90828359,
         "0-woo",
         1
        ]
       ],
       "datasetInfos": [],
       "dbfsResultPath": null,
       "isJsonSchema": true,
       "metadata": {},
       "overflow": false,
       "plotOptions": {
        "customPlotOptions": {},
        "displayType": "table",
        "pivotAggregation": null,
        "pivotColumns": null,
        "xColumns": null,
        "yColumns": null
       },
       "removedWidgets": [],
       "schema": [
        {
         "metadata": "{}",
         "name": "repo_url",
         "type": "\"string\""
        },
        {
         "metadata": "{}",
         "name": "count",
         "type": "\"long\""
        },
        {
         "metadata": "{}",
         "name": "user_id",
         "type": "\"long\""
        },
        {
         "metadata": "{}",
         "name": "user_login",
         "type": "\"string\""
        },
        {
         "metadata": "{}",
         "name": "rank",
         "type": "\"integer\""
        }
       ],
       "type": "table"
      }
     },
     "output_type": "display_data"
    }
   ],
   "source": [
    "# The top contributer to every repo\n",
    "top_contributor = action_repo.select('*', rank().over(window).alias('rank')).filter(col('rank') == 1)\n",
    "top_contributor.limit(10).display()"
   ]
  },
  {
   "cell_type": "code",
   "execution_count": 0,
   "metadata": {
    "application/vnd.databricks.v1+cell": {
     "cellMetadata": {
      "byteLimit": 2048000,
      "rowLimit": 10000
     },
     "inputWidgets": {},
     "nuid": "a3ef83a9-9121-4076-9300-963c5cec089d",
     "showTitle": false,
     "title": ""
    }
   },
   "outputs": [],
   "source": [
    "\n",
    "tip_top_contributor = top_contributor.drop('count').groupBy('user_id').count().sort('count',ascending=False)"
   ]
  },
  {
   "cell_type": "code",
   "execution_count": 0,
   "metadata": {
    "application/vnd.databricks.v1+cell": {
     "cellMetadata": {
      "byteLimit": 2048000,
      "rowLimit": 10000
     },
     "inputWidgets": {},
     "nuid": "5221b108-5b26-4545-ac25-3dc82d72d220",
     "showTitle": false,
     "title": ""
    }
   },
   "outputs": [
    {
     "output_type": "display_data",
     "data": {
      "text/html": [
       "<style scoped>\n",
       "  .table-result-container {\n",
       "    max-height: 300px;\n",
       "    overflow: auto;\n",
       "  }\n",
       "  table, th, td {\n",
       "    border: 1px solid black;\n",
       "    border-collapse: collapse;\n",
       "  }\n",
       "  th, td {\n",
       "    padding: 5px;\n",
       "  }\n",
       "  th {\n",
       "    text-align: left;\n",
       "  }\n",
       "</style><div class='table-result-container'><table class='table-result'><thead style='background-color: white'><tr><th>count</th><th>user_login</th></tr></thead><tbody><tr><td>1476195</td><td>dependabot[bot]</td></tr><tr><td>102861</td><td>direwolf-github</td></tr><tr><td>49077</td><td>github-actions[bot]</td></tr><tr><td>34996</td><td>pull[bot]</td></tr><tr><td>21791</td><td>berolinux</td></tr><tr><td>18454</td><td>vercel[bot]</td></tr><tr><td>18328</td><td>aws-aemilia</td></tr><tr><td>12031</td><td>renovate[bot]</td></tr><tr><td>9629</td><td>github-classroom[bot]</td></tr><tr><td>9619</td><td>Butters3388214</td></tr></tbody></table></div>"
      ]
     },
     "metadata": {
      "application/vnd.databricks.v1+output": {
       "addedWidgets": {},
       "aggData": [],
       "aggError": "",
       "aggOverflow": false,
       "aggSchema": [],
       "aggSeriesLimitReached": false,
       "aggType": "",
       "arguments": {},
       "columnCustomDisplayInfos": {},
       "data": [
        [
         1476195,
         "dependabot[bot]"
        ],
        [
         102861,
         "direwolf-github"
        ],
        [
         49077,
         "github-actions[bot]"
        ],
        [
         34996,
         "pull[bot]"
        ],
        [
         21791,
         "berolinux"
        ],
        [
         18454,
         "vercel[bot]"
        ],
        [
         18328,
         "aws-aemilia"
        ],
        [
         12031,
         "renovate[bot]"
        ],
        [
         9629,
         "github-classroom[bot]"
        ],
        [
         9619,
         "Butters3388214"
        ]
       ],
       "datasetInfos": [],
       "dbfsResultPath": null,
       "isJsonSchema": true,
       "metadata": {},
       "overflow": false,
       "plotOptions": {
        "customPlotOptions": {},
        "displayType": "table",
        "pivotAggregation": null,
        "pivotColumns": null,
        "xColumns": null,
        "yColumns": null
       },
       "removedWidgets": [],
       "schema": [
        {
         "metadata": "{}",
         "name": "count",
         "type": "\"long\""
        },
        {
         "metadata": "{}",
         "name": "user_login",
         "type": "\"string\""
        }
       ],
       "type": "table"
      }
     },
     "output_type": "display_data"
    }
   ],
   "source": [
    "#Top contributors by number of repos they are the biggest contributor in\n",
    "tip_top_contributor.join(user,tip_top_contributor.user_id==user.user_id,'left').sort('count',ascending=False).drop('user_id').limit(10).display()"
   ]
  },
  {
   "cell_type": "markdown",
   "metadata": {
    "application/vnd.databricks.v1+cell": {
     "cellMetadata": {},
     "inputWidgets": {},
     "nuid": "ad5b60de-13c1-4869-ad36-6aedf8fcb109",
     "showTitle": false,
     "title": ""
    }
   },
   "source": [
    "## Attempting to set up for NLP"
   ]
  },
  {
   "cell_type": "code",
   "execution_count": 0,
   "metadata": {
    "application/vnd.databricks.v1+cell": {
     "cellMetadata": {
      "byteLimit": 2048000,
      "rowLimit": 10000
     },
     "inputWidgets": {},
     "nuid": "001b40cb-2180-49cc-8f99-0970f7ba401c",
     "showTitle": false,
     "title": ""
    }
   },
   "outputs": [
    {
     "output_type": "stream",
     "name": "stdout",
     "output_type": "stream",
     "text": [
      "Collecting spark-nlp\r\n  Using cached spark_nlp-5.1.2-py2.py3-none-any.whl (536 kB)\r\nInstalling collected packages: spark-nlp\r\nSuccessfully installed spark-nlp-5.1.2\r\n\r\n\u001B[1m[\u001B[0m\u001B[34;49mnotice\u001B[0m\u001B[1;39;49m]\u001B[0m\u001B[39;49m A new release of pip available: \u001B[0m\u001B[31;49m22.2.2\u001B[0m\u001B[39;49m -> \u001B[0m\u001B[32;49m23.2.1\u001B[0m\r\n\u001B[1m[\u001B[0m\u001B[34;49mnotice\u001B[0m\u001B[1;39;49m]\u001B[0m\u001B[39;49m To update, run: \u001B[0m\u001B[32;49mpip install --upgrade pip\u001B[0m\r\n"
     ]
    }
   ],
   "source": [
    "!pip install spark-nlp"
   ]
  },
  {
   "cell_type": "code",
   "execution_count": 0,
   "metadata": {
    "application/vnd.databricks.v1+cell": {
     "cellMetadata": {
      "byteLimit": 2048000,
      "rowLimit": 10000
     },
     "inputWidgets": {},
     "nuid": "ccc4090d-9258-4594-8bb2-2e5125eabf1c",
     "showTitle": false,
     "title": ""
    }
   },
   "outputs": [],
   "source": [
    "from sparknlp.pretrained import PretrainedPipeline\n",
    "from sparknlp.annotator import LanguageDetectorDL\n",
    "from sparknlp.base import *\n",
    "# Does not work due to needing to install a JAR cluster wide\n",
    "# This can be found several stack overflow discussions.\n",
    "# The following is a possible solution, however it did not work for us\n",
    "from py4j.java_gateway import java_import\n",
    "java_import(spark._sc._jvm, \"org.apache.spark.sql.api.python.*\")\n",
    "\n",
    "documentAssembler = DocumentAssembler()\\\n",
    "    .setInputCol(\"text\")\\\n",
    "    .setOutputCol(\"document\")  # Will take your column name and output a diff name"
   ]
  }
 ],
 "metadata": {
  "application/vnd.databricks.v1+notebook": {
   "dashboards": [],
   "language": "python",
   "notebookMetadata": {
    "mostRecentlyExecutedCommandWithImplicitDF": {
     "commandId": 292190792588189,
     "dataframes": [
      "_sqldf"
     ]
    },
    "pythonIndentUnit": 4
   },
   "notebookName": "Jacob Anthony Queries",
   "widgets": {}
  }
 },
 "nbformat": 4,
 "nbformat_minor": 0
}
